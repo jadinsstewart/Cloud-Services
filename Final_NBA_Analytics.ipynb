{
  "nbformat": 4,
  "nbformat_minor": 0,
  "metadata": {
    "colab": {
      "provenance": [],
      "include_colab_link": true
    },
    "kernelspec": {
      "name": "python3",
      "display_name": "Python 3"
    },
    "language_info": {
      "name": "python"
    }
  },
  "cells": [
    {
      "cell_type": "markdown",
      "metadata": {
        "id": "view-in-github",
        "colab_type": "text"
      },
      "source": [
        "<a href=\"https://colab.research.google.com/github/jadinsstewart/Cloud-Services/blob/main/Final_NBA_Analytics.ipynb\" target=\"_parent\"><img src=\"https://colab.research.google.com/assets/colab-badge.svg\" alt=\"Open In Colab\"/></a>"
      ]
    },
    {
      "cell_type": "markdown",
      "source": [
        "Ella Archie (earchie@calpoly.edu)\n",
        "\n",
        "Jadin Stewart (jsstewar@calpoly.edu)\n",
        "\n",
        "GSB S521-01\n",
        "\n",
        "March 6th, 2023\n",
        "\n",
        "# <center> **Impact of Home Game Advantage by Sport** <center/>"
      ],
      "metadata": {
        "id": "G3dqYprwe6i6"
      }
    },
    {
      "cell_type": "markdown",
      "source": [
        "# Introduction"
      ],
      "metadata": {
        "id": "2dtz1enoGGIz"
      }
    },
    {
      "cell_type": "markdown",
      "source": [
        "In our previous analysis, we found a positive relationship between the percent of seats occupied in a stadium and the percent of home games that each NBA team wins. To further our analysis, we have decided to broaden our scope to four different leagues/sports: NBA (Basketball), MLB (Baseball), NFL (Football), and MLS (Soccer). We are looking to see if home field advantage impacts the percent of home games won differently based on the sport."
      ],
      "metadata": {
        "id": "1A73-ROWGICL"
      }
    },
    {
      "cell_type": "markdown",
      "source": [
        "# Hypothesis"
      ],
      "metadata": {
        "id": "mIv0P_rtG5Ym"
      }
    },
    {
      "cell_type": "markdown",
      "source": [
        "Due to the smaller stadium size and shorted distance between the fans and players, we predict that the NBA is going to be more impacted by playing in their own stadium than the MLB, NFL, or MLS. This means that they will have the greatest home field advantage (Percent of Home Games Won - Percent of Home Games Lost)"
      ],
      "metadata": {
        "id": "q6RT_d6xG6r5"
      }
    },
    {
      "cell_type": "code",
      "source": [
        "import pandas as pd  \n",
        "import json \n",
        "from urllib.request import urlopen \n",
        "import matplotlib.pyplot as plt\n",
        "import seaborn as sns\n",
        "import numpy as np\n",
        "from sklearn import datasets, linear_model\n",
        "from sklearn.linear_model import LinearRegression\n",
        "import statsmodels.api as sm\n",
        "from scipy import stats\n",
        "from IPython.display import Image\n",
        "import matplotlib.pyplot as plt\n",
        "from matplotlib.offsetbox import OffsetImage, AnnotationBbox"
      ],
      "metadata": {
        "id": "997Yh9WtgeaE",
        "colab": {
          "base_uri": "https://localhost:8080/",
          "height": 334
        },
        "outputId": "8f71c97d-387f-40af-bcde-2a6ce9f502e8"
      },
      "execution_count": 51,
      "outputs": [
        {
          "output_type": "error",
          "ename": "ModuleNotFoundError",
          "evalue": "ignored",
          "traceback": [
            "\u001b[0;31m---------------------------------------------------------------------------\u001b[0m",
            "\u001b[0;31mModuleNotFoundError\u001b[0m                       Traceback (most recent call last)",
            "\u001b[0;32m<ipython-input-51-699f4ed09576>\u001b[0m in \u001b[0;36m<module>\u001b[0;34m\u001b[0m\n\u001b[1;32m     12\u001b[0m \u001b[0;32mimport\u001b[0m \u001b[0mmatplotlib\u001b[0m\u001b[0;34m.\u001b[0m\u001b[0mpyplot\u001b[0m \u001b[0;32mas\u001b[0m \u001b[0mplt\u001b[0m\u001b[0;34m\u001b[0m\u001b[0;34m\u001b[0m\u001b[0m\n\u001b[1;32m     13\u001b[0m \u001b[0;32mfrom\u001b[0m \u001b[0mmatplotlib\u001b[0m\u001b[0;34m.\u001b[0m\u001b[0moffsetbox\u001b[0m \u001b[0;32mimport\u001b[0m \u001b[0mOffsetImage\u001b[0m\u001b[0;34m,\u001b[0m \u001b[0mAnnotationBbox\u001b[0m\u001b[0;34m\u001b[0m\u001b[0;34m\u001b[0m\u001b[0m\n\u001b[0;32m---> 14\u001b[0;31m \u001b[0;32mimport\u001b[0m \u001b[0mresearchpy\u001b[0m \u001b[0;32mas\u001b[0m \u001b[0mrp\u001b[0m\u001b[0;34m\u001b[0m\u001b[0;34m\u001b[0m\u001b[0m\n\u001b[0m",
            "\u001b[0;31mModuleNotFoundError\u001b[0m: No module named 'researchpy'",
            "",
            "\u001b[0;31m---------------------------------------------------------------------------\u001b[0;32m\nNOTE: If your import is failing due to a missing package, you can\nmanually install dependencies using either !pip or !apt.\n\nTo view examples of installing some common dependencies, click the\n\"Open Examples\" button below.\n\u001b[0;31m---------------------------------------------------------------------------\u001b[0m\n"
          ],
          "errorDetails": {
            "actions": [
              {
                "action": "open_url",
                "actionText": "Open Examples",
                "url": "/notebooks/snippets/importing_libraries.ipynb"
              }
            ]
          }
        }
      ]
    },
    {
      "cell_type": "markdown",
      "source": [
        "# Data Wrangling"
      ],
      "metadata": {
        "id": "hEmcPuvYHUgQ"
      }
    },
    {
      "cell_type": "markdown",
      "source": [
        "## NBA Data"
      ],
      "metadata": {
        "id": "ynlWeBCkfRtT"
      }
    },
    {
      "cell_type": "code",
      "execution_count": 44,
      "metadata": {
        "id": "ZSWkjpfedU2W",
        "colab": {
          "base_uri": "https://localhost:8080/",
          "height": 1000
        },
        "outputId": "cf2e5449-80ac-48bc-8769-24b7f3a15dcb"
      },
      "outputs": [
        {
          "output_type": "execute_result",
          "data": {
            "text/plain": [
              "             Team  Wins  Losses  Win Percent Home Record Away Record  \\\n",
              "0         Celtics    51      31        0.622       28-13       23-18   \n",
              "1           76ers    51      31        0.622       24-17       27-14   \n",
              "2         Raptors    48      34        0.585       24-17       24-17   \n",
              "3            Nets    44      38        0.537       20-21       24-17   \n",
              "4       NY Knicks    37      45        0.451       17-24       20-21   \n",
              "5           Bucks    51      31        0.622       27-14       24-17   \n",
              "6           Bulls    46      36        0.561       27-14       19-22   \n",
              "7       Cavaliers    44      38        0.537       25-16       19-22   \n",
              "8          Pacers    25      57        0.305       16-25        9-32   \n",
              "9         Pistons    23      59        0.280       13-28       10-31   \n",
              "10           Heat    53      29        0.646       29-12       24-17   \n",
              "11          Hawks    43      39        0.524       27-14       16-25   \n",
              "12        Hornets    43      39        0.524       22-19       21-20   \n",
              "13        Wizards    35      47        0.427       21-20       14-27   \n",
              "14          Magic    22      60        0.268       12-29       10-31   \n",
              "15           Jazz    49      33        0.598       29-12       20-21   \n",
              "16        Nuggets    48      34        0.585       23-18       25-16   \n",
              "17   Timberwolves    46      36        0.561       26-15       20-21   \n",
              "18  Trail Blazers    27      55        0.329       17-24       10-31   \n",
              "19        Thunder    24      58        0.293       12-29       12-29   \n",
              "20           Suns    64      18        0.780        32-9        32-9   \n",
              "21       Warriors    53      29        0.646       31-10       22-19   \n",
              "22       Clippers    42      40        0.512       25-16       17-24   \n",
              "23         Lakers    33      49        0.402       21-20       12-29   \n",
              "24          Kings    30      52        0.366       16-25       14-27   \n",
              "25      Grizzlies    56      26        0.683       30-11       26-15   \n",
              "26      Mavericks    52      30        0.634       29-12       23-18   \n",
              "27         Knicks    36      46        0.439       19-22       17-24   \n",
              "28          Spurs    34      48        0.415       16-25       18-23   \n",
              "29        Rockets    20      62        0.244       11-30        9-32   \n",
              "\n",
              "    Home Wins  Home Losses  Total Home Games  Home Win Percent  Away Wins  \\\n",
              "0          28           13                41         68.292683         23   \n",
              "1          24           17                41         58.536585         27   \n",
              "2          24           17                41         58.536585         24   \n",
              "3          20           21                41         48.780488         24   \n",
              "4          17           24                41         41.463415         20   \n",
              "5          27           14                41         65.853659         24   \n",
              "6          27           14                41         65.853659         19   \n",
              "7          25           16                41         60.975610         19   \n",
              "8          16           25                41         39.024390          9   \n",
              "9          13           28                41         31.707317         10   \n",
              "10         29           12                41         70.731707         24   \n",
              "11         27           14                41         65.853659         16   \n",
              "12         22           19                41         53.658537         21   \n",
              "13         21           20                41         51.219512         14   \n",
              "14         12           29                41         29.268293         10   \n",
              "15         29           12                41         70.731707         20   \n",
              "16         23           18                41         56.097561         25   \n",
              "17         26           15                41         63.414634         20   \n",
              "18         17           24                41         41.463415         10   \n",
              "19         12           29                41         29.268293         12   \n",
              "20         32            9                41         78.048780         32   \n",
              "21         31           10                41         75.609756         22   \n",
              "22         25           16                41         60.975610         17   \n",
              "23         21           20                41         51.219512         12   \n",
              "24         16           25                41         39.024390         14   \n",
              "25         30           11                41         73.170732         26   \n",
              "26         29           12                41         70.731707         23   \n",
              "27         19           22                41         46.341463         17   \n",
              "28         16           25                41         39.024390         18   \n",
              "29         11           30                41         26.829268          9   \n",
              "\n",
              "    Away Losses  Total Away Games  Away Win Percent  Home Advantage  \\\n",
              "0            18                41         56.097561       12.195122   \n",
              "1            14                41         65.853659       -7.317073   \n",
              "2            17                41         58.536585        0.000000   \n",
              "3            17                41         58.536585       -9.756098   \n",
              "4            21                41         48.780488       -7.317073   \n",
              "5            17                41         58.536585        7.317073   \n",
              "6            22                41         46.341463       19.512195   \n",
              "7            22                41         46.341463       14.634146   \n",
              "8            32                41         21.951220       17.073171   \n",
              "9            31                41         24.390244        7.317073   \n",
              "10           17                41         58.536585       12.195122   \n",
              "11           25                41         39.024390       26.829268   \n",
              "12           20                41         51.219512        2.439024   \n",
              "13           27                41         34.146341       17.073171   \n",
              "14           31                41         24.390244        4.878049   \n",
              "15           21                41         48.780488       21.951220   \n",
              "16           16                41         60.975610       -4.878049   \n",
              "17           21                41         48.780488       14.634146   \n",
              "18           31                41         24.390244       17.073171   \n",
              "19           29                41         29.268293        0.000000   \n",
              "20            9                41         78.048780        0.000000   \n",
              "21           19                41         53.658537       21.951220   \n",
              "22           24                41         41.463415       19.512195   \n",
              "23           29                41         29.268293       21.951220   \n",
              "24           27                41         34.146341        4.878049   \n",
              "25           15                41         63.414634        9.756098   \n",
              "26           18                41         56.097561       14.634146   \n",
              "27           24                41         41.463415        4.878049   \n",
              "28           23                41         43.902439       -4.878049   \n",
              "29           32                41         21.951220        4.878049   \n",
              "\n",
              "                 Path  \n",
              "0         Celtics.png  \n",
              "1           76ers.png  \n",
              "2         Raptors.png  \n",
              "3            Nets.png  \n",
              "4       NY Knicks.png  \n",
              "5           Bucks.png  \n",
              "6           Bulls.png  \n",
              "7       Cavaliers.png  \n",
              "8          Pacers.png  \n",
              "9         Pistons.png  \n",
              "10           Heat.png  \n",
              "11          Hawks.png  \n",
              "12        Hornets.png  \n",
              "13        Wizards.png  \n",
              "14          Magic.png  \n",
              "15           Jazz.png  \n",
              "16        Nuggets.png  \n",
              "17   Timberwolves.png  \n",
              "18  Trail Blazers.png  \n",
              "19        Thunder.png  \n",
              "20           Suns.png  \n",
              "21       Warriors.png  \n",
              "22       Clippers.png  \n",
              "23         Lakers.png  \n",
              "24          Kings.png  \n",
              "25      Grizzlies.png  \n",
              "26      Mavericks.png  \n",
              "27         Knicks.png  \n",
              "28          Spurs.png  \n",
              "29        Rockets.png  "
            ],
            "text/html": [
              "\n",
              "  <div id=\"df-8d9a44ed-ef39-4588-b6c2-a1946a86363b\">\n",
              "    <div class=\"colab-df-container\">\n",
              "      <div>\n",
              "<style scoped>\n",
              "    .dataframe tbody tr th:only-of-type {\n",
              "        vertical-align: middle;\n",
              "    }\n",
              "\n",
              "    .dataframe tbody tr th {\n",
              "        vertical-align: top;\n",
              "    }\n",
              "\n",
              "    .dataframe thead th {\n",
              "        text-align: right;\n",
              "    }\n",
              "</style>\n",
              "<table border=\"1\" class=\"dataframe\">\n",
              "  <thead>\n",
              "    <tr style=\"text-align: right;\">\n",
              "      <th></th>\n",
              "      <th>Team</th>\n",
              "      <th>Wins</th>\n",
              "      <th>Losses</th>\n",
              "      <th>Win Percent</th>\n",
              "      <th>Home Record</th>\n",
              "      <th>Away Record</th>\n",
              "      <th>Home Wins</th>\n",
              "      <th>Home Losses</th>\n",
              "      <th>Total Home Games</th>\n",
              "      <th>Home Win Percent</th>\n",
              "      <th>Away Wins</th>\n",
              "      <th>Away Losses</th>\n",
              "      <th>Total Away Games</th>\n",
              "      <th>Away Win Percent</th>\n",
              "      <th>Home Advantage</th>\n",
              "      <th>Path</th>\n",
              "    </tr>\n",
              "  </thead>\n",
              "  <tbody>\n",
              "    <tr>\n",
              "      <th>0</th>\n",
              "      <td>Celtics</td>\n",
              "      <td>51</td>\n",
              "      <td>31</td>\n",
              "      <td>0.622</td>\n",
              "      <td>28-13</td>\n",
              "      <td>23-18</td>\n",
              "      <td>28</td>\n",
              "      <td>13</td>\n",
              "      <td>41</td>\n",
              "      <td>68.292683</td>\n",
              "      <td>23</td>\n",
              "      <td>18</td>\n",
              "      <td>41</td>\n",
              "      <td>56.097561</td>\n",
              "      <td>12.195122</td>\n",
              "      <td>Celtics.png</td>\n",
              "    </tr>\n",
              "    <tr>\n",
              "      <th>1</th>\n",
              "      <td>76ers</td>\n",
              "      <td>51</td>\n",
              "      <td>31</td>\n",
              "      <td>0.622</td>\n",
              "      <td>24-17</td>\n",
              "      <td>27-14</td>\n",
              "      <td>24</td>\n",
              "      <td>17</td>\n",
              "      <td>41</td>\n",
              "      <td>58.536585</td>\n",
              "      <td>27</td>\n",
              "      <td>14</td>\n",
              "      <td>41</td>\n",
              "      <td>65.853659</td>\n",
              "      <td>-7.317073</td>\n",
              "      <td>76ers.png</td>\n",
              "    </tr>\n",
              "    <tr>\n",
              "      <th>2</th>\n",
              "      <td>Raptors</td>\n",
              "      <td>48</td>\n",
              "      <td>34</td>\n",
              "      <td>0.585</td>\n",
              "      <td>24-17</td>\n",
              "      <td>24-17</td>\n",
              "      <td>24</td>\n",
              "      <td>17</td>\n",
              "      <td>41</td>\n",
              "      <td>58.536585</td>\n",
              "      <td>24</td>\n",
              "      <td>17</td>\n",
              "      <td>41</td>\n",
              "      <td>58.536585</td>\n",
              "      <td>0.000000</td>\n",
              "      <td>Raptors.png</td>\n",
              "    </tr>\n",
              "    <tr>\n",
              "      <th>3</th>\n",
              "      <td>Nets</td>\n",
              "      <td>44</td>\n",
              "      <td>38</td>\n",
              "      <td>0.537</td>\n",
              "      <td>20-21</td>\n",
              "      <td>24-17</td>\n",
              "      <td>20</td>\n",
              "      <td>21</td>\n",
              "      <td>41</td>\n",
              "      <td>48.780488</td>\n",
              "      <td>24</td>\n",
              "      <td>17</td>\n",
              "      <td>41</td>\n",
              "      <td>58.536585</td>\n",
              "      <td>-9.756098</td>\n",
              "      <td>Nets.png</td>\n",
              "    </tr>\n",
              "    <tr>\n",
              "      <th>4</th>\n",
              "      <td>NY Knicks</td>\n",
              "      <td>37</td>\n",
              "      <td>45</td>\n",
              "      <td>0.451</td>\n",
              "      <td>17-24</td>\n",
              "      <td>20-21</td>\n",
              "      <td>17</td>\n",
              "      <td>24</td>\n",
              "      <td>41</td>\n",
              "      <td>41.463415</td>\n",
              "      <td>20</td>\n",
              "      <td>21</td>\n",
              "      <td>41</td>\n",
              "      <td>48.780488</td>\n",
              "      <td>-7.317073</td>\n",
              "      <td>NY Knicks.png</td>\n",
              "    </tr>\n",
              "    <tr>\n",
              "      <th>5</th>\n",
              "      <td>Bucks</td>\n",
              "      <td>51</td>\n",
              "      <td>31</td>\n",
              "      <td>0.622</td>\n",
              "      <td>27-14</td>\n",
              "      <td>24-17</td>\n",
              "      <td>27</td>\n",
              "      <td>14</td>\n",
              "      <td>41</td>\n",
              "      <td>65.853659</td>\n",
              "      <td>24</td>\n",
              "      <td>17</td>\n",
              "      <td>41</td>\n",
              "      <td>58.536585</td>\n",
              "      <td>7.317073</td>\n",
              "      <td>Bucks.png</td>\n",
              "    </tr>\n",
              "    <tr>\n",
              "      <th>6</th>\n",
              "      <td>Bulls</td>\n",
              "      <td>46</td>\n",
              "      <td>36</td>\n",
              "      <td>0.561</td>\n",
              "      <td>27-14</td>\n",
              "      <td>19-22</td>\n",
              "      <td>27</td>\n",
              "      <td>14</td>\n",
              "      <td>41</td>\n",
              "      <td>65.853659</td>\n",
              "      <td>19</td>\n",
              "      <td>22</td>\n",
              "      <td>41</td>\n",
              "      <td>46.341463</td>\n",
              "      <td>19.512195</td>\n",
              "      <td>Bulls.png</td>\n",
              "    </tr>\n",
              "    <tr>\n",
              "      <th>7</th>\n",
              "      <td>Cavaliers</td>\n",
              "      <td>44</td>\n",
              "      <td>38</td>\n",
              "      <td>0.537</td>\n",
              "      <td>25-16</td>\n",
              "      <td>19-22</td>\n",
              "      <td>25</td>\n",
              "      <td>16</td>\n",
              "      <td>41</td>\n",
              "      <td>60.975610</td>\n",
              "      <td>19</td>\n",
              "      <td>22</td>\n",
              "      <td>41</td>\n",
              "      <td>46.341463</td>\n",
              "      <td>14.634146</td>\n",
              "      <td>Cavaliers.png</td>\n",
              "    </tr>\n",
              "    <tr>\n",
              "      <th>8</th>\n",
              "      <td>Pacers</td>\n",
              "      <td>25</td>\n",
              "      <td>57</td>\n",
              "      <td>0.305</td>\n",
              "      <td>16-25</td>\n",
              "      <td>9-32</td>\n",
              "      <td>16</td>\n",
              "      <td>25</td>\n",
              "      <td>41</td>\n",
              "      <td>39.024390</td>\n",
              "      <td>9</td>\n",
              "      <td>32</td>\n",
              "      <td>41</td>\n",
              "      <td>21.951220</td>\n",
              "      <td>17.073171</td>\n",
              "      <td>Pacers.png</td>\n",
              "    </tr>\n",
              "    <tr>\n",
              "      <th>9</th>\n",
              "      <td>Pistons</td>\n",
              "      <td>23</td>\n",
              "      <td>59</td>\n",
              "      <td>0.280</td>\n",
              "      <td>13-28</td>\n",
              "      <td>10-31</td>\n",
              "      <td>13</td>\n",
              "      <td>28</td>\n",
              "      <td>41</td>\n",
              "      <td>31.707317</td>\n",
              "      <td>10</td>\n",
              "      <td>31</td>\n",
              "      <td>41</td>\n",
              "      <td>24.390244</td>\n",
              "      <td>7.317073</td>\n",
              "      <td>Pistons.png</td>\n",
              "    </tr>\n",
              "    <tr>\n",
              "      <th>10</th>\n",
              "      <td>Heat</td>\n",
              "      <td>53</td>\n",
              "      <td>29</td>\n",
              "      <td>0.646</td>\n",
              "      <td>29-12</td>\n",
              "      <td>24-17</td>\n",
              "      <td>29</td>\n",
              "      <td>12</td>\n",
              "      <td>41</td>\n",
              "      <td>70.731707</td>\n",
              "      <td>24</td>\n",
              "      <td>17</td>\n",
              "      <td>41</td>\n",
              "      <td>58.536585</td>\n",
              "      <td>12.195122</td>\n",
              "      <td>Heat.png</td>\n",
              "    </tr>\n",
              "    <tr>\n",
              "      <th>11</th>\n",
              "      <td>Hawks</td>\n",
              "      <td>43</td>\n",
              "      <td>39</td>\n",
              "      <td>0.524</td>\n",
              "      <td>27-14</td>\n",
              "      <td>16-25</td>\n",
              "      <td>27</td>\n",
              "      <td>14</td>\n",
              "      <td>41</td>\n",
              "      <td>65.853659</td>\n",
              "      <td>16</td>\n",
              "      <td>25</td>\n",
              "      <td>41</td>\n",
              "      <td>39.024390</td>\n",
              "      <td>26.829268</td>\n",
              "      <td>Hawks.png</td>\n",
              "    </tr>\n",
              "    <tr>\n",
              "      <th>12</th>\n",
              "      <td>Hornets</td>\n",
              "      <td>43</td>\n",
              "      <td>39</td>\n",
              "      <td>0.524</td>\n",
              "      <td>22-19</td>\n",
              "      <td>21-20</td>\n",
              "      <td>22</td>\n",
              "      <td>19</td>\n",
              "      <td>41</td>\n",
              "      <td>53.658537</td>\n",
              "      <td>21</td>\n",
              "      <td>20</td>\n",
              "      <td>41</td>\n",
              "      <td>51.219512</td>\n",
              "      <td>2.439024</td>\n",
              "      <td>Hornets.png</td>\n",
              "    </tr>\n",
              "    <tr>\n",
              "      <th>13</th>\n",
              "      <td>Wizards</td>\n",
              "      <td>35</td>\n",
              "      <td>47</td>\n",
              "      <td>0.427</td>\n",
              "      <td>21-20</td>\n",
              "      <td>14-27</td>\n",
              "      <td>21</td>\n",
              "      <td>20</td>\n",
              "      <td>41</td>\n",
              "      <td>51.219512</td>\n",
              "      <td>14</td>\n",
              "      <td>27</td>\n",
              "      <td>41</td>\n",
              "      <td>34.146341</td>\n",
              "      <td>17.073171</td>\n",
              "      <td>Wizards.png</td>\n",
              "    </tr>\n",
              "    <tr>\n",
              "      <th>14</th>\n",
              "      <td>Magic</td>\n",
              "      <td>22</td>\n",
              "      <td>60</td>\n",
              "      <td>0.268</td>\n",
              "      <td>12-29</td>\n",
              "      <td>10-31</td>\n",
              "      <td>12</td>\n",
              "      <td>29</td>\n",
              "      <td>41</td>\n",
              "      <td>29.268293</td>\n",
              "      <td>10</td>\n",
              "      <td>31</td>\n",
              "      <td>41</td>\n",
              "      <td>24.390244</td>\n",
              "      <td>4.878049</td>\n",
              "      <td>Magic.png</td>\n",
              "    </tr>\n",
              "    <tr>\n",
              "      <th>15</th>\n",
              "      <td>Jazz</td>\n",
              "      <td>49</td>\n",
              "      <td>33</td>\n",
              "      <td>0.598</td>\n",
              "      <td>29-12</td>\n",
              "      <td>20-21</td>\n",
              "      <td>29</td>\n",
              "      <td>12</td>\n",
              "      <td>41</td>\n",
              "      <td>70.731707</td>\n",
              "      <td>20</td>\n",
              "      <td>21</td>\n",
              "      <td>41</td>\n",
              "      <td>48.780488</td>\n",
              "      <td>21.951220</td>\n",
              "      <td>Jazz.png</td>\n",
              "    </tr>\n",
              "    <tr>\n",
              "      <th>16</th>\n",
              "      <td>Nuggets</td>\n",
              "      <td>48</td>\n",
              "      <td>34</td>\n",
              "      <td>0.585</td>\n",
              "      <td>23-18</td>\n",
              "      <td>25-16</td>\n",
              "      <td>23</td>\n",
              "      <td>18</td>\n",
              "      <td>41</td>\n",
              "      <td>56.097561</td>\n",
              "      <td>25</td>\n",
              "      <td>16</td>\n",
              "      <td>41</td>\n",
              "      <td>60.975610</td>\n",
              "      <td>-4.878049</td>\n",
              "      <td>Nuggets.png</td>\n",
              "    </tr>\n",
              "    <tr>\n",
              "      <th>17</th>\n",
              "      <td>Timberwolves</td>\n",
              "      <td>46</td>\n",
              "      <td>36</td>\n",
              "      <td>0.561</td>\n",
              "      <td>26-15</td>\n",
              "      <td>20-21</td>\n",
              "      <td>26</td>\n",
              "      <td>15</td>\n",
              "      <td>41</td>\n",
              "      <td>63.414634</td>\n",
              "      <td>20</td>\n",
              "      <td>21</td>\n",
              "      <td>41</td>\n",
              "      <td>48.780488</td>\n",
              "      <td>14.634146</td>\n",
              "      <td>Timberwolves.png</td>\n",
              "    </tr>\n",
              "    <tr>\n",
              "      <th>18</th>\n",
              "      <td>Trail Blazers</td>\n",
              "      <td>27</td>\n",
              "      <td>55</td>\n",
              "      <td>0.329</td>\n",
              "      <td>17-24</td>\n",
              "      <td>10-31</td>\n",
              "      <td>17</td>\n",
              "      <td>24</td>\n",
              "      <td>41</td>\n",
              "      <td>41.463415</td>\n",
              "      <td>10</td>\n",
              "      <td>31</td>\n",
              "      <td>41</td>\n",
              "      <td>24.390244</td>\n",
              "      <td>17.073171</td>\n",
              "      <td>Trail Blazers.png</td>\n",
              "    </tr>\n",
              "    <tr>\n",
              "      <th>19</th>\n",
              "      <td>Thunder</td>\n",
              "      <td>24</td>\n",
              "      <td>58</td>\n",
              "      <td>0.293</td>\n",
              "      <td>12-29</td>\n",
              "      <td>12-29</td>\n",
              "      <td>12</td>\n",
              "      <td>29</td>\n",
              "      <td>41</td>\n",
              "      <td>29.268293</td>\n",
              "      <td>12</td>\n",
              "      <td>29</td>\n",
              "      <td>41</td>\n",
              "      <td>29.268293</td>\n",
              "      <td>0.000000</td>\n",
              "      <td>Thunder.png</td>\n",
              "    </tr>\n",
              "    <tr>\n",
              "      <th>20</th>\n",
              "      <td>Suns</td>\n",
              "      <td>64</td>\n",
              "      <td>18</td>\n",
              "      <td>0.780</td>\n",
              "      <td>32-9</td>\n",
              "      <td>32-9</td>\n",
              "      <td>32</td>\n",
              "      <td>9</td>\n",
              "      <td>41</td>\n",
              "      <td>78.048780</td>\n",
              "      <td>32</td>\n",
              "      <td>9</td>\n",
              "      <td>41</td>\n",
              "      <td>78.048780</td>\n",
              "      <td>0.000000</td>\n",
              "      <td>Suns.png</td>\n",
              "    </tr>\n",
              "    <tr>\n",
              "      <th>21</th>\n",
              "      <td>Warriors</td>\n",
              "      <td>53</td>\n",
              "      <td>29</td>\n",
              "      <td>0.646</td>\n",
              "      <td>31-10</td>\n",
              "      <td>22-19</td>\n",
              "      <td>31</td>\n",
              "      <td>10</td>\n",
              "      <td>41</td>\n",
              "      <td>75.609756</td>\n",
              "      <td>22</td>\n",
              "      <td>19</td>\n",
              "      <td>41</td>\n",
              "      <td>53.658537</td>\n",
              "      <td>21.951220</td>\n",
              "      <td>Warriors.png</td>\n",
              "    </tr>\n",
              "    <tr>\n",
              "      <th>22</th>\n",
              "      <td>Clippers</td>\n",
              "      <td>42</td>\n",
              "      <td>40</td>\n",
              "      <td>0.512</td>\n",
              "      <td>25-16</td>\n",
              "      <td>17-24</td>\n",
              "      <td>25</td>\n",
              "      <td>16</td>\n",
              "      <td>41</td>\n",
              "      <td>60.975610</td>\n",
              "      <td>17</td>\n",
              "      <td>24</td>\n",
              "      <td>41</td>\n",
              "      <td>41.463415</td>\n",
              "      <td>19.512195</td>\n",
              "      <td>Clippers.png</td>\n",
              "    </tr>\n",
              "    <tr>\n",
              "      <th>23</th>\n",
              "      <td>Lakers</td>\n",
              "      <td>33</td>\n",
              "      <td>49</td>\n",
              "      <td>0.402</td>\n",
              "      <td>21-20</td>\n",
              "      <td>12-29</td>\n",
              "      <td>21</td>\n",
              "      <td>20</td>\n",
              "      <td>41</td>\n",
              "      <td>51.219512</td>\n",
              "      <td>12</td>\n",
              "      <td>29</td>\n",
              "      <td>41</td>\n",
              "      <td>29.268293</td>\n",
              "      <td>21.951220</td>\n",
              "      <td>Lakers.png</td>\n",
              "    </tr>\n",
              "    <tr>\n",
              "      <th>24</th>\n",
              "      <td>Kings</td>\n",
              "      <td>30</td>\n",
              "      <td>52</td>\n",
              "      <td>0.366</td>\n",
              "      <td>16-25</td>\n",
              "      <td>14-27</td>\n",
              "      <td>16</td>\n",
              "      <td>25</td>\n",
              "      <td>41</td>\n",
              "      <td>39.024390</td>\n",
              "      <td>14</td>\n",
              "      <td>27</td>\n",
              "      <td>41</td>\n",
              "      <td>34.146341</td>\n",
              "      <td>4.878049</td>\n",
              "      <td>Kings.png</td>\n",
              "    </tr>\n",
              "    <tr>\n",
              "      <th>25</th>\n",
              "      <td>Grizzlies</td>\n",
              "      <td>56</td>\n",
              "      <td>26</td>\n",
              "      <td>0.683</td>\n",
              "      <td>30-11</td>\n",
              "      <td>26-15</td>\n",
              "      <td>30</td>\n",
              "      <td>11</td>\n",
              "      <td>41</td>\n",
              "      <td>73.170732</td>\n",
              "      <td>26</td>\n",
              "      <td>15</td>\n",
              "      <td>41</td>\n",
              "      <td>63.414634</td>\n",
              "      <td>9.756098</td>\n",
              "      <td>Grizzlies.png</td>\n",
              "    </tr>\n",
              "    <tr>\n",
              "      <th>26</th>\n",
              "      <td>Mavericks</td>\n",
              "      <td>52</td>\n",
              "      <td>30</td>\n",
              "      <td>0.634</td>\n",
              "      <td>29-12</td>\n",
              "      <td>23-18</td>\n",
              "      <td>29</td>\n",
              "      <td>12</td>\n",
              "      <td>41</td>\n",
              "      <td>70.731707</td>\n",
              "      <td>23</td>\n",
              "      <td>18</td>\n",
              "      <td>41</td>\n",
              "      <td>56.097561</td>\n",
              "      <td>14.634146</td>\n",
              "      <td>Mavericks.png</td>\n",
              "    </tr>\n",
              "    <tr>\n",
              "      <th>27</th>\n",
              "      <td>Knicks</td>\n",
              "      <td>36</td>\n",
              "      <td>46</td>\n",
              "      <td>0.439</td>\n",
              "      <td>19-22</td>\n",
              "      <td>17-24</td>\n",
              "      <td>19</td>\n",
              "      <td>22</td>\n",
              "      <td>41</td>\n",
              "      <td>46.341463</td>\n",
              "      <td>17</td>\n",
              "      <td>24</td>\n",
              "      <td>41</td>\n",
              "      <td>41.463415</td>\n",
              "      <td>4.878049</td>\n",
              "      <td>Knicks.png</td>\n",
              "    </tr>\n",
              "    <tr>\n",
              "      <th>28</th>\n",
              "      <td>Spurs</td>\n",
              "      <td>34</td>\n",
              "      <td>48</td>\n",
              "      <td>0.415</td>\n",
              "      <td>16-25</td>\n",
              "      <td>18-23</td>\n",
              "      <td>16</td>\n",
              "      <td>25</td>\n",
              "      <td>41</td>\n",
              "      <td>39.024390</td>\n",
              "      <td>18</td>\n",
              "      <td>23</td>\n",
              "      <td>41</td>\n",
              "      <td>43.902439</td>\n",
              "      <td>-4.878049</td>\n",
              "      <td>Spurs.png</td>\n",
              "    </tr>\n",
              "    <tr>\n",
              "      <th>29</th>\n",
              "      <td>Rockets</td>\n",
              "      <td>20</td>\n",
              "      <td>62</td>\n",
              "      <td>0.244</td>\n",
              "      <td>11-30</td>\n",
              "      <td>9-32</td>\n",
              "      <td>11</td>\n",
              "      <td>30</td>\n",
              "      <td>41</td>\n",
              "      <td>26.829268</td>\n",
              "      <td>9</td>\n",
              "      <td>32</td>\n",
              "      <td>41</td>\n",
              "      <td>21.951220</td>\n",
              "      <td>4.878049</td>\n",
              "      <td>Rockets.png</td>\n",
              "    </tr>\n",
              "  </tbody>\n",
              "</table>\n",
              "</div>\n",
              "      <button class=\"colab-df-convert\" onclick=\"convertToInteractive('df-8d9a44ed-ef39-4588-b6c2-a1946a86363b')\"\n",
              "              title=\"Convert this dataframe to an interactive table.\"\n",
              "              style=\"display:none;\">\n",
              "        \n",
              "  <svg xmlns=\"http://www.w3.org/2000/svg\" height=\"24px\"viewBox=\"0 0 24 24\"\n",
              "       width=\"24px\">\n",
              "    <path d=\"M0 0h24v24H0V0z\" fill=\"none\"/>\n",
              "    <path d=\"M18.56 5.44l.94 2.06.94-2.06 2.06-.94-2.06-.94-.94-2.06-.94 2.06-2.06.94zm-11 1L8.5 8.5l.94-2.06 2.06-.94-2.06-.94L8.5 2.5l-.94 2.06-2.06.94zm10 10l.94 2.06.94-2.06 2.06-.94-2.06-.94-.94-2.06-.94 2.06-2.06.94z\"/><path d=\"M17.41 7.96l-1.37-1.37c-.4-.4-.92-.59-1.43-.59-.52 0-1.04.2-1.43.59L10.3 9.45l-7.72 7.72c-.78.78-.78 2.05 0 2.83L4 21.41c.39.39.9.59 1.41.59.51 0 1.02-.2 1.41-.59l7.78-7.78 2.81-2.81c.8-.78.8-2.07 0-2.86zM5.41 20L4 18.59l7.72-7.72 1.47 1.35L5.41 20z\"/>\n",
              "  </svg>\n",
              "      </button>\n",
              "      \n",
              "  <style>\n",
              "    .colab-df-container {\n",
              "      display:flex;\n",
              "      flex-wrap:wrap;\n",
              "      gap: 12px;\n",
              "    }\n",
              "\n",
              "    .colab-df-convert {\n",
              "      background-color: #E8F0FE;\n",
              "      border: none;\n",
              "      border-radius: 50%;\n",
              "      cursor: pointer;\n",
              "      display: none;\n",
              "      fill: #1967D2;\n",
              "      height: 32px;\n",
              "      padding: 0 0 0 0;\n",
              "      width: 32px;\n",
              "    }\n",
              "\n",
              "    .colab-df-convert:hover {\n",
              "      background-color: #E2EBFA;\n",
              "      box-shadow: 0px 1px 2px rgba(60, 64, 67, 0.3), 0px 1px 3px 1px rgba(60, 64, 67, 0.15);\n",
              "      fill: #174EA6;\n",
              "    }\n",
              "\n",
              "    [theme=dark] .colab-df-convert {\n",
              "      background-color: #3B4455;\n",
              "      fill: #D2E3FC;\n",
              "    }\n",
              "\n",
              "    [theme=dark] .colab-df-convert:hover {\n",
              "      background-color: #434B5C;\n",
              "      box-shadow: 0px 1px 3px 1px rgba(0, 0, 0, 0.15);\n",
              "      filter: drop-shadow(0px 1px 2px rgba(0, 0, 0, 0.3));\n",
              "      fill: #FFFFFF;\n",
              "    }\n",
              "  </style>\n",
              "\n",
              "      <script>\n",
              "        const buttonEl =\n",
              "          document.querySelector('#df-8d9a44ed-ef39-4588-b6c2-a1946a86363b button.colab-df-convert');\n",
              "        buttonEl.style.display =\n",
              "          google.colab.kernel.accessAllowed ? 'block' : 'none';\n",
              "\n",
              "        async function convertToInteractive(key) {\n",
              "          const element = document.querySelector('#df-8d9a44ed-ef39-4588-b6c2-a1946a86363b');\n",
              "          const dataTable =\n",
              "            await google.colab.kernel.invokeFunction('convertToInteractive',\n",
              "                                                     [key], {});\n",
              "          if (!dataTable) return;\n",
              "\n",
              "          const docLinkHtml = 'Like what you see? Visit the ' +\n",
              "            '<a target=\"_blank\" href=https://colab.research.google.com/notebooks/data_table.ipynb>data table notebook</a>'\n",
              "            + ' to learn more about interactive tables.';\n",
              "          element.innerHTML = '';\n",
              "          dataTable['output_type'] = 'display_data';\n",
              "          await google.colab.output.renderOutput(dataTable, element);\n",
              "          const docLink = document.createElement('div');\n",
              "          docLink.innerHTML = docLinkHtml;\n",
              "          element.appendChild(docLink);\n",
              "        }\n",
              "      </script>\n",
              "    </div>\n",
              "  </div>\n",
              "  "
            ]
          },
          "metadata": {},
          "execution_count": 44
        }
      ],
      "source": [
        "nba = pd.read_html(\"https://www.covers.com/sport/basketball/nba/standings/2021-2022\")\n",
        "nba_df = nba[0]\n",
        "nba_df = nba_df.drop(nba_df.columns[[6,7,8,9]], axis=1)\n",
        "nba_df.columns = (\"Team\", \"Wins\", \"Losses\", \"Win Percent\", \"Home Record\", \"Away Record\", \"b\", \"c\", \"d\", \"e\")\n",
        "nba_df = nba_df.drop(columns=['b', 'c', 'd', 'e'])\n",
        "\n",
        "team_names = {\"Boston\":\"Celtics\",\"Philadelphia\":\"76ers\",\"Toronto\":\"Raptors\", \"Brooklyn\":\"Nets\",\"New York\":\"NY Knicks\",\n",
        "              \"Milwaukee\":\"Bucks\",\"Chicago\":\"Bulls\",\"Cleveland\":\"Cavaliers\",\"Indiana\":\"Pacers\",\n",
        "              \"Detroit\":\"Pistons\",\"Miami\":\"Heat\",\"Atlanta\":\"Hawks\",\"Charlotte\":\"Hornets\",\n",
        "              \"Washington\":\"Wizards\",\"Orlando\":\"Magic\",\"Utah\":\"Jazz\",\"Denver\":\"Nuggets\",\"Minnesota\":\"Timberwolves\",\n",
        "              \"Portland\":\"Trail Blazers\",\"Oklahoma City\":\"Thunder\",\"Phoenix\":\"Suns\",\"Golden State\":\"Warriors\",\n",
        "              \"L.A. Clippers\": \"Clippers\", \"L.A. Lakers\":\"Lakers\",\"Sacramento\":\"Kings\",\"Memphis\":\"Grizzlies\",\n",
        "              \"Dallas\":\"Mavericks\", \"New Orleans\":\"Knicks\",\"San Antonio\":\"Spurs\",\"Houston\":\"Rockets\"}\n",
        "\n",
        "nba_df['Team'] = nba_df['Team'].map(team_names)\n",
        "my_split = nba_df['Home Record'].str.split(\"-\", n = 1, expand = True)\n",
        "nba_df['Home Wins'] = my_split[0]\n",
        "nba_df['Home Losses'] = my_split[1]\n",
        "nba_df['Home Wins'] = pd.to_numeric(nba_df['Home Wins'])\n",
        "nba_df['Home Losses'] = pd.to_numeric(nba_df['Home Losses'])\n",
        "nba_df['Total Home Games'] = nba_df['Home Wins'] + nba_df['Home Losses']\n",
        "nba_df['Home Win Percent'] = (nba_df['Home Wins'] / nba_df['Total Home Games']) * 100\n",
        "\n",
        "my_split2 = nba_df['Away Record'].str.split(\"-\", n = 1, expand = True)\n",
        "nba_df['Away Wins'] = my_split2[0]\n",
        "nba_df['Away Losses'] = my_split2[1]\n",
        "nba_df['Away Wins'] = pd.to_numeric(nba_df['Away Wins'])\n",
        "nba_df['Away Losses'] = pd.to_numeric(nba_df['Away Losses'])\n",
        "nba_df['Total Away Games'] = nba_df['Away Wins'] + nba_df['Away Losses']\n",
        "nba_df['Away Win Percent'] = (nba_df['Away Wins'] / nba_df['Total Away Games']) * 100\n",
        "nba_df['Home Advantage'] = nba_df['Home Win Percent'] - nba_df['Away Win Percent']\n",
        "\n",
        "nba_df['Path'] = nba_df['Team'] + '.png'"
      ]
    },
    {
      "cell_type": "markdown",
      "source": [
        "## MLB Data"
      ],
      "metadata": {
        "id": "2EFZGsAAiLTG"
      }
    },
    {
      "cell_type": "code",
      "source": [
        "# Home Record\n",
        "mlb_home = pd.read_html(\"https://www.teamrankings.com/mlb/trends/win_trends/?sc=is_home&range=yearly_mlb_2021\")\n",
        "mlb_home_df = mlb_home[0]\n",
        "mlb_home_df = mlb_home_df.drop(mlb_home_df.columns[[2,3,4]], axis=1)\n",
        "mlb_home_df.columns = (\"Team\", \"Home Record\")\n",
        "my_split = mlb_home_df['Home Record'].str.split(\"-\", n = 2, expand = True)\n",
        "mlb_home_df['Home Wins'] = my_split[0]\n",
        "mlb_home_df['Home Losses'] = my_split[1]\n",
        "mlb_home_df['Home Ties'] = my_split[2]\n",
        "mlb_home_df['Home Wins'] = pd.to_numeric(mlb_home_df['Home Wins'])\n",
        "mlb_home_df['Home Losses'] = pd.to_numeric(mlb_home_df['Home Losses'])\n",
        "mlb_home_df['Home Ties'] = pd.to_numeric(mlb_home_df['Home Ties'])\n",
        "mlb_home_df['Total Home Games'] = mlb_home_df['Home Wins'] + mlb_home_df['Home Losses'] + mlb_home_df['Home Ties']\n",
        "mlb_home_df['Home Win Percent'] = (mlb_home_df['Home Wins'] / mlb_home_df['Total Home Games']) * 100"
      ],
      "metadata": {
        "id": "FWAvRJ1qiN7A"
      },
      "execution_count": 3,
      "outputs": []
    },
    {
      "cell_type": "code",
      "source": [
        "# Away Record\n",
        "mlb_away = pd.read_html(\"https://www.teamrankings.com/mlb/trends/win_trends/?sc=is_away&range=yearly_mlb_2021\")\n",
        "mlb_away_df = mlb_away[0]\n",
        "mlb_away_df = mlb_away_df.drop(mlb_away_df.columns[[2,3,4]], axis=1)\n",
        "mlb_away_df.columns = (\"Team\", \"Away Record\")\n",
        "my_split2 = mlb_away_df['Away Record'].str.split(\"-\", n = 2, expand = True)\n",
        "mlb_away_df['Away Wins'] = my_split2[0]\n",
        "mlb_away_df['Away Losses'] = my_split2[1]\n",
        "mlb_away_df['Away Ties'] = my_split2[2]\n",
        "mlb_away_df['Away Wins'] = pd.to_numeric(mlb_away_df['Away Wins'])\n",
        "mlb_away_df['Away Losses'] = pd.to_numeric(mlb_away_df['Away Losses'])\n",
        "mlb_away_df['Away Ties'] = pd.to_numeric(mlb_away_df['Away Ties'])\n",
        "mlb_away_df['Total Away Games'] = mlb_away_df['Away Wins'] + mlb_away_df['Away Losses'] + mlb_away_df['Away Ties']\n",
        "mlb_away_df['Away Win Percent'] = (mlb_away_df['Away Wins'] / mlb_away_df['Total Away Games']) * 100"
      ],
      "metadata": {
        "id": "er_j0Eo1k_wj"
      },
      "execution_count": 4,
      "outputs": []
    },
    {
      "cell_type": "code",
      "source": [
        "# Merge\n",
        "mlb_df = pd.merge(mlb_home_df, mlb_away_df, on=[\"Team\", \"Team\"])\n",
        "mlb_df['Home Advantage'] = mlb_df['Home Win Percent'] - mlb_df['Away Win Percent']"
      ],
      "metadata": {
        "id": "Zq-ctWihlJjT"
      },
      "execution_count": 5,
      "outputs": []
    },
    {
      "cell_type": "markdown",
      "source": [
        "## NFL Data"
      ],
      "metadata": {
        "id": "RNxCYLM-leOz"
      }
    },
    {
      "cell_type": "code",
      "source": [
        "nfl = pd.read_html(\"https://www.nfl.com/standings/league/2021/reg\")\n",
        "nfl_df = nfl[0]\n",
        "nfl_df = nfl_df.drop(nfl_df.columns[[1,2,3,4,5,6,7,10,11,12,13,14,15,16]], axis=1)\n",
        "my_split = nfl_df['Home'].str.split(\"-\", n = 2, expand = True)\n",
        "nfl_df['Home Wins'] = my_split[0]\n",
        "nfl_df['Home Losses'] = my_split[1]\n",
        "nfl_df['Home Ties'] = my_split[2]\n",
        "nfl_df['Home Wins'] = pd.to_numeric(nfl_df['Home Wins'])\n",
        "nfl_df['Home Losses'] = pd.to_numeric(nfl_df['Home Losses'])\n",
        "nfl_df['Home Ties'] = pd.to_numeric(nfl_df['Home Ties'])\n",
        "nfl_df['Total Home Games'] = nfl_df['Home Wins'] + nfl_df['Home Losses'] + nfl_df['Home Ties']\n",
        "nfl_df['Home Win Percent'] = (nfl_df['Home Wins'] / nfl_df['Total Home Games']) * 100\n",
        "\n",
        "my_split2 = nfl_df['Road'].str.split(\"-\", n = 2, expand = True)\n",
        "nfl_df['Away Wins'] = my_split2[0]\n",
        "nfl_df['Away Losses'] = my_split2[1]\n",
        "nfl_df['Away Ties'] = my_split2[2]\n",
        "nfl_df['Away Wins'] = pd.to_numeric(nfl_df['Away Wins'])\n",
        "nfl_df['Away Losses'] = pd.to_numeric(nfl_df['Away Losses'])\n",
        "nfl_df['Away Ties'] = pd.to_numeric(nfl_df['Away Ties'])\n",
        "nfl_df['Total Away Games'] = nfl_df['Away Wins'] + nfl_df['Away Losses'] + nfl_df['Away Ties']\n",
        "nfl_df['Away Win Percent'] = (nfl_df['Away Wins'] / nfl_df['Total Away Games']) * 100\n",
        "nfl_df['Home Advantage'] = nfl_df['Home Win Percent'] - nfl_df['Away Win Percent']\n",
        "nfl_df.rename(columns = {\"NFL Team\": \"Team\"}, inplace = True)\n",
        "\n",
        "team_messy = {'Detroit LionsLions': 'Detroit Lions', 'Jacksonville JaguarsJaguars': 'Jacksonville Jaguars',\n",
        "                      'Houston TexansTexans': 'Houston Texans', 'New York GiantsGiants': 'New York Giants', \n",
        "                      'New York JetsJets': 'New York Jets', 'Carolina PanthersPanthers': 'Carolina Panthers',\n",
        "                      'Chicago BearsBears': 'Chicago Bears', 'Atlanta FalconsFalcons': 'Atlanta Falcons', \n",
        "                      'Denver BroncosBroncos': 'Denver Broncos', 'Seattle SeahawksSeahawks': 'Seattle Seahawks',\n",
        "                      'Washington CommandersFootball Team': 'Washington Commanders', 'Baltimore RavensRavens': 'Baltimore Ravens', \n",
        "                      'Cleveland BrownsBrowns': 'Cleveland Browns', 'Minnesota VikingsVikings': 'Minnesota Vikings', \n",
        "                      'Indianapolis ColtsColts': 'Indianapolis Colts', 'Los Angeles ChargersChargers': 'Los Angeles Chargers', \n",
        "                      'Miami DolphinsDolphins': 'Miami Dolphins', 'New Orleans SaintsSaints': 'New Orleans Saints',\n",
        "                      'Philadelphia Eagles xyEagles xy': 'Philadelphia Eagles', 'Pittsburgh Steelers xySteelers xy': 'Pittsburgh Steelers', \n",
        "                      'Cincinnati Bengals xzBengals xz': 'Cincinnati Bengals', 'Las Vegas Raiders xyRaiders xy': 'Las Vegas Raiders',\n",
        "                      'New England Patriots xyPatriots xy': 'New England Patriots', 'San Francisco 49ers xy49ers xy': 'San Francisco 49ers', \n",
        "                      'Arizona Cardinals xyCardinals xy': 'Arizona Cardinals', 'Buffalo Bills xzBills xz': 'Buffalo Bills',\n",
        "                      'Dallas Cowboys xzCowboys xz': 'Dallas Cowboys', 'Kansas City Chiefs xzChiefs xz': 'Kansas City Chiefs', \n",
        "                      'Los Angeles Rams xzRams xz': 'Los Angeles Rams', 'Tennessee Titans xz*Titans xz*': 'Tennessee Titans',\n",
        "                      'Green Bay Packers xz*Packers xz*': 'Green Bay Packers', 'Tampa Bay Buccaneers xzBuccaneers xz': 'Tampa Bay Buccaneers'}\n",
        "\n",
        "nfl_df['Team'] = nfl_df['Team'].map(team_messy)"
      ],
      "metadata": {
        "id": "5MHEsTo8lgS7"
      },
      "execution_count": 11,
      "outputs": []
    },
    {
      "cell_type": "markdown",
      "source": [
        "## MLS Data"
      ],
      "metadata": {
        "id": "YU5L6WeXnEeY"
      }
    },
    {
      "cell_type": "code",
      "source": [
        "# Home\n",
        "mls = pd.read_html(\"https://footballdatabase.com/league-scores-tables/united-states-mls-2021\")\n",
        "mls_home_df = mls[1]\n",
        "mls_home_df = mls_home_df.drop(mls_home_df.columns[[0,2,3,8,9]], axis=1)\n",
        "mls_home_df.columns = (\"Team\", \"Total Home Games\", \"Home Wins\", \"Home Ties\", \"Home Losses\")\n",
        "mls_home_df['Home Wins'] = pd.to_numeric(mls_home_df['Home Wins'])\n",
        "mls_home_df['Home Losses'] = pd.to_numeric(mls_home_df['Home Losses'])\n",
        "mls_home_df['Home Ties'] = pd.to_numeric(mls_home_df['Home Ties'])\n",
        "mls_home_df['Total Home Games'] = pd.to_numeric(mls_home_df['Total Home Games'])\n",
        "mls_home_df['Home Win Percent'] = (mls_home_df['Home Wins'] / mls_home_df['Total Home Games']) * 100"
      ],
      "metadata": {
        "id": "ozSBuz7znGik"
      },
      "execution_count": 12,
      "outputs": []
    },
    {
      "cell_type": "code",
      "source": [
        "# Away\n",
        "mls = pd.read_html(\"https://footballdatabase.com/league-scores-tables/united-states-mls-2021\")\n",
        "mls_away_df = mls[2]\n",
        "mls_away_df = mls_away_df.drop(mls_away_df.columns[[0,2,3,8,9]], axis=1)\n",
        "mls_away_df.columns = (\"Team\", \"Total Away Games\", \"Away Wins\", \"Away Ties\", \"Away Losses\")\n",
        "mls_away_df['Away Wins'] = pd.to_numeric(mls_away_df['Away Wins'])\n",
        "mls_away_df['Away Losses'] = pd.to_numeric(mls_away_df['Away Losses'])\n",
        "mls_away_df['Away Ties'] = pd.to_numeric(mls_away_df['Away Ties'])\n",
        "mls_away_df['Total Away Games'] = pd.to_numeric(mls_away_df['Total Away Games'])\n",
        "mls_away_df['Away Win Percent'] = (mls_away_df['Away Wins'] / mls_away_df['Total Away Games']) * 100"
      ],
      "metadata": {
        "id": "PNO8stvqnXBq"
      },
      "execution_count": 13,
      "outputs": []
    },
    {
      "cell_type": "code",
      "source": [
        "# Merge\n",
        "mls_df = pd.merge(mls_home_df, mls_away_df, on=[\"Team\", \"Team\"])\n",
        "mls_df['Home Advantage'] = mls_df['Home Win Percent'] - mls_df['Away Win Percent']"
      ],
      "metadata": {
        "id": "qd0tS50KrHfB"
      },
      "execution_count": 14,
      "outputs": []
    },
    {
      "cell_type": "markdown",
      "source": [
        "## Merged Data Frame"
      ],
      "metadata": {
        "id": "AwnMGcXGvGXf"
      }
    },
    {
      "cell_type": "code",
      "source": [
        "nba_df['Sport'] = 'Basketball'\n",
        "mlb_df['Sport'] = 'Baseball'\n",
        "nfl_df['Sport'] = 'Football'\n",
        "mls_df['Sport'] = 'Soccer'\n",
        "nba_df = nba_df[['Team', 'Home Win Percent', 'Away Win Percent', 'Home Advantage', 'Sport']]\n",
        "mlb_df = mlb_df[['Team', 'Home Win Percent', 'Away Win Percent', 'Home Advantage', 'Sport']]\n",
        "nfl_df = nfl_df[['Team', 'Home Win Percent', 'Away Win Percent', 'Home Advantage', 'Sport']]\n",
        "mls_df = mls_df[['Team', 'Home Win Percent', 'Away Win Percent', 'Home Advantage', 'Sport']]\n",
        "sports_df = pd.concat([nba_df, mlb_df, nfl_df, mls_df], axis=0)\n",
        "\n",
        "\n"
      ],
      "metadata": {
        "id": "ONaJsclVvX4z"
      },
      "execution_count": 15,
      "outputs": []
    },
    {
      "cell_type": "markdown",
      "source": [
        "# Exploring the Data "
      ],
      "metadata": {
        "id": "IKSa2fuMpteC"
      }
    },
    {
      "cell_type": "code",
      "source": [
        "# Home Advantage Percent Descending \n",
        "\n",
        "df_descending = sports_df.sort_values(\"Home Advantage\",ascending=False)\n",
        "\n",
        "desc = df_descending[[\"Team\", \"Home Advantage\", \"Sport\"]]\n",
        "\n",
        "# top 10 teams\n",
        "print(desc.head(20))"
      ],
      "metadata": {
        "colab": {
          "base_uri": "https://localhost:8080/"
        },
        "id": "gyjSoloFpyJK",
        "outputId": "5a3bed2a-a2c2-488e-ffa1-81a76d8b02b0"
      },
      "execution_count": 16,
      "outputs": [
        {
          "output_type": "stream",
          "name": "stdout",
          "text": [
            "                    Team  Home Advantage       Sport\n",
            "9    Vancouver Whitecaps       47.058824      Soccer\n",
            "5              DC United       47.058824      Soccer\n",
            "1     Philadelphia Union       47.058824      Soccer\n",
            "30     Green Bay Packers       44.444444    Football\n",
            "12      Cleveland Browns       41.666667    Football\n",
            "7          Columbus Crew       41.176471      Soccer\n",
            "8       Minnesota United       41.176471      Soccer\n",
            "0          Detroit Lions       37.500000    Football\n",
            "14           CF Montreal       35.294118      Soccer\n",
            "3       New York City FC       35.294118      Soccer\n",
            "20        Houston Dynamo       35.294118      Soccer\n",
            "1   Jacksonville Jaguars       33.333333    Football\n",
            "11     Atlanta United FC       29.411765      Soccer\n",
            "19          Chicago Fire       29.411765      Soccer\n",
            "21             Austin FC       29.411765      Soccer\n",
            "2       Portland Timbers       29.411765      Soccer\n",
            "13     Minnesota Vikings       29.166667    Football\n",
            "19   Pittsburgh Steelers       29.166667    Football\n",
            "16        Miami Dolphins       29.166667    Football\n",
            "11                 Hawks       26.829268  Basketball\n"
          ]
        }
      ]
    },
    {
      "cell_type": "code",
      "source": [
        "# Home Advantage Percent Ascending \n",
        "\n",
        "df_ascending = sports_df.sort_values(\"Home Advantage\")\n",
        "\n",
        "asc = df_ascending[[\"Team\", \"Home Advantage\", \"Sport\"]]\n",
        "\n",
        "# top 10 teams\n",
        "print(asc.head(20))"
      ],
      "metadata": {
        "colab": {
          "base_uri": "https://localhost:8080/"
        },
        "id": "iF2GGQWUqTjC",
        "outputId": "3bba3ac4-cbdf-41aa-aa29-2e79189716ab"
      },
      "execution_count": 17,
      "outputs": [
        {
          "output_type": "stream",
          "name": "stdout",
          "text": [
            "                     Team  Home Advantage       Sport\n",
            "24      Arizona Cardinals      -51.388889    Football\n",
            "7         Atlanta Falcons      -30.555556    Football\n",
            "22   New England Patriots      -30.555556    Football\n",
            "17     New Orleans Saints      -29.166667    Football\n",
            "18    Philadelphia Eagles      -29.166667    Football\n",
            "14     Indianapolis Colts      -18.055556    Football\n",
            "23    San Francisco 49ers      -16.666667    Football\n",
            "28       Los Angeles Rams      -15.277778    Football\n",
            "26         Dallas Cowboys      -15.277778    Football\n",
            "26          FC Cincinnati      -11.764706      Soccer\n",
            "3                    Nets       -9.756098  Basketball\n",
            "5       Carolina Panthers       -8.333333    Football\n",
            "1                   76ers       -7.317073  Basketball\n",
            "4               NY Knicks       -7.317073  Basketball\n",
            "9        Seattle Seahawks       -6.944444    Football\n",
            "21      Las Vegas Raiders       -6.944444    Football\n",
            "20     Cincinnati Bengals       -6.944444    Football\n",
            "10  Washington Commanders       -6.944444    Football\n",
            "17    Seattle Sounders FC       -5.882353      Soccer\n",
            "28                  Spurs       -4.878049  Basketball\n"
          ]
        }
      ]
    },
    {
      "cell_type": "markdown",
      "source": [
        "# Visualizations"
      ],
      "metadata": {
        "id": "tfxlyoRtyKTN"
      }
    },
    {
      "cell_type": "markdown",
      "source": [
        "## Home Win Percent vs Home Loss Percent in the NBA\n"
      ],
      "metadata": {
        "id": "bYSlPY7xOoKy"
      }
    },
    {
      "cell_type": "code",
      "source": [
        "def getImage(Path):\n",
        "    return OffsetImage(plt.imread(Path), zoom=.03, alpha = 1)"
      ],
      "metadata": {
        "id": "Q2ZCqYtN6pOR"
      },
      "execution_count": 18,
      "outputs": []
    },
    {
      "cell_type": "code",
      "source": [
        "nba_df['Path'] = nba_df['Path'].astype(str)\n",
        "\n",
        "fig, ax = plt.subplots(figsize=(6, 4), dpi=120)\n",
        "ax.scatter(x = nba_df['Home Win Percent'], y = nba_df['Away Win Percent'], color='white')\n",
        "ax.set_xlabel(\"Home Win Percent\")\n",
        "ax.set_ylabel(\"Away Win Percent\")\n",
        "\n",
        "for index, row in nba_df.iterrows():\n",
        "    ab = AnnotationBbox(getImage(row['Path']), (row['Home Win Percent'], row['Away Win Percent']), frameon=False)\n",
        "    ax.add_artist(ab)"
      ],
      "metadata": {
        "colab": {
          "base_uri": "https://localhost:8080/",
          "height": 466
        },
        "id": "v-1-uTtH-NKB",
        "outputId": "805f2ef6-29dc-4fb9-aaf1-2baa20f56e07"
      },
      "execution_count": 48,
      "outputs": [
        {
          "output_type": "display_data",
          "data": {
            "text/plain": [
              "<Figure size 720x480 with 1 Axes>"
            ],
            "image/png": "[encoded data removed]"
          },
          "metadata": {
            "needs_background": "light"
          }
        }
      ]
    },
    {
      "cell_type": "markdown",
      "source": [
        "## Boxplot of Home Advantage by Sport"
      ],
      "metadata": {
        "id": "S9625srMOu71"
      }
    },
    {
      "cell_type": "code",
      "source": [
        "fig, ax = plt.subplots(figsize=(15, 12))\n",
        "ax = sns.boxplot(x='Sport', y='Home Advantage', data = sports_df, ax = ax, palette = \"Set1\")\n",
        "ax = sns.stripplot(x='Sport', y='Home Advantage', data = sports_df, color = \"orange\", jitter = 0.2, size = 5.5, ax = ax)\n",
        "\n",
        "# show the graph\n",
        "plt.show()"
      ],
      "metadata": {
        "colab": {
          "base_uri": "https://localhost:8080/",
          "height": 597
        },
        "id": "MDu_NXr_yOAX",
        "outputId": "d5cb50b0-c839-4b83-d350-988bdbc78cfe"
      },
      "execution_count": null,
      "outputs": [
        {
          "output_type": "display_data",
          "data": {
            "text/plain": [
              "<Figure size 1080x864 with 1 Axes>"
            ],
            "image/png": "[encoded data removed]"
          },
          "metadata": {
            "needs_background": "light"
          }
        }
      ]
    },
    {
      "cell_type": "markdown",
      "source": [
        "# Glimpse of Average Home Advantage by Sport"
      ],
      "metadata": {
        "id": "T-Qb-NDOSuH8"
      }
    },
    {
      "cell_type": "code",
      "source": [
        "sports_df.groupby(['Sport']).mean()\n",
        "\n"
      ],
      "metadata": {
        "colab": {
          "base_uri": "https://localhost:8080/",
          "height": 204
        },
        "id": "eGwVWfv_QxXg",
        "outputId": "4d6de925-7c45-4b3e-a1a1-288f0d136462"
      },
      "execution_count": 50,
      "outputs": [
        {
          "output_type": "execute_result",
          "data": {
            "text/plain": [
              "            Home Win Percent  Away Win Percent  Home Advantage\n",
              "Sport                                                         \n",
              "Baseball           53.853040         45.874534        7.978506\n",
              "Basketball         54.390244         45.609756        8.780488\n",
              "Football           51.302083         47.960069        3.342014\n",
              "Soccer             47.930283         25.054466       22.875817"
            ],
            "text/html": [
              "\n",
              "  <div id=\"df-0e77233c-2431-4bd0-af8b-ff97f9cafa38\">\n",
              "    <div class=\"colab-df-container\">\n",
              "      <div>\n",
              "<style scoped>\n",
              "    .dataframe tbody tr th:only-of-type {\n",
              "        vertical-align: middle;\n",
              "    }\n",
              "\n",
              "    .dataframe tbody tr th {\n",
              "        vertical-align: top;\n",
              "    }\n",
              "\n",
              "    .dataframe thead th {\n",
              "        text-align: right;\n",
              "    }\n",
              "</style>\n",
              "<table border=\"1\" class=\"dataframe\">\n",
              "  <thead>\n",
              "    <tr style=\"text-align: right;\">\n",
              "      <th></th>\n",
              "      <th>Home Win Percent</th>\n",
              "      <th>Away Win Percent</th>\n",
              "      <th>Home Advantage</th>\n",
              "    </tr>\n",
              "    <tr>\n",
              "      <th>Sport</th>\n",
              "      <th></th>\n",
              "      <th></th>\n",
              "      <th></th>\n",
              "    </tr>\n",
              "  </thead>\n",
              "  <tbody>\n",
              "    <tr>\n",
              "      <th>Baseball</th>\n",
              "      <td>53.853040</td>\n",
              "      <td>45.874534</td>\n",
              "      <td>7.978506</td>\n",
              "    </tr>\n",
              "    <tr>\n",
              "      <th>Basketball</th>\n",
              "      <td>54.390244</td>\n",
              "      <td>45.609756</td>\n",
              "      <td>8.780488</td>\n",
              "    </tr>\n",
              "    <tr>\n",
              "      <th>Football</th>\n",
              "      <td>51.302083</td>\n",
              "      <td>47.960069</td>\n",
              "      <td>3.342014</td>\n",
              "    </tr>\n",
              "    <tr>\n",
              "      <th>Soccer</th>\n",
              "      <td>47.930283</td>\n",
              "      <td>25.054466</td>\n",
              "      <td>22.875817</td>\n",
              "    </tr>\n",
              "  </tbody>\n",
              "</table>\n",
              "</div>\n",
              "      <button class=\"colab-df-convert\" onclick=\"convertToInteractive('df-0e77233c-2431-4bd0-af8b-ff97f9cafa38')\"\n",
              "              title=\"Convert this dataframe to an interactive table.\"\n",
              "              style=\"display:none;\">\n",
              "        \n",
              "  <svg xmlns=\"http://www.w3.org/2000/svg\" height=\"24px\"viewBox=\"0 0 24 24\"\n",
              "       width=\"24px\">\n",
              "    <path d=\"M0 0h24v24H0V0z\" fill=\"none\"/>\n",
              "    <path d=\"M18.56 5.44l.94 2.06.94-2.06 2.06-.94-2.06-.94-.94-2.06-.94 2.06-2.06.94zm-11 1L8.5 8.5l.94-2.06 2.06-.94-2.06-.94L8.5 2.5l-.94 2.06-2.06.94zm10 10l.94 2.06.94-2.06 2.06-.94-2.06-.94-.94-2.06-.94 2.06-2.06.94z\"/><path d=\"M17.41 7.96l-1.37-1.37c-.4-.4-.92-.59-1.43-.59-.52 0-1.04.2-1.43.59L10.3 9.45l-7.72 7.72c-.78.78-.78 2.05 0 2.83L4 21.41c.39.39.9.59 1.41.59.51 0 1.02-.2 1.41-.59l7.78-7.78 2.81-2.81c.8-.78.8-2.07 0-2.86zM5.41 20L4 18.59l7.72-7.72 1.47 1.35L5.41 20z\"/>\n",
              "  </svg>\n",
              "      </button>\n",
              "      \n",
              "  <style>\n",
              "    .colab-df-container {\n",
              "      display:flex;\n",
              "      flex-wrap:wrap;\n",
              "      gap: 12px;\n",
              "    }\n",
              "\n",
              "    .colab-df-convert {\n",
              "      background-color: #E8F0FE;\n",
              "      border: none;\n",
              "      border-radius: 50%;\n",
              "      cursor: pointer;\n",
              "      display: none;\n",
              "      fill: #1967D2;\n",
              "      height: 32px;\n",
              "      padding: 0 0 0 0;\n",
              "      width: 32px;\n",
              "    }\n",
              "\n",
              "    .colab-df-convert:hover {\n",
              "      background-color: #E2EBFA;\n",
              "      box-shadow: 0px 1px 2px rgba(60, 64, 67, 0.3), 0px 1px 3px 1px rgba(60, 64, 67, 0.15);\n",
              "      fill: #174EA6;\n",
              "    }\n",
              "\n",
              "    [theme=dark] .colab-df-convert {\n",
              "      background-color: #3B4455;\n",
              "      fill: #D2E3FC;\n",
              "    }\n",
              "\n",
              "    [theme=dark] .colab-df-convert:hover {\n",
              "      background-color: #434B5C;\n",
              "      box-shadow: 0px 1px 3px 1px rgba(0, 0, 0, 0.15);\n",
              "      filter: drop-shadow(0px 1px 2px rgba(0, 0, 0, 0.3));\n",
              "      fill: #FFFFFF;\n",
              "    }\n",
              "  </style>\n",
              "\n",
              "      <script>\n",
              "        const buttonEl =\n",
              "          document.querySelector('#df-0e77233c-2431-4bd0-af8b-ff97f9cafa38 button.colab-df-convert');\n",
              "        buttonEl.style.display =\n",
              "          google.colab.kernel.accessAllowed ? 'block' : 'none';\n",
              "\n",
              "        async function convertToInteractive(key) {\n",
              "          const element = document.querySelector('#df-0e77233c-2431-4bd0-af8b-ff97f9cafa38');\n",
              "          const dataTable =\n",
              "            await google.colab.kernel.invokeFunction('convertToInteractive',\n",
              "                                                     [key], {});\n",
              "          if (!dataTable) return;\n",
              "\n",
              "          const docLinkHtml = 'Like what you see? Visit the ' +\n",
              "            '<a target=\"_blank\" href=https://colab.research.google.com/notebooks/data_table.ipynb>data table notebook</a>'\n",
              "            + ' to learn more about interactive tables.';\n",
              "          element.innerHTML = '';\n",
              "          dataTable['output_type'] = 'display_data';\n",
              "          await google.colab.output.renderOutput(dataTable, element);\n",
              "          const docLink = document.createElement('div');\n",
              "          docLink.innerHTML = docLinkHtml;\n",
              "          element.appendChild(docLink);\n",
              "        }\n",
              "      </script>\n",
              "    </div>\n",
              "  </div>\n",
              "  "
            ]
          },
          "metadata": {},
          "execution_count": 50
        }
      ]
    },
    {
      "cell_type": "markdown",
      "source": [
        "# Statistical Analysis - ANOVA"
      ],
      "metadata": {
        "id": "BklJA9JBQvKB"
      }
    },
    {
      "cell_type": "markdown",
      "source": [
        "Null Hypothesis: The average home advantage is the same across each sport\n",
        "\n",
        "Alternative Hypothesis: At least one of the sports has a different average home advantage"
      ],
      "metadata": {
        "id": "ouyN71VETTfR"
      }
    },
    {
      "cell_type": "code",
      "source": [
        "stats.f_oneway(sports_df['Home Advantage'][sports_df['Sport'] == 'Baseball'],\n",
        "               sports_df['Home Advantage'][sports_df['Sport'] == 'Basketball'],\n",
        "               sports_df['Home Advantage'][sports_df['Sport'] == 'Football'],\n",
        "               sports_df['Home Advantage'][sports_df['Sport'] == 'Soccer'])"
      ],
      "metadata": {
        "colab": {
          "base_uri": "https://localhost:8080/"
        },
        "id": "4heZv1ntSzg_",
        "outputId": "549ce115-04e2-4f54-b4ae-a3c73b78069f"
      },
      "execution_count": 53,
      "outputs": [
        {
          "output_type": "execute_result",
          "data": {
            "text/plain": [
              "F_onewayResult(statistic=7.770571943751326, pvalue=9.046481756569759e-05)"
            ]
          },
          "metadata": {},
          "execution_count": 53
        }
      ]
    },
    {
      "cell_type": "markdown",
      "source": [
        "Test Statistic: 7.770571943751326\n",
        "\n",
        "P-Value: 9.046481756569759e-05\n",
        "\n",
        "Conclusion: Reject the null hypothesis. At least one of the sports has a different average home advantage."
      ],
      "metadata": {
        "id": "2F3pr2EgTdwR"
      }
    },
    {
      "cell_type": "markdown",
      "source": [
        "# Statistcal Analysis - T Tests"
      ],
      "metadata": {
        "id": "SxSY7F91T0RS"
      }
    },
    {
      "cell_type": "markdown",
      "source": [
        "### Baseball vs. Basketball Home Advantage"
      ],
      "metadata": {
        "id": "_jb1NBtiZTzT"
      }
    },
    {
      "cell_type": "code",
      "source": [
        "stats.ttest_ind(sports_df['Home Advantage'][sports_df['Sport'] == 'Baseball'], sports_df['Home Advantage'][sports_df['Sport'] == 'Basketball'], equal_var=True)"
      ],
      "metadata": {
        "colab": {
          "base_uri": "https://localhost:8080/"
        },
        "id": "0OSqWXjXT4y4",
        "outputId": "6e55cef3-70a3-4bbb-b146-3cc308d67334"
      },
      "execution_count": 55,
      "outputs": [
        {
          "output_type": "execute_result",
          "data": {
            "text/plain": [
              "Ttest_indResult(statistic=-0.34375422925591964, pvalue=0.7322742066857274)"
            ]
          },
          "metadata": {},
          "execution_count": 55
        }
      ]
    },
    {
      "cell_type": "markdown",
      "source": [
        "No significant differnece"
      ],
      "metadata": {
        "id": "8RHSvfjlZZyv"
      }
    },
    {
      "cell_type": "markdown",
      "source": [
        "### Baseball vs. Football Home Advantage"
      ],
      "metadata": {
        "id": "i22-z6lHZbzZ"
      }
    },
    {
      "cell_type": "code",
      "source": [
        "stats.ttest_ind(sports_df['Home Advantage'][sports_df['Sport'] == 'Baseball'], sports_df['Home Advantage'][sports_df['Sport'] == 'Football'], equal_var=True)"
      ],
      "metadata": {
        "colab": {
          "base_uri": "https://localhost:8080/"
        },
        "id": "9p4WbJa6Y-_8",
        "outputId": "c93ab532-43f4-42eb-c824-e2bc71a8714a"
      },
      "execution_count": 56,
      "outputs": [
        {
          "output_type": "execute_result",
          "data": {
            "text/plain": [
              "Ttest_indResult(statistic=0.9943646737808914, pvalue=0.3240387229482464)"
            ]
          },
          "metadata": {},
          "execution_count": 56
        }
      ]
    },
    {
      "cell_type": "markdown",
      "source": [
        "No significant difference"
      ],
      "metadata": {
        "id": "VZBvSxBNZevD"
      }
    },
    {
      "cell_type": "markdown",
      "source": [
        "### Baseball vs. Soccer Home Advantage"
      ],
      "metadata": {
        "id": "FEGZ7f1tZgkQ"
      }
    },
    {
      "cell_type": "code",
      "source": [
        "stats.ttest_ind(sports_df['Home Advantage'][sports_df['Sport'] == 'Baseball'], sports_df['Home Advantage'][sports_df['Sport'] == 'Soccer'], equal_var=True)\n"
      ],
      "metadata": {
        "colab": {
          "base_uri": "https://localhost:8080/"
        },
        "id": "rU5obbUTZFzu",
        "outputId": "62fe8840-b998-45d3-cd72-5e8db9c4c8c9"
      },
      "execution_count": 57,
      "outputs": [
        {
          "output_type": "execute_result",
          "data": {
            "text/plain": [
              "Ttest_indResult(statistic=-4.538646644900702, pvalue=3.121844201351725e-05)"
            ]
          },
          "metadata": {},
          "execution_count": 57
        }
      ]
    },
    {
      "cell_type": "markdown",
      "source": [
        "Significant difference"
      ],
      "metadata": {
        "id": "MDajwoPJZikk"
      }
    },
    {
      "cell_type": "markdown",
      "source": [
        "### Basketball vs. Football Home Advantage"
      ],
      "metadata": {
        "id": "n7tmpZgeZpqS"
      }
    },
    {
      "cell_type": "code",
      "source": [
        "stats.ttest_ind(sports_df['Home Advantage'][sports_df['Sport'] == 'Basketball'], sports_df['Home Advantage'][sports_df['Sport'] == 'Football'], equal_var=True)"
      ],
      "metadata": {
        "colab": {
          "base_uri": "https://localhost:8080/"
        },
        "id": "zMAaKSUyZKuU",
        "outputId": "8361ec48-df8d-4168-a02e-b7abd6672275"
      },
      "execution_count": 58,
      "outputs": [
        {
          "output_type": "execute_result",
          "data": {
            "text/plain": [
              "Ttest_indResult(statistic=1.132451324902994, pvalue=0.2619501333694169)"
            ]
          },
          "metadata": {},
          "execution_count": 58
        }
      ]
    },
    {
      "cell_type": "markdown",
      "source": [
        "No significant difference"
      ],
      "metadata": {
        "id": "Xq4kFNfvZs9g"
      }
    },
    {
      "cell_type": "markdown",
      "source": [
        "### Basketball vs. Soccer Home Advantage"
      ],
      "metadata": {
        "id": "FueHSfSlZukm"
      }
    },
    {
      "cell_type": "code",
      "source": [
        "stats.ttest_ind(sports_df['Home Advantage'][sports_df['Sport'] == 'Basketball'], sports_df['Home Advantage'][sports_df['Sport'] == 'Soccer'], equal_var=True)"
      ],
      "metadata": {
        "colab": {
          "base_uri": "https://localhost:8080/"
        },
        "id": "jHV4iKZPZOlR",
        "outputId": "0859879e-cb5e-4187-a446-68e04548c3cb"
      },
      "execution_count": 59,
      "outputs": [
        {
          "output_type": "execute_result",
          "data": {
            "text/plain": [
              "Ttest_indResult(statistic=-4.011787603540923, pvalue=0.00018357350781414726)"
            ]
          },
          "metadata": {},
          "execution_count": 59
        }
      ]
    },
    {
      "cell_type": "markdown",
      "source": [
        "Significant difference"
      ],
      "metadata": {
        "id": "PYGT0Rm3ZxGp"
      }
    },
    {
      "cell_type": "markdown",
      "source": [
        "### Football vs. Soccer Home Advantage"
      ],
      "metadata": {
        "id": "MBk0IUiMZyg7"
      }
    },
    {
      "cell_type": "code",
      "source": [
        "stats.ttest_ind(sports_df['Home Advantage'][sports_df['Sport'] == 'Football'], sports_df['Home Advantage'][sports_df['Sport'] == 'Soccer'], equal_var=True)"
      ],
      "metadata": {
        "colab": {
          "base_uri": "https://localhost:8080/"
        },
        "id": "kb_Gi0k2ZRLV",
        "outputId": "c7cc180a-56ed-4a99-dffc-7ef0e2077b33"
      },
      "execution_count": 60,
      "outputs": [
        {
          "output_type": "execute_result",
          "data": {
            "text/plain": [
              "Ttest_indResult(statistic=-3.561395071589911, pvalue=0.0007529788934772796)"
            ]
          },
          "metadata": {},
          "execution_count": 60
        }
      ]
    },
    {
      "cell_type": "markdown",
      "source": [
        "Significant difference"
      ],
      "metadata": {
        "id": "M42BTRylZ1Bu"
      }
    },
    {
      "cell_type": "markdown",
      "source": [
        "# Conclusion"
      ],
      "metadata": {
        "id": "XvghD51RZ7c4"
      }
    },
    {
      "cell_type": "markdown",
      "source": [
        "Based on the visualizations, tables, and statistical tests above, we can see that there is not a significant differnece between the average home advantage of basketball, football, and baseball. However, soccer has a statistically significant difference in average home advantage from all three other sports. We can see that soccer is most impacted by home field advantage. This goes against our original hypothesis. Moving forward, it would be interesting to investigate how the volume of the stadiums impacts whether a team wins at home or not."
      ],
      "metadata": {
        "id": "JNCsBQlQZ9wv"
      }
    }
  ]
}