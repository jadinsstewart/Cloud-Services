{
  "nbformat": 4,
  "nbformat_minor": 0,
  "metadata": {
    "colab": {
      "provenance": [],
      "authorship_tag": "ABX9TyNHdCvgPQCe6fTbzjOKWkDm",
      "include_colab_link": true
    },
    "kernelspec": {
      "name": "python3",
      "display_name": "Python 3"
    },
    "language_info": {
      "name": "python"
    }
  },
  "cells": [
    {
      "cell_type": "markdown",
      "metadata": {
        "id": "view-in-github",
        "colab_type": "text"
      },
      "source": [
        "<a href=\"https://colab.research.google.com/github/jadinsstewart/Cloud-Services/blob/main/Final_NBA_Analytics.ipynb\" target=\"_parent\"><img src=\"https://colab.research.google.com/assets/colab-badge.svg\" alt=\"Open In Colab\"/></a>"
      ]
    },
    {
      "cell_type": "markdown",
      "source": [
        "Ella Archie (ejarchie@calpoly.edu)\n",
        "\n",
        "Jadin Stewart (jsstewar@calpoly.edu)\n",
        "\n",
        "GSB S521-01\n",
        "\n",
        "March 6th, 2023\n",
        "\n",
        "# <center> **Impact of Home Game Advantage by Sport** <center/>"
      ],
      "metadata": {
        "id": "G3dqYprwe6i6"
      }
    },
    {
      "cell_type": "code",
      "source": [
        "import pandas as pd  \n",
        "import json \n",
        "from urllib.request import urlopen \n",
        "import matplotlib.pyplot as plt\n",
        "import seaborn as sns\n",
        "import numpy as np\n",
        "from sklearn import datasets, linear_model\n",
        "from sklearn.linear_model import LinearRegression\n",
        "import statsmodels.api as sm\n",
        "from scipy import stats\n",
        "from IPython.display import Image\n",
        "import matplotlib.pyplot as plt\n",
        "from matplotlib.offsetbox import OffsetImage, AnnotationBbox"
      ],
      "metadata": {
        "id": "997Yh9WtgeaE"
      },
      "execution_count": 128,
      "outputs": []
    },
    {
      "cell_type": "markdown",
      "source": [
        "# NBA Data"
      ],
      "metadata": {
        "id": "ynlWeBCkfRtT"
      }
    },
    {
      "cell_type": "code",
      "execution_count": 129,
      "metadata": {
        "id": "ZSWkjpfedU2W"
      },
      "outputs": [],
      "source": [
        "nba = pd.read_html(\"https://www.covers.com/sport/basketball/nba/standings/2021-2022\")\n",
        "nba_df = nba[0]\n",
        "nba_df = nba_df.drop(nba_df.columns[[6,7,8,9]], axis=1)\n",
        "nba_df.columns = (\"Team\", \"Wins\", \"Losses\", \"Win Percent\", \"Home Record\", \"Away Record\", \"b\", \"c\", \"d\", \"e\")\n",
        "nba_df = nba_df.drop(columns=['b', 'c', 'd', 'e'])\n",
        "\n",
        "team_names = {\"Boston\":\"Celtics\",\"Philadelphia\":\"76ers\",\"Toronto\":\"Raptors\", \"Brooklyn\":\"Nets\",\"New York\":\"NY Knicks\",\n",
        "              \"Milwaukee\":\"Bucks\",\"Chicago\":\"Bulls\",\"Cleveland\":\"Cavaliers\",\"Indiana\":\"Pacers\",\n",
        "              \"Detroit\":\"Pistons\",\"Miami\":\"Heat\",\"Atlanta\":\"Hawks\",\"Charlotte\":\"Hornets\",\n",
        "              \"Washington\":\"Wizards\",\"Orlando\":\"Magic\",\"Utah\":\"Jazz\",\"Denver\":\"Nuggets\",\"Minnesota\":\"Timberwolves\",\n",
        "              \"Portland\":\"Trail Blazers\",\"Oklahoma City\":\"Thunder\",\"Phoenix\":\"Suns\",\"Golden State\":\"Warriors\",\n",
        "              \"L.A. Clippers\": \"Clippers\", \"L.A. Lakers\":\"Lakers\",\"Sacramento\":\"Kings\",\"Memphis\":\"Grizzlies\",\n",
        "              \"Dallas\":\"Mavericks\", \"New Orleans\":\"Knicks\",\"San Antonio\":\"Spurs\",\"Houston\":\"Rockets\"}\n",
        "\n",
        "nba_df['Team'] = nba_df['Team'].map(team_names)\n",
        "my_split = nba_df['Home Record'].str.split(\"-\", n = 1, expand = True)\n",
        "nba_df['Home Wins'] = my_split[0]\n",
        "nba_df['Home Losses'] = my_split[1]\n",
        "nba_df['Home Wins'] = pd.to_numeric(nba_df['Home Wins'])\n",
        "nba_df['Home Losses'] = pd.to_numeric(nba_df['Home Losses'])\n",
        "nba_df['Total Home Games'] = nba_df['Home Wins'] + nba_df['Home Losses']\n",
        "nba_df['Home Win Percent'] = (nba_df['Home Wins'] / nba_df['Total Home Games']) * 100\n",
        "\n",
        "my_split2 = nba_df['Away Record'].str.split(\"-\", n = 1, expand = True)\n",
        "nba_df['Away Wins'] = my_split2[0]\n",
        "nba_df['Away Losses'] = my_split2[1]\n",
        "nba_df['Away Wins'] = pd.to_numeric(nba_df['Away Wins'])\n",
        "nba_df['Away Losses'] = pd.to_numeric(nba_df['Away Losses'])\n",
        "nba_df['Total Away Games'] = nba_df['Away Wins'] + nba_df['Away Losses']\n",
        "nba_df['Away Win Percent'] = (nba_df['Away Wins'] / nba_df['Total Away Games']) * 100\n",
        "nba_df['Home Advantage'] = nba_df['Home Win Percent'] - nba_df['Away Win Percent']\n",
        "\n",
        "nba_df['Path'] = nba_df['Team'] + '.png'"
      ]
    },
    {
      "cell_type": "markdown",
      "source": [
        "#  MLB Data"
      ],
      "metadata": {
        "id": "2EFZGsAAiLTG"
      }
    },
    {
      "cell_type": "code",
      "source": [
        "# Home Record\n",
        "mlb_home = pd.read_html(\"https://www.teamrankings.com/mlb/trends/win_trends/?sc=is_home&range=yearly_mlb_2021\")\n",
        "mlb_home_df = mlb_home[0]\n",
        "mlb_home_df = mlb_home_df.drop(mlb_home_df.columns[[2,3,4]], axis=1)\n",
        "mlb_home_df.columns = (\"Team\", \"Home Record\")\n",
        "my_split = mlb_home_df['Home Record'].str.split(\"-\", n = 2, expand = True)\n",
        "mlb_home_df['Home Wins'] = my_split[0]\n",
        "mlb_home_df['Home Losses'] = my_split[1]\n",
        "mlb_home_df['Home Ties'] = my_split[2]\n",
        "mlb_home_df['Home Wins'] = pd.to_numeric(mlb_home_df['Home Wins'])\n",
        "mlb_home_df['Home Losses'] = pd.to_numeric(mlb_home_df['Home Losses'])\n",
        "mlb_home_df['Home Ties'] = pd.to_numeric(mlb_home_df['Home Ties'])\n",
        "mlb_home_df['Total Home Games'] = mlb_home_df['Home Wins'] + mlb_home_df['Home Losses'] + mlb_home_df['Home Ties']\n",
        "mlb_home_df['Home Win Percent'] = (mlb_home_df['Home Wins'] / mlb_home_df['Total Home Games']) * 100"
      ],
      "metadata": {
        "id": "FWAvRJ1qiN7A"
      },
      "execution_count": 130,
      "outputs": []
    },
    {
      "cell_type": "code",
      "source": [
        "# Away Record\n",
        "mlb_away = pd.read_html(\"https://www.teamrankings.com/mlb/trends/win_trends/?sc=is_away&range=yearly_mlb_2021\")\n",
        "mlb_away_df = mlb_away[0]\n",
        "mlb_away_df = mlb_away_df.drop(mlb_away_df.columns[[2,3,4]], axis=1)\n",
        "mlb_away_df.columns = (\"Team\", \"Away Record\")\n",
        "my_split2 = mlb_away_df['Away Record'].str.split(\"-\", n = 2, expand = True)\n",
        "mlb_away_df['Away Wins'] = my_split2[0]\n",
        "mlb_away_df['Away Losses'] = my_split2[1]\n",
        "mlb_away_df['Away Ties'] = my_split2[2]\n",
        "mlb_away_df['Away Wins'] = pd.to_numeric(mlb_away_df['Away Wins'])\n",
        "mlb_away_df['Away Losses'] = pd.to_numeric(mlb_away_df['Away Losses'])\n",
        "mlb_away_df['Away Ties'] = pd.to_numeric(mlb_away_df['Away Ties'])\n",
        "mlb_away_df['Total Away Games'] = mlb_away_df['Away Wins'] + mlb_away_df['Away Losses'] + mlb_away_df['Away Ties']\n",
        "mlb_away_df['Away Win Percent'] = (mlb_away_df['Away Wins'] / mlb_away_df['Total Away Games']) * 100"
      ],
      "metadata": {
        "id": "er_j0Eo1k_wj"
      },
      "execution_count": 131,
      "outputs": []
    },
    {
      "cell_type": "code",
      "source": [
        "# Merge\n",
        "mlb_df = pd.merge(mlb_home_df, mlb_away_df, on=[\"Team\", \"Team\"])\n",
        "mlb_df['Home Advantage'] = mlb_df['Home Win Percent'] - mlb_df['Away Win Percent']"
      ],
      "metadata": {
        "id": "Zq-ctWihlJjT"
      },
      "execution_count": 132,
      "outputs": []
    },
    {
      "cell_type": "markdown",
      "source": [
        "# NFL Data"
      ],
      "metadata": {
        "id": "RNxCYLM-leOz"
      }
    },
    {
      "cell_type": "code",
      "source": [
        "nfl = pd.read_html(\"https://www.nfl.com/standings/league/2021/reg\")\n",
        "nfl_df = nfl[0]\n",
        "nfl_df = nfl_df.drop(nfl_df.columns[[1,2,3,4,5,6,7,10,11,12,13,14,15,16]], axis=1)\n",
        "my_split = nfl_df['Home'].str.split(\"-\", n = 2, expand = True)\n",
        "nfl_df['Home Wins'] = my_split[0]\n",
        "nfl_df['Home Losses'] = my_split[1]\n",
        "nfl_df['Home Ties'] = my_split[2]\n",
        "nfl_df['Home Wins'] = pd.to_numeric(nfl_df['Home Wins'])\n",
        "nfl_df['Home Losses'] = pd.to_numeric(nfl_df['Home Losses'])\n",
        "nfl_df['Home Ties'] = pd.to_numeric(nfl_df['Home Ties'])\n",
        "nfl_df['Total Home Games'] = nfl_df['Home Wins'] + nfl_df['Home Losses'] + nfl_df['Home Ties']\n",
        "nfl_df['Home Win Percent'] = (nfl_df['Home Wins'] / nfl_df['Total Home Games']) * 100\n",
        "\n",
        "my_split2 = nfl_df['Road'].str.split(\"-\", n = 2, expand = True)\n",
        "nfl_df['Away Wins'] = my_split2[0]\n",
        "nfl_df['Away Losses'] = my_split2[1]\n",
        "nfl_df['Away Ties'] = my_split2[2]\n",
        "nfl_df['Away Wins'] = pd.to_numeric(nfl_df['Away Wins'])\n",
        "nfl_df['Away Losses'] = pd.to_numeric(nfl_df['Away Losses'])\n",
        "nfl_df['Away Ties'] = pd.to_numeric(nfl_df['Away Ties'])\n",
        "nfl_df['Total Away Games'] = nfl_df['Away Wins'] + nfl_df['Away Losses'] + nfl_df['Away Ties']\n",
        "nfl_df['Away Win Percent'] = (nfl_df['Away Wins'] / nfl_df['Total Away Games']) * 100\n",
        "nfl_df['Home Advantage'] = nfl_df['Home Win Percent'] - nfl_df['Away Win Percent']\n",
        "nfl_df.rename(columns = {\"NFL Team\": \"Team\"}, inplace = True)"
      ],
      "metadata": {
        "id": "5MHEsTo8lgS7"
      },
      "execution_count": 133,
      "outputs": []
    },
    {
      "cell_type": "markdown",
      "source": [
        "# MLS Data"
      ],
      "metadata": {
        "id": "YU5L6WeXnEeY"
      }
    },
    {
      "cell_type": "code",
      "source": [
        "# Home\n",
        "mls = pd.read_html(\"https://footballdatabase.com/league-scores-tables/united-states-mls-2021\")\n",
        "mls_home_df = mls[1]\n",
        "mls_home_df = mls_home_df.drop(mls_home_df.columns[[0,2,3,8,9]], axis=1)\n",
        "mls_home_df.columns = (\"Team\", \"Total Home Games\", \"Home Wins\", \"Home Ties\", \"Home Losses\")\n",
        "mls_home_df['Home Wins'] = pd.to_numeric(mls_home_df['Home Wins'])\n",
        "mls_home_df['Home Losses'] = pd.to_numeric(mls_home_df['Home Losses'])\n",
        "mls_home_df['Home Ties'] = pd.to_numeric(mls_home_df['Home Ties'])\n",
        "mls_home_df['Total Home Games'] = pd.to_numeric(mls_home_df['Total Home Games'])\n",
        "mls_home_df['Home Win Percent'] = (mls_home_df['Home Wins'] / mls_home_df['Total Home Games']) * 100"
      ],
      "metadata": {
        "id": "ozSBuz7znGik"
      },
      "execution_count": 134,
      "outputs": []
    },
    {
      "cell_type": "code",
      "source": [
        "# Away\n",
        "mls = pd.read_html(\"https://footballdatabase.com/league-scores-tables/united-states-mls-2021\")\n",
        "mls_away_df = mls[2]\n",
        "mls_away_df = mls_away_df.drop(mls_away_df.columns[[0,2,3,8,9]], axis=1)\n",
        "mls_away_df.columns = (\"Team\", \"Total Away Games\", \"Away Wins\", \"Away Ties\", \"Away Losses\")\n",
        "mls_away_df['Away Wins'] = pd.to_numeric(mls_away_df['Away Wins'])\n",
        "mls_away_df['Away Losses'] = pd.to_numeric(mls_away_df['Away Losses'])\n",
        "mls_away_df['Away Ties'] = pd.to_numeric(mls_away_df['Away Ties'])\n",
        "mls_away_df['Total Away Games'] = pd.to_numeric(mls_away_df['Total Away Games'])\n",
        "mls_away_df['Away Win Percent'] = (mls_away_df['Away Wins'] / mls_away_df['Total Away Games']) * 100"
      ],
      "metadata": {
        "id": "PNO8stvqnXBq"
      },
      "execution_count": 135,
      "outputs": []
    },
    {
      "cell_type": "code",
      "source": [
        "# Merge\n",
        "mls_df = pd.merge(mls_home_df, mls_away_df, on=[\"Team\", \"Team\"])\n",
        "mls_df['Home Advantage'] = mls_df['Home Win Percent'] - mls_df['Away Win Percent']"
      ],
      "metadata": {
        "id": "qd0tS50KrHfB"
      },
      "execution_count": 136,
      "outputs": []
    },
    {
      "cell_type": "markdown",
      "source": [
        "# Merged Data Frame"
      ],
      "metadata": {
        "id": "AwnMGcXGvGXf"
      }
    },
    {
      "cell_type": "code",
      "source": [
        "nba_df['Sport'] = 'Basketball'\n",
        "mlb_df['Sport'] = 'Baseball'\n",
        "nfl_df['Sport'] = 'Football'\n",
        "mls_df['Sport'] = 'Soccer'\n",
        "nba_df = nba_df[['Team', 'Home Win Percent', 'Away Win Percent', 'Home Advantage', 'Sport']]\n",
        "mlb_df = mlb_df[['Team', 'Home Win Percent', 'Away Win Percent', 'Home Advantage', 'Sport']]\n",
        "nfl_df = nfl_df[['Team', 'Home Win Percent', 'Away Win Percent', 'Home Advantage', 'Sport']]\n",
        "mls_df = mls_df[['Team', 'Home Win Percent', 'Away Win Percent', 'Home Advantage', 'Sport']]\n",
        "sports_df = pd.concat([nba_df, mlb_df, nfl_df, mls_df], axis=0)\n"
      ],
      "metadata": {
        "id": "ONaJsclVvX4z"
      },
      "execution_count": 137,
      "outputs": []
    },
    {
      "cell_type": "markdown",
      "source": [
        "# Visualizations"
      ],
      "metadata": {
        "id": "tfxlyoRtyKTN"
      }
    },
    {
      "cell_type": "code",
      "source": [
        "def getImage(Path):\n",
        "    return OffsetImage(plt.imread(Path), zoom=.03, alpha = 1)"
      ],
      "metadata": {
        "id": "Q2ZCqYtN6pOR"
      },
      "execution_count": 146,
      "outputs": []
    },
    {
      "cell_type": "code",
      "source": [
        "fig, ax = plt.subplots(figsize=(6, 4), dpi=120)\n",
        "ax.scatter(nba_df['Home Win Percent'], nba_df['Away Win Percent'], color='white')\n",
        "\n",
        "for index, row in nba_df.iterrows():\n",
        "    ab = AnnotationBbox(getImage(row['Path']), (row['Home Win Percent'], row['Away Win Percent']), frameon=False)\n",
        "    ax.add_artist(ab)"
      ],
      "metadata": {
        "colab": {
          "base_uri": "https://localhost:8080/",
          "height": 912
        },
        "id": "v-1-uTtH-NKB",
        "outputId": "bc803c0c-729b-4934-e434-28358cb7626a"
      },
      "execution_count": 147,
      "outputs": [
        {
          "output_type": "error",
          "ename": "KeyError",
          "evalue": "ignored",
          "traceback": [
            "\u001b[0;31m---------------------------------------------------------------------------\u001b[0m",
            "\u001b[0;31mKeyError\u001b[0m                                  Traceback (most recent call last)",
            "\u001b[0;32m/usr/local/lib/python3.8/dist-packages/pandas/core/indexes/base.py\u001b[0m in \u001b[0;36mget_loc\u001b[0;34m(self, key, method, tolerance)\u001b[0m\n\u001b[1;32m   3360\u001b[0m             \u001b[0;32mtry\u001b[0m\u001b[0;34m:\u001b[0m\u001b[0;34m\u001b[0m\u001b[0;34m\u001b[0m\u001b[0m\n\u001b[0;32m-> 3361\u001b[0;31m                 \u001b[0;32mreturn\u001b[0m \u001b[0mself\u001b[0m\u001b[0;34m.\u001b[0m\u001b[0m_engine\u001b[0m\u001b[0;34m.\u001b[0m\u001b[0mget_loc\u001b[0m\u001b[0;34m(\u001b[0m\u001b[0mcasted_key\u001b[0m\u001b[0;34m)\u001b[0m\u001b[0;34m\u001b[0m\u001b[0;34m\u001b[0m\u001b[0m\n\u001b[0m\u001b[1;32m   3362\u001b[0m             \u001b[0;32mexcept\u001b[0m \u001b[0mKeyError\u001b[0m \u001b[0;32mas\u001b[0m \u001b[0merr\u001b[0m\u001b[0;34m:\u001b[0m\u001b[0;34m\u001b[0m\u001b[0;34m\u001b[0m\u001b[0m\n",
            "\u001b[0;32m/usr/local/lib/python3.8/dist-packages/pandas/_libs/index.pyx\u001b[0m in \u001b[0;36mpandas._libs.index.IndexEngine.get_loc\u001b[0;34m()\u001b[0m\n",
            "\u001b[0;32m/usr/local/lib/python3.8/dist-packages/pandas/_libs/index.pyx\u001b[0m in \u001b[0;36mpandas._libs.index.IndexEngine.get_loc\u001b[0;34m()\u001b[0m\n",
            "\u001b[0;32mpandas/_libs/hashtable_class_helper.pxi\u001b[0m in \u001b[0;36mpandas._libs.hashtable.PyObjectHashTable.get_item\u001b[0;34m()\u001b[0m\n",
            "\u001b[0;32mpandas/_libs/hashtable_class_helper.pxi\u001b[0m in \u001b[0;36mpandas._libs.hashtable.PyObjectHashTable.get_item\u001b[0;34m()\u001b[0m\n",
            "\u001b[0;31mKeyError\u001b[0m: 'Path'",
            "\nThe above exception was the direct cause of the following exception:\n",
            "\u001b[0;31mKeyError\u001b[0m                                  Traceback (most recent call last)",
            "\u001b[0;32m<ipython-input-147-4789d810d389>\u001b[0m in \u001b[0;36m<module>\u001b[0;34m\u001b[0m\n\u001b[1;32m      3\u001b[0m \u001b[0;34m\u001b[0m\u001b[0m\n\u001b[1;32m      4\u001b[0m \u001b[0;32mfor\u001b[0m \u001b[0mindex\u001b[0m\u001b[0;34m,\u001b[0m \u001b[0mrow\u001b[0m \u001b[0;32min\u001b[0m \u001b[0mnba_df\u001b[0m\u001b[0;34m.\u001b[0m\u001b[0miterrows\u001b[0m\u001b[0;34m(\u001b[0m\u001b[0;34m)\u001b[0m\u001b[0;34m:\u001b[0m\u001b[0;34m\u001b[0m\u001b[0;34m\u001b[0m\u001b[0m\n\u001b[0;32m----> 5\u001b[0;31m     \u001b[0mab\u001b[0m \u001b[0;34m=\u001b[0m \u001b[0mAnnotationBbox\u001b[0m\u001b[0;34m(\u001b[0m\u001b[0mgetImage\u001b[0m\u001b[0;34m(\u001b[0m\u001b[0mrow\u001b[0m\u001b[0;34m[\u001b[0m\u001b[0;34m'Path'\u001b[0m\u001b[0;34m]\u001b[0m\u001b[0;34m)\u001b[0m\u001b[0;34m,\u001b[0m \u001b[0;34m(\u001b[0m\u001b[0mrow\u001b[0m\u001b[0;34m[\u001b[0m\u001b[0;34m'Home Win Percent'\u001b[0m\u001b[0;34m]\u001b[0m\u001b[0;34m,\u001b[0m \u001b[0mrow\u001b[0m\u001b[0;34m[\u001b[0m\u001b[0;34m'Away Win Percent'\u001b[0m\u001b[0;34m]\u001b[0m\u001b[0;34m)\u001b[0m\u001b[0;34m,\u001b[0m \u001b[0mframeon\u001b[0m\u001b[0;34m=\u001b[0m\u001b[0;32mFalse\u001b[0m\u001b[0;34m)\u001b[0m\u001b[0;34m\u001b[0m\u001b[0;34m\u001b[0m\u001b[0m\n\u001b[0m\u001b[1;32m      6\u001b[0m     \u001b[0max\u001b[0m\u001b[0;34m.\u001b[0m\u001b[0madd_artist\u001b[0m\u001b[0;34m(\u001b[0m\u001b[0mab\u001b[0m\u001b[0;34m)\u001b[0m\u001b[0;34m\u001b[0m\u001b[0;34m\u001b[0m\u001b[0m\n",
            "\u001b[0;32m/usr/local/lib/python3.8/dist-packages/pandas/core/series.py\u001b[0m in \u001b[0;36m__getitem__\u001b[0;34m(self, key)\u001b[0m\n\u001b[1;32m    940\u001b[0m \u001b[0;34m\u001b[0m\u001b[0m\n\u001b[1;32m    941\u001b[0m         \u001b[0;32melif\u001b[0m \u001b[0mkey_is_scalar\u001b[0m\u001b[0;34m:\u001b[0m\u001b[0;34m\u001b[0m\u001b[0;34m\u001b[0m\u001b[0m\n\u001b[0;32m--> 942\u001b[0;31m             \u001b[0;32mreturn\u001b[0m \u001b[0mself\u001b[0m\u001b[0;34m.\u001b[0m\u001b[0m_get_value\u001b[0m\u001b[0;34m(\u001b[0m\u001b[0mkey\u001b[0m\u001b[0;34m)\u001b[0m\u001b[0;34m\u001b[0m\u001b[0;34m\u001b[0m\u001b[0m\n\u001b[0m\u001b[1;32m    943\u001b[0m \u001b[0;34m\u001b[0m\u001b[0m\n\u001b[1;32m    944\u001b[0m         \u001b[0;32mif\u001b[0m \u001b[0mis_hashable\u001b[0m\u001b[0;34m(\u001b[0m\u001b[0mkey\u001b[0m\u001b[0;34m)\u001b[0m\u001b[0;34m:\u001b[0m\u001b[0;34m\u001b[0m\u001b[0;34m\u001b[0m\u001b[0m\n",
            "\u001b[0;32m/usr/local/lib/python3.8/dist-packages/pandas/core/series.py\u001b[0m in \u001b[0;36m_get_value\u001b[0;34m(self, label, takeable)\u001b[0m\n\u001b[1;32m   1049\u001b[0m \u001b[0;34m\u001b[0m\u001b[0m\n\u001b[1;32m   1050\u001b[0m         \u001b[0;31m# Similar to Index.get_value, but we do not fall back to positional\u001b[0m\u001b[0;34m\u001b[0m\u001b[0;34m\u001b[0m\u001b[0;34m\u001b[0m\u001b[0m\n\u001b[0;32m-> 1051\u001b[0;31m         \u001b[0mloc\u001b[0m \u001b[0;34m=\u001b[0m \u001b[0mself\u001b[0m\u001b[0;34m.\u001b[0m\u001b[0mindex\u001b[0m\u001b[0;34m.\u001b[0m\u001b[0mget_loc\u001b[0m\u001b[0;34m(\u001b[0m\u001b[0mlabel\u001b[0m\u001b[0;34m)\u001b[0m\u001b[0;34m\u001b[0m\u001b[0;34m\u001b[0m\u001b[0m\n\u001b[0m\u001b[1;32m   1052\u001b[0m         \u001b[0;32mreturn\u001b[0m \u001b[0mself\u001b[0m\u001b[0;34m.\u001b[0m\u001b[0mindex\u001b[0m\u001b[0;34m.\u001b[0m\u001b[0m_get_values_for_loc\u001b[0m\u001b[0;34m(\u001b[0m\u001b[0mself\u001b[0m\u001b[0;34m,\u001b[0m \u001b[0mloc\u001b[0m\u001b[0;34m,\u001b[0m \u001b[0mlabel\u001b[0m\u001b[0;34m)\u001b[0m\u001b[0;34m\u001b[0m\u001b[0;34m\u001b[0m\u001b[0m\n\u001b[1;32m   1053\u001b[0m \u001b[0;34m\u001b[0m\u001b[0m\n",
            "\u001b[0;32m/usr/local/lib/python3.8/dist-packages/pandas/core/indexes/base.py\u001b[0m in \u001b[0;36mget_loc\u001b[0;34m(self, key, method, tolerance)\u001b[0m\n\u001b[1;32m   3361\u001b[0m                 \u001b[0;32mreturn\u001b[0m \u001b[0mself\u001b[0m\u001b[0;34m.\u001b[0m\u001b[0m_engine\u001b[0m\u001b[0;34m.\u001b[0m\u001b[0mget_loc\u001b[0m\u001b[0;34m(\u001b[0m\u001b[0mcasted_key\u001b[0m\u001b[0;34m)\u001b[0m\u001b[0;34m\u001b[0m\u001b[0;34m\u001b[0m\u001b[0m\n\u001b[1;32m   3362\u001b[0m             \u001b[0;32mexcept\u001b[0m \u001b[0mKeyError\u001b[0m \u001b[0;32mas\u001b[0m \u001b[0merr\u001b[0m\u001b[0;34m:\u001b[0m\u001b[0;34m\u001b[0m\u001b[0;34m\u001b[0m\u001b[0m\n\u001b[0;32m-> 3363\u001b[0;31m                 \u001b[0;32mraise\u001b[0m \u001b[0mKeyError\u001b[0m\u001b[0;34m(\u001b[0m\u001b[0mkey\u001b[0m\u001b[0;34m)\u001b[0m \u001b[0;32mfrom\u001b[0m \u001b[0merr\u001b[0m\u001b[0;34m\u001b[0m\u001b[0;34m\u001b[0m\u001b[0m\n\u001b[0m\u001b[1;32m   3364\u001b[0m \u001b[0;34m\u001b[0m\u001b[0m\n\u001b[1;32m   3365\u001b[0m         \u001b[0;32mif\u001b[0m \u001b[0mis_scalar\u001b[0m\u001b[0;34m(\u001b[0m\u001b[0mkey\u001b[0m\u001b[0;34m)\u001b[0m \u001b[0;32mand\u001b[0m \u001b[0misna\u001b[0m\u001b[0;34m(\u001b[0m\u001b[0mkey\u001b[0m\u001b[0;34m)\u001b[0m \u001b[0;32mand\u001b[0m \u001b[0;32mnot\u001b[0m \u001b[0mself\u001b[0m\u001b[0;34m.\u001b[0m\u001b[0mhasnans\u001b[0m\u001b[0;34m:\u001b[0m\u001b[0;34m\u001b[0m\u001b[0;34m\u001b[0m\u001b[0m\n",
            "\u001b[0;31mKeyError\u001b[0m: 'Path'"
          ]
        },
        {
          "output_type": "display_data",
          "data": {
            "text/plain": [
              "<Figure size 720x480 with 1 Axes>"
            ],
            "image/png": "[encoded data removed]"
          },
          "metadata": {
            "needs_background": "light"
          }
        }
      ]
    },
    {
      "cell_type": "code",
      "source": [
        "fig, ax = plt.subplots(figsize=(15, 12))\n",
        "ax = sns.boxplot(x='Sport', y='Home Advantage', data = sports_df, ax = ax, palette = \"Set1\")\n",
        "ax = sns.stripplot(x='Sport', y='Home Advantage', data = sports_df, color = \"orange\", jitter = 0.2, size = 5.5, ax = ax)\n",
        "\n",
        "# show the graph\n",
        "plt.show()"
      ],
      "metadata": {
        "colab": {
          "base_uri": "https://localhost:8080/",
          "height": 714
        },
        "id": "MDu_NXr_yOAX",
        "outputId": "49a69336-6b35-48ee-aaeb-bcc24171a427"
      },
      "execution_count": 140,
      "outputs": [
        {
          "output_type": "display_data",
          "data": {
            "text/plain": [
              "<Figure size 1080x864 with 1 Axes>"
            ],
            "image/png": "[encoded data removed]"
          },
          "metadata": {
            "needs_background": "light"
          }
        }
      ]
    }
  ]
}