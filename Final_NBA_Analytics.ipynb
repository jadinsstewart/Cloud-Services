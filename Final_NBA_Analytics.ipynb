{
  "nbformat": 4,
  "nbformat_minor": 0,
  "metadata": {
    "colab": {
      "provenance": [],
      "include_colab_link": true
    },
    "kernelspec": {
      "name": "python3",
      "display_name": "Python 3"
    },
    "language_info": {
      "name": "python"
    }
  },
  "cells": [
    {
      "cell_type": "markdown",
      "metadata": {
        "id": "view-in-github",
        "colab_type": "text"
      },
      "source": [
        "<a href=\"https://colab.research.google.com/github/jadinsstewart/Cloud-Services/blob/main/Final_NBA_Analytics.ipynb\" target=\"_parent\"><img src=\"https://colab.research.google.com/assets/colab-badge.svg\" alt=\"Open In Colab\"/></a>"
      ]
    },
    {
      "cell_type": "markdown",
      "source": [
        "Ella Archie (earchie@calpoly.edu)\n",
        "\n",
        "Jadin Stewart (jsstewar@calpoly.edu)\n",
        "\n",
        "GSB S521-01\n",
        "\n",
        "March 6th, 2023\n",
        "\n",
        "# <center> **Impact of Home Game Advantage by Sport** <center/>"
      ],
      "metadata": {
        "id": "G3dqYprwe6i6"
      }
    },
    {
      "cell_type": "markdown",
      "source": [
        "# Introduction"
      ],
      "metadata": {
        "id": "2dtz1enoGGIz"
      }
    },
    {
      "cell_type": "markdown",
      "source": [
        "In our previous analysis, we found a positive relationship between the percent of seats occupied in a stadium and the percent of home games that each NBA team wins. To further our analysis, we have decided to broaden our scope to four different leagues/sports: NBA (Basketball), MLB (Baseball), NFL (Football), and MLS (Soccer). We are looking to see if home field advantage impacts the percent of home games won differently based on the sport."
      ],
      "metadata": {
        "id": "1A73-ROWGICL"
      }
    },
    {
      "cell_type": "markdown",
      "source": [
        "# Hypothesis"
      ],
      "metadata": {
        "id": "mIv0P_rtG5Ym"
      }
    },
    {
      "cell_type": "markdown",
      "source": [
        "Due to the smaller stadium size and shorted distance between the fans and players, we predict that the NBA is going to be more impacted by playing in their own stadium than the MLB, NFL, or MLS. This means that they will have the greatest home field advantage (Percent of Home Games Won - Percent of Home Games Lost)"
      ],
      "metadata": {
        "id": "q6RT_d6xG6r5"
      }
    },
    {
      "cell_type": "code",
      "source": [
        "import pandas as pd  \n",
        "import json \n",
        "from urllib.request import urlopen \n",
        "import matplotlib.pyplot as plt\n",
        "import seaborn as sns\n",
        "import numpy as np\n",
        "from sklearn import datasets, linear_model\n",
        "from sklearn.linear_model import LinearRegression\n",
        "import statsmodels.api as sm\n",
        "from scipy import stats\n",
        "from IPython.display import Image\n",
        "import matplotlib.pyplot as plt\n",
        "from matplotlib.offsetbox import OffsetImage, AnnotationBbox"
      ],
      "metadata": {
        "id": "997Yh9WtgeaE"
      },
      "execution_count": 77,
      "outputs": []
    },
    {
      "cell_type": "markdown",
      "source": [
        "# Data Wrangling"
      ],
      "metadata": {
        "id": "hEmcPuvYHUgQ"
      }
    },
    {
      "cell_type": "markdown",
      "source": [
        "## NBA Data"
      ],
      "metadata": {
        "id": "ynlWeBCkfRtT"
      }
    },
    {
      "cell_type": "code",
      "execution_count": 78,
      "metadata": {
        "id": "ZSWkjpfedU2W"
      },
      "outputs": [],
      "source": [
        "nba = pd.read_html(\"https://www.covers.com/sport/basketball/nba/standings/2021-2022\")\n",
        "nba_df = nba[0]\n",
        "nba_df = nba_df.drop(nba_df.columns[[6,7,8,9]], axis=1)\n",
        "nba_df.columns = (\"Team\", \"Wins\", \"Losses\", \"Win Percent\", \"Home Record\", \"Away Record\", \"b\", \"c\", \"d\", \"e\")\n",
        "nba_df = nba_df.drop(columns=['b', 'c', 'd', 'e'])\n",
        "\n",
        "team_names = {\"Boston\":\"Celtics\",\"Philadelphia\":\"76ers\",\"Toronto\":\"Raptors\", \"Brooklyn\":\"Nets\",\"New York\":\"NY Knicks\",\n",
        "              \"Milwaukee\":\"Bucks\",\"Chicago\":\"Bulls\",\"Cleveland\":\"Cavaliers\",\"Indiana\":\"Pacers\",\n",
        "              \"Detroit\":\"Pistons\",\"Miami\":\"Heat\",\"Atlanta\":\"Hawks\",\"Charlotte\":\"Hornets\",\n",
        "              \"Washington\":\"Wizards\",\"Orlando\":\"Magic\",\"Utah\":\"Jazz\",\"Denver\":\"Nuggets\",\"Minnesota\":\"Timberwolves\",\n",
        "              \"Portland\":\"Trail Blazers\",\"Oklahoma City\":\"Thunder\",\"Phoenix\":\"Suns\",\"Golden State\":\"Warriors\",\n",
        "              \"L.A. Clippers\": \"Clippers\", \"L.A. Lakers\":\"Lakers\",\"Sacramento\":\"Kings\",\"Memphis\":\"Grizzlies\",\n",
        "              \"Dallas\":\"Mavericks\", \"New Orleans\":\"Knicks\",\"San Antonio\":\"Spurs\",\"Houston\":\"Rockets\"}\n",
        "\n",
        "nba_df['Team'] = nba_df['Team'].map(team_names)\n",
        "my_split = nba_df['Home Record'].str.split(\"-\", n = 1, expand = True)\n",
        "nba_df['Home Wins'] = my_split[0]\n",
        "nba_df['Home Losses'] = my_split[1]\n",
        "nba_df['Home Wins'] = pd.to_numeric(nba_df['Home Wins'])\n",
        "nba_df['Home Losses'] = pd.to_numeric(nba_df['Home Losses'])\n",
        "nba_df['Total Home Games'] = nba_df['Home Wins'] + nba_df['Home Losses']\n",
        "nba_df['Home Win Percent'] = (nba_df['Home Wins'] / nba_df['Total Home Games']) * 100\n",
        "\n",
        "my_split2 = nba_df['Away Record'].str.split(\"-\", n = 1, expand = True)\n",
        "nba_df['Away Wins'] = my_split2[0]\n",
        "nba_df['Away Losses'] = my_split2[1]\n",
        "nba_df['Away Wins'] = pd.to_numeric(nba_df['Away Wins'])\n",
        "nba_df['Away Losses'] = pd.to_numeric(nba_df['Away Losses'])\n",
        "nba_df['Total Away Games'] = nba_df['Away Wins'] + nba_df['Away Losses']\n",
        "nba_df['Away Win Percent'] = (nba_df['Away Wins'] / nba_df['Total Away Games']) * 100\n",
        "nba_df['Home Advantage'] = nba_df['Home Win Percent'] - nba_df['Away Win Percent']\n",
        "\n",
        "nba_df['Path'] = nba_df['Team'] + '.png'"
      ]
    },
    {
      "cell_type": "markdown",
      "source": [
        "## MLB Data"
      ],
      "metadata": {
        "id": "2EFZGsAAiLTG"
      }
    },
    {
      "cell_type": "code",
      "source": [
        "# Home Record\n",
        "mlb_home = pd.read_html(\"https://www.teamrankings.com/mlb/trends/win_trends/?sc=is_home&range=yearly_mlb_2021\")\n",
        "mlb_home_df = mlb_home[0]\n",
        "mlb_home_df = mlb_home_df.drop(mlb_home_df.columns[[2,3,4]], axis=1)\n",
        "mlb_home_df.columns = (\"Team\", \"Home Record\")\n",
        "my_split = mlb_home_df['Home Record'].str.split(\"-\", n = 2, expand = True)\n",
        "mlb_home_df['Home Wins'] = my_split[0]\n",
        "mlb_home_df['Home Losses'] = my_split[1]\n",
        "mlb_home_df['Home Ties'] = my_split[2]\n",
        "mlb_home_df['Home Wins'] = pd.to_numeric(mlb_home_df['Home Wins'])\n",
        "mlb_home_df['Home Losses'] = pd.to_numeric(mlb_home_df['Home Losses'])\n",
        "mlb_home_df['Home Ties'] = pd.to_numeric(mlb_home_df['Home Ties'])\n",
        "mlb_home_df['Total Home Games'] = mlb_home_df['Home Wins'] + mlb_home_df['Home Losses'] + mlb_home_df['Home Ties']\n",
        "mlb_home_df['Home Win Percent'] = (mlb_home_df['Home Wins'] / mlb_home_df['Total Home Games']) * 100"
      ],
      "metadata": {
        "id": "FWAvRJ1qiN7A"
      },
      "execution_count": 79,
      "outputs": []
    },
    {
      "cell_type": "code",
      "source": [
        "# Away Record\n",
        "mlb_away = pd.read_html(\"https://www.teamrankings.com/mlb/trends/win_trends/?sc=is_away&range=yearly_mlb_2021\")\n",
        "mlb_away_df = mlb_away[0]\n",
        "mlb_away_df = mlb_away_df.drop(mlb_away_df.columns[[2,3,4]], axis=1)\n",
        "mlb_away_df.columns = (\"Team\", \"Away Record\")\n",
        "my_split2 = mlb_away_df['Away Record'].str.split(\"-\", n = 2, expand = True)\n",
        "mlb_away_df['Away Wins'] = my_split2[0]\n",
        "mlb_away_df['Away Losses'] = my_split2[1]\n",
        "mlb_away_df['Away Ties'] = my_split2[2]\n",
        "mlb_away_df['Away Wins'] = pd.to_numeric(mlb_away_df['Away Wins'])\n",
        "mlb_away_df['Away Losses'] = pd.to_numeric(mlb_away_df['Away Losses'])\n",
        "mlb_away_df['Away Ties'] = pd.to_numeric(mlb_away_df['Away Ties'])\n",
        "mlb_away_df['Total Away Games'] = mlb_away_df['Away Wins'] + mlb_away_df['Away Losses'] + mlb_away_df['Away Ties']\n",
        "mlb_away_df['Away Win Percent'] = (mlb_away_df['Away Wins'] / mlb_away_df['Total Away Games']) * 100"
      ],
      "metadata": {
        "id": "er_j0Eo1k_wj"
      },
      "execution_count": 80,
      "outputs": []
    },
    {
      "cell_type": "code",
      "source": [
        "# Merge\n",
        "mlb_df = pd.merge(mlb_home_df, mlb_away_df, on=[\"Team\", \"Team\"])\n",
        "mlb_df['Home Advantage'] = mlb_df['Home Win Percent'] - mlb_df['Away Win Percent']"
      ],
      "metadata": {
        "id": "Zq-ctWihlJjT"
      },
      "execution_count": 81,
      "outputs": []
    },
    {
      "cell_type": "markdown",
      "source": [
        "## NFL Data"
      ],
      "metadata": {
        "id": "RNxCYLM-leOz"
      }
    },
    {
      "cell_type": "code",
      "source": [
        "nfl = pd.read_html(\"https://www.nfl.com/standings/league/2021/reg\")\n",
        "nfl_df = nfl[0]\n",
        "nfl_df = nfl_df.drop(nfl_df.columns[[1,2,3,4,5,6,7,10,11,12,13,14,15,16]], axis=1)\n",
        "my_split = nfl_df['Home'].str.split(\"-\", n = 2, expand = True)\n",
        "nfl_df['Home Wins'] = my_split[0]\n",
        "nfl_df['Home Losses'] = my_split[1]\n",
        "nfl_df['Home Ties'] = my_split[2]\n",
        "nfl_df['Home Wins'] = pd.to_numeric(nfl_df['Home Wins'])\n",
        "nfl_df['Home Losses'] = pd.to_numeric(nfl_df['Home Losses'])\n",
        "nfl_df['Home Ties'] = pd.to_numeric(nfl_df['Home Ties'])\n",
        "nfl_df['Total Home Games'] = nfl_df['Home Wins'] + nfl_df['Home Losses'] + nfl_df['Home Ties']\n",
        "nfl_df['Home Win Percent'] = (nfl_df['Home Wins'] / nfl_df['Total Home Games']) * 100\n",
        "\n",
        "my_split2 = nfl_df['Road'].str.split(\"-\", n = 2, expand = True)\n",
        "nfl_df['Away Wins'] = my_split2[0]\n",
        "nfl_df['Away Losses'] = my_split2[1]\n",
        "nfl_df['Away Ties'] = my_split2[2]\n",
        "nfl_df['Away Wins'] = pd.to_numeric(nfl_df['Away Wins'])\n",
        "nfl_df['Away Losses'] = pd.to_numeric(nfl_df['Away Losses'])\n",
        "nfl_df['Away Ties'] = pd.to_numeric(nfl_df['Away Ties'])\n",
        "nfl_df['Total Away Games'] = nfl_df['Away Wins'] + nfl_df['Away Losses'] + nfl_df['Away Ties']\n",
        "nfl_df['Away Win Percent'] = (nfl_df['Away Wins'] / nfl_df['Total Away Games']) * 100\n",
        "nfl_df['Home Advantage'] = nfl_df['Home Win Percent'] - nfl_df['Away Win Percent']\n",
        "nfl_df.rename(columns = {\"NFL Team\": \"Team\"}, inplace = True)\n",
        "\n",
        "team_messy = {'Detroit LionsLions': 'Detroit Lions', 'Jacksonville JaguarsJaguars': 'Jacksonville Jaguars',\n",
        "                      'Houston TexansTexans': 'Houston Texans', 'New York GiantsGiants': 'New York Giants', \n",
        "                      'New York JetsJets': 'New York Jets', 'Carolina PanthersPanthers': 'Carolina Panthers',\n",
        "                      'Chicago BearsBears': 'Chicago Bears', 'Atlanta FalconsFalcons': 'Atlanta Falcons', \n",
        "                      'Denver BroncosBroncos': 'Denver Broncos', 'Seattle SeahawksSeahawks': 'Seattle Seahawks',\n",
        "                      'Washington CommandersFootball Team': 'Washington Commanders', 'Baltimore RavensRavens': 'Baltimore Ravens', \n",
        "                      'Cleveland BrownsBrowns': 'Cleveland Browns', 'Minnesota VikingsVikings': 'Minnesota Vikings', \n",
        "                      'Indianapolis ColtsColts': 'Indianapolis Colts', 'Los Angeles ChargersChargers': 'Los Angeles Chargers', \n",
        "                      'Miami DolphinsDolphins': 'Miami Dolphins', 'New Orleans SaintsSaints': 'New Orleans Saints',\n",
        "                      'Philadelphia Eagles xyEagles xy': 'Philadelphia Eagles', 'Pittsburgh Steelers xySteelers xy': 'Pittsburgh Steelers', \n",
        "                      'Cincinnati Bengals xzBengals xz': 'Cincinnati Bengals', 'Las Vegas Raiders xyRaiders xy': 'Las Vegas Raiders',\n",
        "                      'New England Patriots xyPatriots xy': 'New England Patriots', 'San Francisco 49ers xy49ers xy': 'San Francisco 49ers', \n",
        "                      'Arizona Cardinals xyCardinals xy': 'Arizona Cardinals', 'Buffalo Bills xzBills xz': 'Buffalo Bills',\n",
        "                      'Dallas Cowboys xzCowboys xz': 'Dallas Cowboys', 'Kansas City Chiefs xzChiefs xz': 'Kansas City Chiefs', \n",
        "                      'Los Angeles Rams xzRams xz': 'Los Angeles Rams', 'Tennessee Titans xz*Titans xz*': 'Tennessee Titans',\n",
        "                      'Green Bay Packers xz*Packers xz*': 'Green Bay Packers', 'Tampa Bay Buccaneers xzBuccaneers xz': 'Tampa Bay Buccaneers'}\n",
        "\n",
        "nfl_df['Team'] = nfl_df['Team'].map(team_messy)"
      ],
      "metadata": {
        "id": "5MHEsTo8lgS7"
      },
      "execution_count": 82,
      "outputs": []
    },
    {
      "cell_type": "markdown",
      "source": [
        "## MLS Data"
      ],
      "metadata": {
        "id": "YU5L6WeXnEeY"
      }
    },
    {
      "cell_type": "code",
      "source": [
        "# Home\n",
        "mls = pd.read_html(\"https://footballdatabase.com/league-scores-tables/united-states-mls-2021\")\n",
        "mls_home_df = mls[1]\n",
        "mls_home_df = mls_home_df.drop(mls_home_df.columns[[0,2,3,8,9]], axis=1)\n",
        "mls_home_df.columns = (\"Team\", \"Total Home Games\", \"Home Wins\", \"Home Ties\", \"Home Losses\")\n",
        "mls_home_df['Home Wins'] = pd.to_numeric(mls_home_df['Home Wins'])\n",
        "mls_home_df['Home Losses'] = pd.to_numeric(mls_home_df['Home Losses'])\n",
        "mls_home_df['Home Ties'] = pd.to_numeric(mls_home_df['Home Ties'])\n",
        "mls_home_df['Total Home Games'] = pd.to_numeric(mls_home_df['Total Home Games'])\n",
        "mls_home_df['Home Win Percent'] = (mls_home_df['Home Wins'] / mls_home_df['Total Home Games']) * 100"
      ],
      "metadata": {
        "id": "ozSBuz7znGik"
      },
      "execution_count": 83,
      "outputs": []
    },
    {
      "cell_type": "code",
      "source": [
        "# Away\n",
        "mls = pd.read_html(\"https://footballdatabase.com/league-scores-tables/united-states-mls-2021\")\n",
        "mls_away_df = mls[2]\n",
        "mls_away_df = mls_away_df.drop(mls_away_df.columns[[0,2,3,8,9]], axis=1)\n",
        "mls_away_df.columns = (\"Team\", \"Total Away Games\", \"Away Wins\", \"Away Ties\", \"Away Losses\")\n",
        "mls_away_df['Away Wins'] = pd.to_numeric(mls_away_df['Away Wins'])\n",
        "mls_away_df['Away Losses'] = pd.to_numeric(mls_away_df['Away Losses'])\n",
        "mls_away_df['Away Ties'] = pd.to_numeric(mls_away_df['Away Ties'])\n",
        "mls_away_df['Total Away Games'] = pd.to_numeric(mls_away_df['Total Away Games'])\n",
        "mls_away_df['Away Win Percent'] = (mls_away_df['Away Wins'] / mls_away_df['Total Away Games']) * 100"
      ],
      "metadata": {
        "id": "PNO8stvqnXBq"
      },
      "execution_count": 84,
      "outputs": []
    },
    {
      "cell_type": "code",
      "source": [
        "# Merge\n",
        "mls_df = pd.merge(mls_home_df, mls_away_df, on=[\"Team\", \"Team\"])\n",
        "mls_df['Home Advantage'] = mls_df['Home Win Percent'] - mls_df['Away Win Percent']"
      ],
      "metadata": {
        "id": "qd0tS50KrHfB"
      },
      "execution_count": 85,
      "outputs": []
    },
    {
      "cell_type": "markdown",
      "source": [
        "## Merged Data Frame"
      ],
      "metadata": {
        "id": "AwnMGcXGvGXf"
      }
    },
    {
      "cell_type": "code",
      "source": [
        "nba_df['Sport'] = 'Basketball'\n",
        "mlb_df['Sport'] = 'Baseball'\n",
        "nfl_df['Sport'] = 'Football'\n",
        "mls_df['Sport'] = 'Soccer'\n",
        "nba_df = nba_df[['Team', 'Home Win Percent', 'Away Win Percent', 'Home Advantage', 'Sport']]\n",
        "mlb_df = mlb_df[['Team', 'Home Win Percent', 'Away Win Percent', 'Home Advantage', 'Sport']]\n",
        "nfl_df = nfl_df[['Team', 'Home Win Percent', 'Away Win Percent', 'Home Advantage', 'Sport']]\n",
        "mls_df = mls_df[['Team', 'Home Win Percent', 'Away Win Percent', 'Home Advantage', 'Sport']]\n",
        "sports_df = pd.concat([nba_df, mlb_df, nfl_df, mls_df], axis=0)\n",
        "\n",
        "\n"
      ],
      "metadata": {
        "id": "ONaJsclVvX4z"
      },
      "execution_count": 86,
      "outputs": []
    },
    {
      "cell_type": "markdown",
      "source": [
        "# Exploring the Data "
      ],
      "metadata": {
        "id": "IKSa2fuMpteC"
      }
    },
    {
      "cell_type": "code",
      "source": [
        "# Home Advantage Percent Descending \n",
        "\n",
        "df_descending = sports_df.sort_values(\"Home Advantage\",ascending=False)\n",
        "\n",
        "desc = df_descending[[\"Team\", \"Home Advantage\", \"Sport\"]]\n",
        "\n",
        "# top 10 teams\n",
        "print(desc.head(20))"
      ],
      "metadata": {
        "colab": {
          "base_uri": "https://localhost:8080/"
        },
        "id": "gyjSoloFpyJK",
        "outputId": "e0380a98-04c2-4cf9-d410-f551fa655a51"
      },
      "execution_count": 87,
      "outputs": [
        {
          "output_type": "stream",
          "name": "stdout",
          "text": [
            "                    Team  Home Advantage       Sport\n",
            "9    Vancouver Whitecaps       47.058824      Soccer\n",
            "5              DC United       47.058824      Soccer\n",
            "1     Philadelphia Union       47.058824      Soccer\n",
            "30     Green Bay Packers       44.444444    Football\n",
            "12      Cleveland Browns       41.666667    Football\n",
            "7          Columbus Crew       41.176471      Soccer\n",
            "8       Minnesota United       41.176471      Soccer\n",
            "0          Detroit Lions       37.500000    Football\n",
            "14           CF Montreal       35.294118      Soccer\n",
            "3       New York City FC       35.294118      Soccer\n",
            "20        Houston Dynamo       35.294118      Soccer\n",
            "1   Jacksonville Jaguars       33.333333    Football\n",
            "11     Atlanta United FC       29.411765      Soccer\n",
            "19          Chicago Fire       29.411765      Soccer\n",
            "21             Austin FC       29.411765      Soccer\n",
            "2       Portland Timbers       29.411765      Soccer\n",
            "13     Minnesota Vikings       29.166667    Football\n",
            "19   Pittsburgh Steelers       29.166667    Football\n",
            "16        Miami Dolphins       29.166667    Football\n",
            "11                 Hawks       26.829268  Basketball\n"
          ]
        }
      ]
    },
    {
      "cell_type": "code",
      "source": [
        "# Home Advantage Percent Ascending \n",
        "\n",
        "df_ascending = sports_df.sort_values(\"Home Advantage\")\n",
        "\n",
        "asc = df_ascending[[\"Team\", \"Home Advantage\", \"Sport\"]]\n",
        "\n",
        "# top 10 teams\n",
        "print(asc.head(20))"
      ],
      "metadata": {
        "colab": {
          "base_uri": "https://localhost:8080/"
        },
        "id": "iF2GGQWUqTjC",
        "outputId": "ac0bbdc7-e551-4229-ca4d-4903d8d2e029"
      },
      "execution_count": 88,
      "outputs": [
        {
          "output_type": "stream",
          "name": "stdout",
          "text": [
            "                     Team  Home Advantage       Sport\n",
            "24      Arizona Cardinals      -51.388889    Football\n",
            "7         Atlanta Falcons      -30.555556    Football\n",
            "22   New England Patriots      -30.555556    Football\n",
            "17     New Orleans Saints      -29.166667    Football\n",
            "18    Philadelphia Eagles      -29.166667    Football\n",
            "14     Indianapolis Colts      -18.055556    Football\n",
            "23    San Francisco 49ers      -16.666667    Football\n",
            "28       Los Angeles Rams      -15.277778    Football\n",
            "26         Dallas Cowboys      -15.277778    Football\n",
            "26          FC Cincinnati      -11.764706      Soccer\n",
            "3                    Nets       -9.756098  Basketball\n",
            "5       Carolina Panthers       -8.333333    Football\n",
            "1                   76ers       -7.317073  Basketball\n",
            "4               NY Knicks       -7.317073  Basketball\n",
            "9        Seattle Seahawks       -6.944444    Football\n",
            "21      Las Vegas Raiders       -6.944444    Football\n",
            "20     Cincinnati Bengals       -6.944444    Football\n",
            "10  Washington Commanders       -6.944444    Football\n",
            "17    Seattle Sounders FC       -5.882353      Soccer\n",
            "28                  Spurs       -4.878049  Basketball\n"
          ]
        }
      ]
    },
    {
      "cell_type": "markdown",
      "source": [
        "# Visualizations"
      ],
      "metadata": {
        "id": "tfxlyoRtyKTN"
      }
    },
    {
      "cell_type": "markdown",
      "source": [
        "## Boxplot of Home Advantage by Sport"
      ],
      "metadata": {
        "id": "S9625srMOu71"
      }
    },
    {
      "cell_type": "code",
      "source": [
        "fig, ax = plt.subplots(figsize=(15, 12))\n",
        "ax = sns.boxplot(x='Sport', y='Home Advantage', data = sports_df, ax = ax, palette = \"Set1\")\n",
        "ax = sns.stripplot(x='Sport', y='Home Advantage', data = sports_df, color = \"orange\", jitter = 0.2, size = 5.5, ax = ax)\n",
        "\n",
        "# show the graph\n",
        "plt.show()"
      ],
      "metadata": {
        "colab": {
          "base_uri": "https://localhost:8080/",
          "height": 714
        },
        "id": "MDu_NXr_yOAX",
        "outputId": "713b5e04-7cd2-46a8-e2a4-58bc0ac07102"
      },
      "execution_count": 89,
      "outputs": [
        {
          "output_type": "display_data",
          "data": {
            "text/plain": [
              "<Figure size 1080x864 with 1 Axes>"
            ],
            "image/png": "[encoded data removed]"
          },
          "metadata": {
            "needs_background": "light"
          }
        }
      ]
    },
    {
      "cell_type": "markdown",
      "source": [
        "# Glimpse of Average Home Advantage by Sport"
      ],
      "metadata": {
        "id": "T-Qb-NDOSuH8"
      }
    },
    {
      "cell_type": "code",
      "source": [
        "sports_df.groupby(['Sport']).mean()"
      ],
      "metadata": {
        "colab": {
          "base_uri": "https://localhost:8080/",
          "height": 204
        },
        "id": "eGwVWfv_QxXg",
        "outputId": "c377eca7-45fe-4d82-9de4-4d89eeab3350"
      },
      "execution_count": 90,
      "outputs": [
        {
          "output_type": "execute_result",
          "data": {
            "text/plain": [
              "            Home Win Percent  Away Win Percent  Home Advantage\n",
              "Sport                                                         \n",
              "Baseball           53.853040         45.874534        7.978506\n",
              "Basketball         54.390244         45.609756        8.780488\n",
              "Football           51.302083         47.960069        3.342014\n",
              "Soccer             47.930283         25.054466       22.875817"
            ],
            "text/html": [
              "\n",
              "  <div id=\"df-3d55de97-82e1-4fa3-92f6-4e2ecd55c843\">\n",
              "    <div class=\"colab-df-container\">\n",
              "      <div>\n",
              "<style scoped>\n",
              "    .dataframe tbody tr th:only-of-type {\n",
              "        vertical-align: middle;\n",
              "    }\n",
              "\n",
              "    .dataframe tbody tr th {\n",
              "        vertical-align: top;\n",
              "    }\n",
              "\n",
              "    .dataframe thead th {\n",
              "        text-align: right;\n",
              "    }\n",
              "</style>\n",
              "<table border=\"1\" class=\"dataframe\">\n",
              "  <thead>\n",
              "    <tr style=\"text-align: right;\">\n",
              "      <th></th>\n",
              "      <th>Home Win Percent</th>\n",
              "      <th>Away Win Percent</th>\n",
              "      <th>Home Advantage</th>\n",
              "    </tr>\n",
              "    <tr>\n",
              "      <th>Sport</th>\n",
              "      <th></th>\n",
              "      <th></th>\n",
              "      <th></th>\n",
              "    </tr>\n",
              "  </thead>\n",
              "  <tbody>\n",
              "    <tr>\n",
              "      <th>Baseball</th>\n",
              "      <td>53.853040</td>\n",
              "      <td>45.874534</td>\n",
              "      <td>7.978506</td>\n",
              "    </tr>\n",
              "    <tr>\n",
              "      <th>Basketball</th>\n",
              "      <td>54.390244</td>\n",
              "      <td>45.609756</td>\n",
              "      <td>8.780488</td>\n",
              "    </tr>\n",
              "    <tr>\n",
              "      <th>Football</th>\n",
              "      <td>51.302083</td>\n",
              "      <td>47.960069</td>\n",
              "      <td>3.342014</td>\n",
              "    </tr>\n",
              "    <tr>\n",
              "      <th>Soccer</th>\n",
              "      <td>47.930283</td>\n",
              "      <td>25.054466</td>\n",
              "      <td>22.875817</td>\n",
              "    </tr>\n",
              "  </tbody>\n",
              "</table>\n",
              "</div>\n",
              "      <button class=\"colab-df-convert\" onclick=\"convertToInteractive('df-3d55de97-82e1-4fa3-92f6-4e2ecd55c843')\"\n",
              "              title=\"Convert this dataframe to an interactive table.\"\n",
              "              style=\"display:none;\">\n",
              "        \n",
              "  <svg xmlns=\"http://www.w3.org/2000/svg\" height=\"24px\"viewBox=\"0 0 24 24\"\n",
              "       width=\"24px\">\n",
              "    <path d=\"M0 0h24v24H0V0z\" fill=\"none\"/>\n",
              "    <path d=\"M18.56 5.44l.94 2.06.94-2.06 2.06-.94-2.06-.94-.94-2.06-.94 2.06-2.06.94zm-11 1L8.5 8.5l.94-2.06 2.06-.94-2.06-.94L8.5 2.5l-.94 2.06-2.06.94zm10 10l.94 2.06.94-2.06 2.06-.94-2.06-.94-.94-2.06-.94 2.06-2.06.94z\"/><path d=\"M17.41 7.96l-1.37-1.37c-.4-.4-.92-.59-1.43-.59-.52 0-1.04.2-1.43.59L10.3 9.45l-7.72 7.72c-.78.78-.78 2.05 0 2.83L4 21.41c.39.39.9.59 1.41.59.51 0 1.02-.2 1.41-.59l7.78-7.78 2.81-2.81c.8-.78.8-2.07 0-2.86zM5.41 20L4 18.59l7.72-7.72 1.47 1.35L5.41 20z\"/>\n",
              "  </svg>\n",
              "      </button>\n",
              "      \n",
              "  <style>\n",
              "    .colab-df-container {\n",
              "      display:flex;\n",
              "      flex-wrap:wrap;\n",
              "      gap: 12px;\n",
              "    }\n",
              "\n",
              "    .colab-df-convert {\n",
              "      background-color: #E8F0FE;\n",
              "      border: none;\n",
              "      border-radius: 50%;\n",
              "      cursor: pointer;\n",
              "      display: none;\n",
              "      fill: #1967D2;\n",
              "      height: 32px;\n",
              "      padding: 0 0 0 0;\n",
              "      width: 32px;\n",
              "    }\n",
              "\n",
              "    .colab-df-convert:hover {\n",
              "      background-color: #E2EBFA;\n",
              "      box-shadow: 0px 1px 2px rgba(60, 64, 67, 0.3), 0px 1px 3px 1px rgba(60, 64, 67, 0.15);\n",
              "      fill: #174EA6;\n",
              "    }\n",
              "\n",
              "    [theme=dark] .colab-df-convert {\n",
              "      background-color: #3B4455;\n",
              "      fill: #D2E3FC;\n",
              "    }\n",
              "\n",
              "    [theme=dark] .colab-df-convert:hover {\n",
              "      background-color: #434B5C;\n",
              "      box-shadow: 0px 1px 3px 1px rgba(0, 0, 0, 0.15);\n",
              "      filter: drop-shadow(0px 1px 2px rgba(0, 0, 0, 0.3));\n",
              "      fill: #FFFFFF;\n",
              "    }\n",
              "  </style>\n",
              "\n",
              "      <script>\n",
              "        const buttonEl =\n",
              "          document.querySelector('#df-3d55de97-82e1-4fa3-92f6-4e2ecd55c843 button.colab-df-convert');\n",
              "        buttonEl.style.display =\n",
              "          google.colab.kernel.accessAllowed ? 'block' : 'none';\n",
              "\n",
              "        async function convertToInteractive(key) {\n",
              "          const element = document.querySelector('#df-3d55de97-82e1-4fa3-92f6-4e2ecd55c843');\n",
              "          const dataTable =\n",
              "            await google.colab.kernel.invokeFunction('convertToInteractive',\n",
              "                                                     [key], {});\n",
              "          if (!dataTable) return;\n",
              "\n",
              "          const docLinkHtml = 'Like what you see? Visit the ' +\n",
              "            '<a target=\"_blank\" href=https://colab.research.google.com/notebooks/data_table.ipynb>data table notebook</a>'\n",
              "            + ' to learn more about interactive tables.';\n",
              "          element.innerHTML = '';\n",
              "          dataTable['output_type'] = 'display_data';\n",
              "          await google.colab.output.renderOutput(dataTable, element);\n",
              "          const docLink = document.createElement('div');\n",
              "          docLink.innerHTML = docLinkHtml;\n",
              "          element.appendChild(docLink);\n",
              "        }\n",
              "      </script>\n",
              "    </div>\n",
              "  </div>\n",
              "  "
            ]
          },
          "metadata": {},
          "execution_count": 90
        }
      ]
    },
    {
      "cell_type": "markdown",
      "source": [
        "# Statistical Analysis - ANOVA"
      ],
      "metadata": {
        "id": "BklJA9JBQvKB"
      }
    },
    {
      "cell_type": "markdown",
      "source": [
        "Null Hypothesis: The average home advantage is the same across each sport\n",
        "\n",
        "Alternative Hypothesis: At least one of the sports has a different average home advantage"
      ],
      "metadata": {
        "id": "ouyN71VETTfR"
      }
    },
    {
      "cell_type": "code",
      "source": [
        "stats.f_oneway(sports_df['Home Advantage'][sports_df['Sport'] == 'Baseball'],\n",
        "               sports_df['Home Advantage'][sports_df['Sport'] == 'Basketball'],\n",
        "               sports_df['Home Advantage'][sports_df['Sport'] == 'Football'],\n",
        "               sports_df['Home Advantage'][sports_df['Sport'] == 'Soccer'])"
      ],
      "metadata": {
        "colab": {
          "base_uri": "https://localhost:8080/"
        },
        "id": "4heZv1ntSzg_",
        "outputId": "f2314049-e26d-4d25-8879-dbec9fb282e3"
      },
      "execution_count": 91,
      "outputs": [
        {
          "output_type": "execute_result",
          "data": {
            "text/plain": [
              "F_onewayResult(statistic=7.7705719437513245, pvalue=9.046481756569901e-05)"
            ]
          },
          "metadata": {},
          "execution_count": 91
        }
      ]
    },
    {
      "cell_type": "markdown",
      "source": [
        "Test Statistic: 7.770571943751326\n",
        "\n",
        "P-Value: 9.046481756569759e-05\n",
        "\n",
        "Conclusion: Reject the null hypothesis. At least one of the sports has a different average home advantage."
      ],
      "metadata": {
        "id": "2F3pr2EgTdwR"
      }
    },
    {
      "cell_type": "markdown",
      "source": [
        "# Statistcal Analysis - T Tests"
      ],
      "metadata": {
        "id": "SxSY7F91T0RS"
      }
    },
    {
      "cell_type": "markdown",
      "source": [
        "### Baseball vs. Basketball Home Advantage"
      ],
      "metadata": {
        "id": "_jb1NBtiZTzT"
      }
    },
    {
      "cell_type": "code",
      "source": [
        "stats.ttest_ind(sports_df['Home Advantage'][sports_df['Sport'] == 'Baseball'], sports_df['Home Advantage'][sports_df['Sport'] == 'Basketball'], equal_var=True)"
      ],
      "metadata": {
        "colab": {
          "base_uri": "https://localhost:8080/"
        },
        "id": "0OSqWXjXT4y4",
        "outputId": "0dc0c939-f6bf-48d6-c0f9-53c19fd863ef"
      },
      "execution_count": 92,
      "outputs": [
        {
          "output_type": "execute_result",
          "data": {
            "text/plain": [
              "Ttest_indResult(statistic=-0.34375422925591964, pvalue=0.7322742066857274)"
            ]
          },
          "metadata": {},
          "execution_count": 92
        }
      ]
    },
    {
      "cell_type": "markdown",
      "source": [
        "No significant differnece"
      ],
      "metadata": {
        "id": "8RHSvfjlZZyv"
      }
    },
    {
      "cell_type": "markdown",
      "source": [
        "### Baseball vs. Football Home Advantage"
      ],
      "metadata": {
        "id": "i22-z6lHZbzZ"
      }
    },
    {
      "cell_type": "code",
      "source": [
        "stats.ttest_ind(sports_df['Home Advantage'][sports_df['Sport'] == 'Baseball'], sports_df['Home Advantage'][sports_df['Sport'] == 'Football'], equal_var=True)"
      ],
      "metadata": {
        "colab": {
          "base_uri": "https://localhost:8080/"
        },
        "id": "9p4WbJa6Y-_8",
        "outputId": "dcadc979-769c-476a-f48a-e4afae3d286e"
      },
      "execution_count": 93,
      "outputs": [
        {
          "output_type": "execute_result",
          "data": {
            "text/plain": [
              "Ttest_indResult(statistic=0.9943646737808914, pvalue=0.3240387229482464)"
            ]
          },
          "metadata": {},
          "execution_count": 93
        }
      ]
    },
    {
      "cell_type": "markdown",
      "source": [
        "No significant difference"
      ],
      "metadata": {
        "id": "VZBvSxBNZevD"
      }
    },
    {
      "cell_type": "markdown",
      "source": [
        "### Baseball vs. Soccer Home Advantage"
      ],
      "metadata": {
        "id": "FEGZ7f1tZgkQ"
      }
    },
    {
      "cell_type": "code",
      "source": [
        "stats.ttest_ind(sports_df['Home Advantage'][sports_df['Sport'] == 'Baseball'], sports_df['Home Advantage'][sports_df['Sport'] == 'Soccer'], equal_var=True)\n"
      ],
      "metadata": {
        "colab": {
          "base_uri": "https://localhost:8080/"
        },
        "id": "rU5obbUTZFzu",
        "outputId": "c532bae7-6f58-46ed-8a58-51639b5b8de8"
      },
      "execution_count": 94,
      "outputs": [
        {
          "output_type": "execute_result",
          "data": {
            "text/plain": [
              "Ttest_indResult(statistic=-4.538646644900702, pvalue=3.121844201351725e-05)"
            ]
          },
          "metadata": {},
          "execution_count": 94
        }
      ]
    },
    {
      "cell_type": "markdown",
      "source": [
        "Significant difference"
      ],
      "metadata": {
        "id": "MDajwoPJZikk"
      }
    },
    {
      "cell_type": "markdown",
      "source": [
        "### Basketball vs. Football Home Advantage"
      ],
      "metadata": {
        "id": "n7tmpZgeZpqS"
      }
    },
    {
      "cell_type": "code",
      "source": [
        "stats.ttest_ind(sports_df['Home Advantage'][sports_df['Sport'] == 'Basketball'], sports_df['Home Advantage'][sports_df['Sport'] == 'Football'], equal_var=True)"
      ],
      "metadata": {
        "colab": {
          "base_uri": "https://localhost:8080/"
        },
        "id": "zMAaKSUyZKuU",
        "outputId": "923cdbe8-bd08-41a1-b5a8-70a5f13a8301"
      },
      "execution_count": 95,
      "outputs": [
        {
          "output_type": "execute_result",
          "data": {
            "text/plain": [
              "Ttest_indResult(statistic=1.132451324902994, pvalue=0.2619501333694169)"
            ]
          },
          "metadata": {},
          "execution_count": 95
        }
      ]
    },
    {
      "cell_type": "markdown",
      "source": [
        "No significant difference"
      ],
      "metadata": {
        "id": "Xq4kFNfvZs9g"
      }
    },
    {
      "cell_type": "markdown",
      "source": [
        "### Basketball vs. Soccer Home Advantage"
      ],
      "metadata": {
        "id": "FueHSfSlZukm"
      }
    },
    {
      "cell_type": "code",
      "source": [
        "stats.ttest_ind(sports_df['Home Advantage'][sports_df['Sport'] == 'Basketball'], sports_df['Home Advantage'][sports_df['Sport'] == 'Soccer'], equal_var=True)"
      ],
      "metadata": {
        "colab": {
          "base_uri": "https://localhost:8080/"
        },
        "id": "jHV4iKZPZOlR",
        "outputId": "dc6ed2fb-3631-432e-cf06-12810d2fffd3"
      },
      "execution_count": 96,
      "outputs": [
        {
          "output_type": "execute_result",
          "data": {
            "text/plain": [
              "Ttest_indResult(statistic=-4.011787603540923, pvalue=0.00018357350781414726)"
            ]
          },
          "metadata": {},
          "execution_count": 96
        }
      ]
    },
    {
      "cell_type": "markdown",
      "source": [
        "Significant difference"
      ],
      "metadata": {
        "id": "PYGT0Rm3ZxGp"
      }
    },
    {
      "cell_type": "markdown",
      "source": [
        "### Football vs. Soccer Home Advantage"
      ],
      "metadata": {
        "id": "MBk0IUiMZyg7"
      }
    },
    {
      "cell_type": "code",
      "source": [
        "stats.ttest_ind(sports_df['Home Advantage'][sports_df['Sport'] == 'Football'], sports_df['Home Advantage'][sports_df['Sport'] == 'Soccer'], equal_var=True)"
      ],
      "metadata": {
        "colab": {
          "base_uri": "https://localhost:8080/"
        },
        "id": "kb_Gi0k2ZRLV",
        "outputId": "164f977f-fea1-4ce5-bb36-6980d9ceee46"
      },
      "execution_count": 97,
      "outputs": [
        {
          "output_type": "execute_result",
          "data": {
            "text/plain": [
              "Ttest_indResult(statistic=-3.561395071589911, pvalue=0.0007529788934772796)"
            ]
          },
          "metadata": {},
          "execution_count": 97
        }
      ]
    },
    {
      "cell_type": "markdown",
      "source": [
        "Significant difference"
      ],
      "metadata": {
        "id": "M42BTRylZ1Bu"
      }
    },
    {
      "cell_type": "markdown",
      "source": [
        "# Conclusion"
      ],
      "metadata": {
        "id": "XvghD51RZ7c4"
      }
    },
    {
      "cell_type": "markdown",
      "source": [
        "Based on the visualizations, tables, and statistical tests above, we can see that there is not a significant differnece between the average home advantage of basketball, football, and baseball. However, soccer has a statistically significant difference in average home advantage from all three other sports. We can see that soccer is most impacted by home field advantage. This goes against our original hypothesis. Moving forward, it would be interesting to investigate how the volume of the stadiums impacts whether a team wins at home or not."
      ],
      "metadata": {
        "id": "JNCsBQlQZ9wv"
      }
    }
  ]
}