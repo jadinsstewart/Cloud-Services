{
  "nbformat": 4,
  "nbformat_minor": 0,
  "metadata": {
    "colab": {
      "provenance": [],
      "authorship_tag": "ABX9TyPUQJqo5AEuuJE3ZZAoV5Rp",
      "include_colab_link": true
    },
    "kernelspec": {
      "name": "python3",
      "display_name": "Python 3"
    },
    "language_info": {
      "name": "python"
    }
  },
  "cells": [
    {
      "cell_type": "markdown",
      "metadata": {
        "id": "view-in-github",
        "colab_type": "text"
      },
      "source": [
        "<a href=\"https://colab.research.google.com/github/jadinsstewart/Cloud-Services/blob/main/Final_NBA_Analytics.ipynb\" target=\"_parent\"><img src=\"https://colab.research.google.com/assets/colab-badge.svg\" alt=\"Open In Colab\"/></a>"
      ]
    },
    {
      "cell_type": "markdown",
      "source": [
        "Ella Archie (ejarchie@calpoly.edu)\n",
        "\n",
        "Jadin Stewart (jsstewar@calpoly.edu)\n",
        "\n",
        "GSB S521-01\n",
        "\n",
        "March 6th, 2023\n",
        "\n",
        "# <center> **Impact of Home Game Advantage by Sport** <center/>"
      ],
      "metadata": {
        "id": "G3dqYprwe6i6"
      }
    },
    {
      "cell_type": "code",
      "source": [
        "import pandas as pd  \n",
        "import json \n",
        "from urllib.request import urlopen \n",
        "import matplotlib.pyplot as plt\n",
        "import seaborn as sns\n",
        "import numpy as np\n",
        "from sklearn import datasets, linear_model\n",
        "from sklearn.linear_model import LinearRegression\n",
        "import statsmodels.api as sm\n",
        "from scipy import stats"
      ],
      "metadata": {
        "id": "997Yh9WtgeaE"
      },
      "execution_count": 82,
      "outputs": []
    },
    {
      "cell_type": "markdown",
      "source": [
        "# NBA Data"
      ],
      "metadata": {
        "id": "ynlWeBCkfRtT"
      }
    },
    {
      "cell_type": "code",
      "execution_count": 83,
      "metadata": {
        "id": "ZSWkjpfedU2W"
      },
      "outputs": [],
      "source": [
        "nba = pd.read_html(\"https://www.covers.com/sport/basketball/nba/standings/2021-2022\")\n",
        "\n",
        "nba_df = nba[0]\n",
        "\n",
        "nba_df = nba_df.drop(nba_df.columns[[6,7,8,9]], axis=1)\n",
        "\n",
        "nba_df.columns = (\"Team\", \"Wins\", \"Losses\", \"Win Percent\", \"Home Record\", \"Away Record\", \"b\", \"c\", \"d\", \"e\")\n",
        "\n",
        "nba_df = nba_df.drop(columns=['b', 'c', 'd', 'e'])\n",
        "\n",
        "\n",
        "team_names = {\"Boston\":\"Celtics\",\"Philadelphia\":\"76ers\",\"Toronto\":\"Raptors\", \"Brooklyn\":\"Nets\",\"New York\":\"NY Knicks\",\n",
        "              \"Milwaukee\":\"Bucks\",\"Chicago\":\"Bulls\",\"Cleveland\":\"Cavaliers\",\"Indiana\":\"Pacers\",\n",
        "              \"Detroit\":\"Pistons\",\"Miami\":\"Heat\",\"Atlanta\":\"Hawks\",\"Charlotte\":\"Hornets\",\n",
        "              \"Washington\":\"Wizards\",\"Orlando\":\"Magic\",\"Utah\":\"Jazz\",\"Denver\":\"Nuggets\",\"Minnesota\":\"Timberwolves\",\n",
        "              \"Portland\":\"Trail Blazers\",\"Oklahoma City\":\"Thunder\",\"Phoenix\":\"Suns\",\"Golden State\":\"Warriors\",\n",
        "              \"L.A. Clippers\": \"Clippers\", \"L.A. Lakers\":\"Lakers\",\"Sacramento\":\"Kings\",\"Memphis\":\"Grizzlies\",\n",
        "              \"Dallas\":\"Mavericks\", \"New Orleans\":\"Knicks\",\"San Antonio\":\"Spurs\",\"Houston\":\"Rockets\"}\n",
        "\n",
        "nba_df['Team'] = nba_df['Team'].map(team_names)\n",
        "\n",
        "my_split = nba_df['Home Record'].str.split(\"-\", n = 1, expand = True)\n",
        "\n",
        "nba_df['Home Wins'] = my_split[0]\n",
        "\n",
        "nba_df['Home Losses'] = my_split[1]\n",
        "\n",
        "nba_df['Home Wins'] = pd.to_numeric(nba_df['Home Wins'])\n",
        "\n",
        "nba_df['Home Losses'] = pd.to_numeric(nba_df['Home Losses'])\n",
        "\n",
        "nba_df['Total Home Games'] = nba_df['Home Wins'] + nba_df['Home Losses']\n",
        "\n",
        "nba_df['Home Win Percent'] = (nba_df['Home Wins'] / nba_df['Total Home Games']) * 100\n",
        "\n",
        "my_split2 = nba_df['Away Record'].str.split(\"-\", n = 1, expand = True)\n",
        "\n",
        "nba_df['Away Wins'] = my_split2[0]\n",
        "\n",
        "nba_df['Away Losses'] = my_split2[1]\n",
        "\n",
        "nba_df['Away Wins'] = pd.to_numeric(nba_df['Away Wins'])\n",
        "\n",
        "nba_df['Away Losses'] = pd.to_numeric(nba_df['Away Losses'])\n",
        "\n",
        "nba_df['Total Away Games'] = nba_df['Away Wins'] + nba_df['Away Losses']\n",
        "\n",
        "nba_df['Away Win Percent'] = (nba_df['Away Wins'] / nba_df['Total Away Games']) * 100\n",
        "\n",
        "nba_df['Home Advantage'] = nba_df['Home Win Percent'] - nba_df['Away Win Percent']"
      ]
    },
    {
      "cell_type": "markdown",
      "source": [
        "#  MLB Data"
      ],
      "metadata": {
        "id": "2EFZGsAAiLTG"
      }
    },
    {
      "cell_type": "code",
      "source": [
        "# Home Record\n",
        "mlb_home = pd.read_html(\"https://www.teamrankings.com/mlb/trends/win_trends/?sc=is_home&range=yearly_mlb_2021\")\n",
        "\n",
        "mlb_home_df = mlb_home[0]\n",
        "\n",
        "mlb_home_df = mlb_home_df.drop(mlb_home_df.columns[[2,3,4]], axis=1)\n",
        "\n",
        "mlb_home_df.columns = (\"Team\", \"Home Record\")\n",
        "\n",
        "my_split = mlb_home_df['Home Record'].str.split(\"-\", n = 2, expand = True)\n",
        "\n",
        "mlb_home_df['Home Wins'] = my_split[0]\n",
        "\n",
        "mlb_home_df['Home Losses'] = my_split[1]\n",
        "\n",
        "mlb_home_df['Home Ties'] = my_split[2]\n",
        "\n",
        "mlb_home_df['Home Wins'] = pd.to_numeric(mlb_home_df['Home Wins'])\n",
        "\n",
        "mlb_home_df['Home Losses'] = pd.to_numeric(mlb_home_df['Home Losses'])\n",
        "\n",
        "mlb_home_df['Home Ties'] = pd.to_numeric(mlb_home_df['Home Ties'])\n",
        "\n",
        "mlb_home_df['Total Home Games'] = mlb_home_df['Home Wins'] + mlb_home_df['Home Losses'] + mlb_home_df['Home Ties']\n",
        "\n",
        "mlb_home_df['Home Win Percent'] = (mlb_home_df['Home Wins'] / mlb_home_df['Total Home Games']) * 100"
      ],
      "metadata": {
        "id": "FWAvRJ1qiN7A"
      },
      "execution_count": 84,
      "outputs": []
    },
    {
      "cell_type": "code",
      "source": [
        "# Away Record\n",
        "\n",
        "mlb_away = pd.read_html(\"https://www.teamrankings.com/mlb/trends/win_trends/?sc=is_away&range=yearly_mlb_2021\")\n",
        "\n",
        "mlb_away_df = mlb_away[0]\n",
        "\n",
        "mlb_away_df = mlb_away_df.drop(mlb_away_df.columns[[2,3,4]], axis=1)\n",
        "\n",
        "mlb_away_df.columns = (\"Team\", \"Away Record\")\n",
        "\n",
        "my_split2 = mlb_away_df['Away Record'].str.split(\"-\", n = 2, expand = True)\n",
        "\n",
        "mlb_away_df['Away Wins'] = my_split2[0]\n",
        "\n",
        "mlb_away_df['Away Losses'] = my_split2[1]\n",
        "\n",
        "mlb_away_df['Away Ties'] = my_split2[2]\n",
        "\n",
        "mlb_away_df['Away Wins'] = pd.to_numeric(mlb_away_df['Away Wins'])\n",
        "\n",
        "mlb_away_df['Away Losses'] = pd.to_numeric(mlb_away_df['Away Losses'])\n",
        "\n",
        "mlb_away_df['Away Ties'] = pd.to_numeric(mlb_away_df['Away Ties'])\n",
        "\n",
        "mlb_away_df['Total Away Games'] = mlb_away_df['Away Wins'] + mlb_away_df['Away Losses'] + mlb_away_df['Away Ties']\n",
        "\n",
        "mlb_away_df['Away Win Percent'] = (mlb_away_df['Away Wins'] / mlb_away_df['Total Away Games']) * 100"
      ],
      "metadata": {
        "id": "er_j0Eo1k_wj"
      },
      "execution_count": 85,
      "outputs": []
    },
    {
      "cell_type": "code",
      "source": [
        "# Merge\n",
        "mlb_df = pd.merge(mlb_home_df, mlb_away_df, on=[\"Team\", \"Team\"])\n",
        "\n",
        "mlb_df['Home Advantage'] = mlb_df['Home Win Percent'] - mlb_df['Away Win Percent']"
      ],
      "metadata": {
        "id": "Zq-ctWihlJjT"
      },
      "execution_count": 86,
      "outputs": []
    },
    {
      "cell_type": "markdown",
      "source": [
        "# NFL Data"
      ],
      "metadata": {
        "id": "RNxCYLM-leOz"
      }
    },
    {
      "cell_type": "code",
      "source": [
        "nfl = pd.read_html(\"https://www.nfl.com/standings/league/2021/reg\")\n",
        "\n",
        "nfl_df = nfl[0]\n",
        "\n",
        "nfl_df = nfl_df.drop(nfl_df.columns[[1,2,3,4,5,6,7,10,11,12,13,14,15,16]], axis=1)\n",
        "\n",
        "my_split = nfl_df['Home'].str.split(\"-\", n = 2, expand = True)\n",
        "\n",
        "nfl_df['Home Wins'] = my_split[0]\n",
        "\n",
        "nfl_df['Home Losses'] = my_split[1]\n",
        "\n",
        "nfl_df['Home Ties'] = my_split[2]\n",
        "\n",
        "nfl_df['Home Wins'] = pd.to_numeric(nfl_df['Home Wins'])\n",
        "\n",
        "nfl_df['Home Losses'] = pd.to_numeric(nfl_df['Home Losses'])\n",
        "\n",
        "nfl_df['Home Ties'] = pd.to_numeric(nfl_df['Home Ties'])\n",
        "\n",
        "nfl_df['Total Home Games'] = nfl_df['Home Wins'] + nfl_df['Home Losses'] + nfl_df['Home Ties']\n",
        "\n",
        "nfl_df['Home Win Percent'] = (nfl_df['Home Wins'] / nfl_df['Total Home Games']) * 100\n",
        "\n",
        "my_split2 = nfl_df['Road'].str.split(\"-\", n = 2, expand = True)\n",
        "\n",
        "nfl_df['Away Wins'] = my_split2[0]\n",
        "\n",
        "nfl_df['Away Losses'] = my_split2[1]\n",
        "\n",
        "nfl_df['Away Ties'] = my_split2[2]\n",
        "\n",
        "nfl_df['Away Wins'] = pd.to_numeric(nfl_df['Away Wins'])\n",
        "\n",
        "nfl_df['Away Losses'] = pd.to_numeric(nfl_df['Away Losses'])\n",
        "\n",
        "nfl_df['Away Ties'] = pd.to_numeric(nfl_df['Away Ties'])\n",
        "\n",
        "nfl_df['Total Away Games'] = nfl_df['Away Wins'] + nfl_df['Away Losses'] + nfl_df['Away Ties']\n",
        "\n",
        "nfl_df['Away Win Percent'] = (nfl_df['Away Wins'] / nfl_df['Total Away Games']) * 100\n",
        "\n",
        "nfl_df['Home Advantage'] = nfl_df['Home Win Percent'] - nfl_df['Away Win Percent']\n",
        "\n",
        "nfl_df.rename(columns = {\"NFL Team\": \"Team\"}, inplace = True)"
      ],
      "metadata": {
        "id": "5MHEsTo8lgS7"
      },
      "execution_count": 87,
      "outputs": []
    },
    {
      "cell_type": "markdown",
      "source": [
        "# MLS Data"
      ],
      "metadata": {
        "id": "YU5L6WeXnEeY"
      }
    },
    {
      "cell_type": "code",
      "source": [
        "# Home\n",
        "\n",
        "mls = pd.read_html(\"https://footballdatabase.com/league-scores-tables/united-states-mls-2021\")\n",
        "\n",
        "mls_home_df = mls[1]\n",
        "\n",
        "mls_home_df = mls_home_df.drop(mls_home_df.columns[[0,2,3,8,9]], axis=1)\n",
        "\n",
        "mls_home_df.columns = (\"Team\", \"Total Home Games\", \"Home Wins\", \"Home Ties\", \"Home Losses\")\n",
        "\n",
        "mls_home_df['Home Wins'] = pd.to_numeric(mls_home_df['Home Wins'])\n",
        "\n",
        "mls_home_df['Home Losses'] = pd.to_numeric(mls_home_df['Home Losses'])\n",
        "\n",
        "mls_home_df['Home Ties'] = pd.to_numeric(mls_home_df['Home Ties'])\n",
        "\n",
        "mls_home_df['Total Home Games'] = pd.to_numeric(mls_home_df['Total Home Games'])\n",
        "\n",
        "mls_home_df['Home Win Percent'] = (mls_home_df['Home Wins'] / mls_home_df['Total Home Games']) * 100"
      ],
      "metadata": {
        "id": "ozSBuz7znGik"
      },
      "execution_count": 88,
      "outputs": []
    },
    {
      "cell_type": "code",
      "source": [
        "# Away\n",
        "\n",
        "mls = pd.read_html(\"https://footballdatabase.com/league-scores-tables/united-states-mls-2021\")\n",
        "\n",
        "mls_away_df = mls[2]\n",
        "\n",
        "mls_away_df = mls_away_df.drop(mls_away_df.columns[[0,2,3,8,9]], axis=1)\n",
        "\n",
        "mls_away_df.columns = (\"Team\", \"Total Away Games\", \"Away Wins\", \"Away Ties\", \"Away Losses\")\n",
        "\n",
        "mls_away_df['Away Wins'] = pd.to_numeric(mls_away_df['Away Wins'])\n",
        "\n",
        "mls_away_df['Away Losses'] = pd.to_numeric(mls_away_df['Away Losses'])\n",
        "\n",
        "mls_away_df['Away Ties'] = pd.to_numeric(mls_away_df['Away Ties'])\n",
        "\n",
        "mls_away_df['Total Away Games'] = pd.to_numeric(mls_away_df['Total Away Games'])\n",
        "\n",
        "mls_away_df['Away Win Percent'] = (mls_away_df['Away Wins'] / mls_away_df['Total Away Games']) * 100"
      ],
      "metadata": {
        "id": "PNO8stvqnXBq"
      },
      "execution_count": 89,
      "outputs": []
    },
    {
      "cell_type": "code",
      "source": [
        "# Merge\n",
        "mls_df = pd.merge(mls_home_df, mls_away_df, on=[\"Team\", \"Team\"])\n",
        "\n",
        "mls_df['Home Advantage'] = mls_df['Home Win Percent'] - mls_df['Away Win Percent']"
      ],
      "metadata": {
        "id": "qd0tS50KrHfB"
      },
      "execution_count": 90,
      "outputs": []
    },
    {
      "cell_type": "markdown",
      "source": [
        "# Merged Data Frame"
      ],
      "metadata": {
        "id": "AwnMGcXGvGXf"
      }
    },
    {
      "cell_type": "code",
      "source": [
        "nba_df['Sport'] = 'Basketball'\n",
        "mlb_df['Sport'] = 'Baseball'\n",
        "nfl_df['Sport'] = 'Football'\n",
        "mls_df['Sport'] = 'Soccer'\n",
        "\n",
        "nba_df = nba_df[['Team', 'Home Win Percent', 'Away Win Percent', 'Home Advantage', 'Sport']]\n",
        "mlb_df = mlb_df[['Team', 'Home Win Percent', 'Away Win Percent', 'Home Advantage', 'Sport']]\n",
        "nfl_df = nfl_df[['Team', 'Home Win Percent', 'Away Win Percent', 'Home Advantage', 'Sport']]\n",
        "mls_df = mls_df[['Team', 'Home Win Percent', 'Away Win Percent', 'Home Advantage', 'Sport']]\n",
        "\n",
        "sports_df = pd.concat([nba_df, mlb_df, nfl_df, mls_df], axis=0)\n",
        "\n",
        "sports_df.head(5)"
      ],
      "metadata": {
        "colab": {
          "base_uri": "https://localhost:8080/",
          "height": 204
        },
        "id": "ONaJsclVvX4z",
        "outputId": "190c625c-7f31-42e3-b330-2754e03cb3aa"
      },
      "execution_count": 96,
      "outputs": [
        {
          "output_type": "execute_result",
          "data": {
            "text/plain": [
              "        Team  Home Win Percent  Away Win Percent  Home Advantage       Sport\n",
              "0    Celtics         68.292683         56.097561       12.195122  Basketball\n",
              "1      76ers         58.536585         65.853659       -7.317073  Basketball\n",
              "2    Raptors         58.536585         58.536585        0.000000  Basketball\n",
              "3       Nets         48.780488         58.536585       -9.756098  Basketball\n",
              "4  NY Knicks         41.463415         48.780488       -7.317073  Basketball"
            ],
            "text/html": [
              "\n",
              "  <div id=\"df-e494d67d-4e7d-496b-9bda-7d82a36c7378\">\n",
              "    <div class=\"colab-df-container\">\n",
              "      <div>\n",
              "<style scoped>\n",
              "    .dataframe tbody tr th:only-of-type {\n",
              "        vertical-align: middle;\n",
              "    }\n",
              "\n",
              "    .dataframe tbody tr th {\n",
              "        vertical-align: top;\n",
              "    }\n",
              "\n",
              "    .dataframe thead th {\n",
              "        text-align: right;\n",
              "    }\n",
              "</style>\n",
              "<table border=\"1\" class=\"dataframe\">\n",
              "  <thead>\n",
              "    <tr style=\"text-align: right;\">\n",
              "      <th></th>\n",
              "      <th>Team</th>\n",
              "      <th>Home Win Percent</th>\n",
              "      <th>Away Win Percent</th>\n",
              "      <th>Home Advantage</th>\n",
              "      <th>Sport</th>\n",
              "    </tr>\n",
              "  </thead>\n",
              "  <tbody>\n",
              "    <tr>\n",
              "      <th>0</th>\n",
              "      <td>Celtics</td>\n",
              "      <td>68.292683</td>\n",
              "      <td>56.097561</td>\n",
              "      <td>12.195122</td>\n",
              "      <td>Basketball</td>\n",
              "    </tr>\n",
              "    <tr>\n",
              "      <th>1</th>\n",
              "      <td>76ers</td>\n",
              "      <td>58.536585</td>\n",
              "      <td>65.853659</td>\n",
              "      <td>-7.317073</td>\n",
              "      <td>Basketball</td>\n",
              "    </tr>\n",
              "    <tr>\n",
              "      <th>2</th>\n",
              "      <td>Raptors</td>\n",
              "      <td>58.536585</td>\n",
              "      <td>58.536585</td>\n",
              "      <td>0.000000</td>\n",
              "      <td>Basketball</td>\n",
              "    </tr>\n",
              "    <tr>\n",
              "      <th>3</th>\n",
              "      <td>Nets</td>\n",
              "      <td>48.780488</td>\n",
              "      <td>58.536585</td>\n",
              "      <td>-9.756098</td>\n",
              "      <td>Basketball</td>\n",
              "    </tr>\n",
              "    <tr>\n",
              "      <th>4</th>\n",
              "      <td>NY Knicks</td>\n",
              "      <td>41.463415</td>\n",
              "      <td>48.780488</td>\n",
              "      <td>-7.317073</td>\n",
              "      <td>Basketball</td>\n",
              "    </tr>\n",
              "  </tbody>\n",
              "</table>\n",
              "</div>\n",
              "      <button class=\"colab-df-convert\" onclick=\"convertToInteractive('df-e494d67d-4e7d-496b-9bda-7d82a36c7378')\"\n",
              "              title=\"Convert this dataframe to an interactive table.\"\n",
              "              style=\"display:none;\">\n",
              "        \n",
              "  <svg xmlns=\"http://www.w3.org/2000/svg\" height=\"24px\"viewBox=\"0 0 24 24\"\n",
              "       width=\"24px\">\n",
              "    <path d=\"M0 0h24v24H0V0z\" fill=\"none\"/>\n",
              "    <path d=\"M18.56 5.44l.94 2.06.94-2.06 2.06-.94-2.06-.94-.94-2.06-.94 2.06-2.06.94zm-11 1L8.5 8.5l.94-2.06 2.06-.94-2.06-.94L8.5 2.5l-.94 2.06-2.06.94zm10 10l.94 2.06.94-2.06 2.06-.94-2.06-.94-.94-2.06-.94 2.06-2.06.94z\"/><path d=\"M17.41 7.96l-1.37-1.37c-.4-.4-.92-.59-1.43-.59-.52 0-1.04.2-1.43.59L10.3 9.45l-7.72 7.72c-.78.78-.78 2.05 0 2.83L4 21.41c.39.39.9.59 1.41.59.51 0 1.02-.2 1.41-.59l7.78-7.78 2.81-2.81c.8-.78.8-2.07 0-2.86zM5.41 20L4 18.59l7.72-7.72 1.47 1.35L5.41 20z\"/>\n",
              "  </svg>\n",
              "      </button>\n",
              "      \n",
              "  <style>\n",
              "    .colab-df-container {\n",
              "      display:flex;\n",
              "      flex-wrap:wrap;\n",
              "      gap: 12px;\n",
              "    }\n",
              "\n",
              "    .colab-df-convert {\n",
              "      background-color: #E8F0FE;\n",
              "      border: none;\n",
              "      border-radius: 50%;\n",
              "      cursor: pointer;\n",
              "      display: none;\n",
              "      fill: #1967D2;\n",
              "      height: 32px;\n",
              "      padding: 0 0 0 0;\n",
              "      width: 32px;\n",
              "    }\n",
              "\n",
              "    .colab-df-convert:hover {\n",
              "      background-color: #E2EBFA;\n",
              "      box-shadow: 0px 1px 2px rgba(60, 64, 67, 0.3), 0px 1px 3px 1px rgba(60, 64, 67, 0.15);\n",
              "      fill: #174EA6;\n",
              "    }\n",
              "\n",
              "    [theme=dark] .colab-df-convert {\n",
              "      background-color: #3B4455;\n",
              "      fill: #D2E3FC;\n",
              "    }\n",
              "\n",
              "    [theme=dark] .colab-df-convert:hover {\n",
              "      background-color: #434B5C;\n",
              "      box-shadow: 0px 1px 3px 1px rgba(0, 0, 0, 0.15);\n",
              "      filter: drop-shadow(0px 1px 2px rgba(0, 0, 0, 0.3));\n",
              "      fill: #FFFFFF;\n",
              "    }\n",
              "  </style>\n",
              "\n",
              "      <script>\n",
              "        const buttonEl =\n",
              "          document.querySelector('#df-e494d67d-4e7d-496b-9bda-7d82a36c7378 button.colab-df-convert');\n",
              "        buttonEl.style.display =\n",
              "          google.colab.kernel.accessAllowed ? 'block' : 'none';\n",
              "\n",
              "        async function convertToInteractive(key) {\n",
              "          const element = document.querySelector('#df-e494d67d-4e7d-496b-9bda-7d82a36c7378');\n",
              "          const dataTable =\n",
              "            await google.colab.kernel.invokeFunction('convertToInteractive',\n",
              "                                                     [key], {});\n",
              "          if (!dataTable) return;\n",
              "\n",
              "          const docLinkHtml = 'Like what you see? Visit the ' +\n",
              "            '<a target=\"_blank\" href=https://colab.research.google.com/notebooks/data_table.ipynb>data table notebook</a>'\n",
              "            + ' to learn more about interactive tables.';\n",
              "          element.innerHTML = '';\n",
              "          dataTable['output_type'] = 'display_data';\n",
              "          await google.colab.output.renderOutput(dataTable, element);\n",
              "          const docLink = document.createElement('div');\n",
              "          docLink.innerHTML = docLinkHtml;\n",
              "          element.appendChild(docLink);\n",
              "        }\n",
              "      </script>\n",
              "    </div>\n",
              "  </div>\n",
              "  "
            ]
          },
          "metadata": {},
          "execution_count": 96
        }
      ]
    },
    {
      "cell_type": "markdown",
      "source": [
        "# Visualizations"
      ],
      "metadata": {
        "id": "tfxlyoRtyKTN"
      }
    },
    {
      "cell_type": "code",
      "source": [
        "fig, ax = plt.subplots(figsize=(15, 12))\n",
        "\n",
        "ax = sns.boxplot(x='Sport', y='Home Advantage', data = sports_df, ax = ax, palette = \"Set1\")\n",
        "\n",
        "ax = sns.stripplot(x='Sport', y='Home Advantage', data = sports_df, color = \"orange\", jitter = 0.2, size = 5.5, ax = ax)\n",
        "\n",
        "\n",
        "# show the graph\n",
        "plt.show()"
      ],
      "metadata": {
        "colab": {
          "base_uri": "https://localhost:8080/",
          "height": 714
        },
        "id": "MDu_NXr_yOAX",
        "outputId": "320da5ee-7280-4b70-8db8-6de480d39820"
      },
      "execution_count": 98,
      "outputs": [
        {
          "output_type": "display_data",
          "data": {
            "text/plain": [
              "<Figure size 1080x864 with 1 Axes>"
            ],
            "image/png": "[encoded data removed]"
          },
          "metadata": {
            "needs_background": "light"
          }
        }
      ]
    }
  ]
}