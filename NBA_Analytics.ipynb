{
  "nbformat": 4,
  "nbformat_minor": 0,
  "metadata": {
    "colab": {
      "provenance": [],
      "toc_visible": true,
      "include_colab_link": true
    },
    "kernelspec": {
      "name": "python3",
      "display_name": "Python 3"
    },
    "language_info": {
      "name": "python"
    }
  },
  "cells": [
    {
      "cell_type": "markdown",
      "metadata": {
        "id": "view-in-github",
        "colab_type": "text"
      },
      "source": [
        "<a href=\"https://colab.research.google.com/github/jadinsstewart/Cloud-Services/blob/main/NBA_Analytics.ipynb\" target=\"_parent\"><img src=\"https://colab.research.google.com/assets/colab-badge.svg\" alt=\"Open In Colab\"/></a>"
      ]
    },
    {
      "cell_type": "markdown",
      "source": [
        "Ella Archie (ejarchie@calpoly.edu)\n",
        "\n",
        "Jadin Stewart (jsstewar@calpoly.edu)\n",
        "\n",
        "GSB S521-01\n",
        "\n",
        "February 26th, 2023\n",
        "\n",
        "# <center> **Impact of Home Game Attendance on Home Game Outcomes in the NBA** <center/>"
      ],
      "metadata": {
        "id": "N-Eyp6VleDMV"
      }
    },
    {
      "cell_type": "code",
      "execution_count": null,
      "metadata": {
        "id": "MeRlVteSduBa"
      },
      "outputs": [],
      "source": [
        "import pandas as pd  \n",
        "import json \n",
        "from urllib.request import urlopen \n",
        "import matplotlib.pyplot as plt\n",
        "import seaborn as sns\n",
        "import numpy as np\n",
        "from sklearn import datasets, linear_model\n",
        "from sklearn.linear_model import LinearRegression\n",
        "import statsmodels.api as sm\n",
        "from scipy import stats"
      ]
    },
    {
      "cell_type": "markdown",
      "source": [
        "# Introduction"
      ],
      "metadata": {
        "id": "wj_XZ3WDfuju"
      }
    },
    {
      "cell_type": "markdown",
      "source": [
        "All athletes and sports enthusiasts are familiar with the concept of \"Home Court Advantage\", and there are a myriad of factors that contribute to this phenomena. There is a known disparity between the amount of wins at home versus on the road, which can be partially accounted for by home teams being familiar with the court, not having to travel, the psychological advantage, and referee bias, but what about the impact of fan presence? We're interested in seeing if there is any correlation between fan attendance and home game wins. We are specifically looking at home game wins because we believe that high fan attendance at home is beneficial to the team as opposed to high fan attendance at away games where the fans will be rooting against the visiting players. For this reason we prioritized home games, under the assumption that most fans in attendance will be there to support the home team.  \n",
        "\n"
      ],
      "metadata": {
        "id": "crRGTZnsFZzH"
      }
    },
    {
      "cell_type": "markdown",
      "source": [
        "#About\n"
      ],
      "metadata": {
        "id": "N6R1gP6HJNZ_"
      }
    },
    {
      "cell_type": "markdown",
      "source": [
        "We utilized data from the following sources: \n",
        "\n",
        "Attendance data from the 2021-2022 season: http://www.espn.com/nba/attendance/_/year/2022\n",
        "\n",
        "NBA Team Standings from the 2021-2022 season: https://www.covers.com/sport/basketball/nba/standings/2021-2022"
      ],
      "metadata": {
        "id": "o6slp5RkJTM0"
      }
    },
    {
      "cell_type": "markdown",
      "source": [
        "# Hypothesis"
      ],
      "metadata": {
        "id": "vB3gTnSkfvlG"
      }
    },
    {
      "cell_type": "markdown",
      "source": [
        "Our hypothesis is that a greater percent of average home game fan attendance corresponds to greater percentage of home games won. "
      ],
      "metadata": {
        "id": "mnmR4nf_GCFJ"
      }
    },
    {
      "cell_type": "markdown",
      "source": [
        "# Attendance Data"
      ],
      "metadata": {
        "id": "VUJwA9xtfwoc"
      }
    },
    {
      "cell_type": "code",
      "source": [
        "attendance = pd.read_html(\"http://www.espn.com/nba/attendance/_/year/2022\", skiprows = 1)\n",
        "\n",
        "attendance_df = attendance[0]\n",
        "\n",
        "attendance_df = attendance_df.iloc[1:]\n",
        "\n",
        "attendance_df = attendance_df.drop(attendance_df.columns[[0,6,7,8,9,10,11]], axis=1)\n",
        "\n",
        "attendance_df = attendance_df.rename(columns={1: \"Team\", 2: \"Games Played\", 3: \"Total Attendance\", 4: \"Average Attendance\", 5: \"Average Attendance Percent\"})\n"
      ],
      "metadata": {
        "id": "JGVwpE99fzAY"
      },
      "execution_count": null,
      "outputs": []
    },
    {
      "cell_type": "markdown",
      "source": [
        "# Standings Data"
      ],
      "metadata": {
        "id": "qhvc7h1xubzb"
      }
    },
    {
      "cell_type": "code",
      "source": [
        "standings = pd.read_html(\"https://www.covers.com/sport/basketball/nba/standings/2021-2022\")\n",
        "\n",
        "standings_df = standings[0]\n",
        "\n",
        "standings_df = standings_df.drop(standings_df.columns[[5,6,7,8]], axis=1)\n",
        "\n",
        "standings_df.columns = (\"Team\", \"Wins\", \"Losses\", \"Win Percent\", \"Home Record\", \"a\", \"b\", \"c\", \"d\", \"e\")\n",
        "\n",
        "standings_df = standings_df.drop(columns=['a', 'b', 'c', 'd', 'e'])\n",
        "\n",
        "team_names = {\"Boston\":\"Celtics\",\"Philadelphia\":\"76ers\",\"Toronto\":\"Raptors\", \"Brooklyn\":\"Nets\",\"New York\":\"NY Knicks\",\n",
        "              \"Milwaukee\":\"Bucks\",\"Chicago\":\"Bulls\",\"Cleveland\":\"Cavaliers\",\"Indiana\":\"Pacers\",\n",
        "              \"Detroit\":\"Pistons\",\"Miami\":\"Heat\",\"Atlanta\":\"Hawks\",\"Charlotte\":\"Hornets\",\n",
        "              \"Washington\":\"Wizards\",\"Orlando\":\"Magic\",\"Utah\":\"Jazz\",\"Denver\":\"Nuggets\",\"Minnesota\":\"Timberwolves\",\n",
        "              \"Portland\":\"Trail Blazers\",\"Oklahoma City\":\"Thunder\",\"Phoenix\":\"Suns\",\"Golden State\":\"Warriors\",\n",
        "              \"L.A. Clippers\": \"Clippers\", \"L.A. Lakers\":\"Lakers\",\"Sacramento\":\"Kings\",\"Memphis\":\"Grizzlies\",\n",
        "              \"Dallas\":\"Mavericks\", \"New Orleans\":\"Knicks\",\"San Antonio\":\"Spurs\",\"Houston\":\"Rockets\"}\n",
        "\n",
        "standings_df['Team'] = standings_df['Team'].map(team_names)\n",
        "\n",
        "my_split = standings_df['Home Record'].str.split(\"-\", n = 1, expand = True)\n",
        "\n",
        "standings_df['Home Wins'] = my_split[0]\n",
        "\n",
        "standings_df['Home Losses'] = my_split[1]\n",
        "\n",
        "standings_df['Home Wins'] = pd.to_numeric(standings_df['Home Wins'])\n",
        "\n",
        "standings_df['Home Losses'] = pd.to_numeric(standings_df['Home Losses'])\n",
        "\n",
        "standings_df['Total Home Games'] = standings_df['Home Wins'] + standings_df['Home Losses']\n",
        "\n",
        "standings_df['Home Win Percent'] = (standings_df['Home Wins'] / standings_df['Total Home Games']) * 100"
      ],
      "metadata": {
        "id": "QnH2rWt3oMJy"
      },
      "execution_count": null,
      "outputs": []
    },
    {
      "cell_type": "markdown",
      "source": [
        "# Data Merge"
      ],
      "metadata": {
        "id": "Lv6rWo_DugGs"
      }
    },
    {
      "cell_type": "code",
      "source": [
        "# Merging our Data\n",
        "merged_df = pd.merge(attendance_df, standings_df, on=[\"Team\", \"Team\"])\n",
        "     \n",
        "merged_df = merged_df[['Team','Average Attendance Percent', 'Home Win Percent']]\n",
        "\n",
        "merged_df"
      ],
      "metadata": {
        "colab": {
          "base_uri": "https://localhost:8080/",
          "height": 948
        },
        "id": "Z_cFyEmOusmM",
        "outputId": "670f5f1d-7ece-40f1-9636-8cbd0b21af9b"
      },
      "execution_count": null,
      "outputs": [
        {
          "output_type": "execute_result",
          "data": {
            "text/plain": [
              "             Team Average Attendance Percent  Home Win Percent\n",
              "0           Bulls                       99.8         65.853659\n",
              "1           76ers                       98.4         58.536585\n",
              "2       Mavericks                      102.8         70.731707\n",
              "3            Heat                      100.1         70.731707\n",
              "4         Celtics                      100.0         68.292683\n",
              "5         Raptors                       95.3         58.536585\n",
              "6          Lakers                       97.8         51.219512\n",
              "7       NY Knicks                       94.0         41.463415\n",
              "8       Cavaliers                       95.2         60.975610\n",
              "9            Jazz                      100.0         70.731707\n",
              "10       Warriors                      100.0         75.609756\n",
              "11          Bucks                      100.6         65.853659\n",
              "12           Nets                       97.9         48.780488\n",
              "13  Trail Blazers                       88.5         41.463415\n",
              "14        Hornets                       89.6         53.658537\n",
              "15        Nuggets                       86.9         56.097561\n",
              "16       Clippers                       88.8         60.975610\n",
              "17           Suns                       91.8         78.048780\n",
              "18          Hawks                       97.2         65.853659\n",
              "19        Pistons                       79.6         31.707317\n",
              "20   Timberwolves                       84.5         63.414634\n",
              "21      Grizzlies                       85.7         73.170732\n",
              "22        Rockets                       86.3         26.829268\n",
              "23        Wizards                       75.4         51.219512\n",
              "24          Magic                       80.6         29.268293\n",
              "25          Spurs                       81.8         39.024390\n",
              "26        Thunder                       81.7         29.268293\n",
              "27          Kings                       82.1         39.024390\n",
              "28         Pacers                       80.1         39.024390"
            ],
            "text/html": [
              "\n",
              "  <div id=\"df-89318911-c698-4e5b-9cbf-b7ccbad8c089\">\n",
              "    <div class=\"colab-df-container\">\n",
              "      <div>\n",
              "<style scoped>\n",
              "    .dataframe tbody tr th:only-of-type {\n",
              "        vertical-align: middle;\n",
              "    }\n",
              "\n",
              "    .dataframe tbody tr th {\n",
              "        vertical-align: top;\n",
              "    }\n",
              "\n",
              "    .dataframe thead th {\n",
              "        text-align: right;\n",
              "    }\n",
              "</style>\n",
              "<table border=\"1\" class=\"dataframe\">\n",
              "  <thead>\n",
              "    <tr style=\"text-align: right;\">\n",
              "      <th></th>\n",
              "      <th>Team</th>\n",
              "      <th>Average Attendance Percent</th>\n",
              "      <th>Home Win Percent</th>\n",
              "    </tr>\n",
              "  </thead>\n",
              "  <tbody>\n",
              "    <tr>\n",
              "      <th>0</th>\n",
              "      <td>Bulls</td>\n",
              "      <td>99.8</td>\n",
              "      <td>65.853659</td>\n",
              "    </tr>\n",
              "    <tr>\n",
              "      <th>1</th>\n",
              "      <td>76ers</td>\n",
              "      <td>98.4</td>\n",
              "      <td>58.536585</td>\n",
              "    </tr>\n",
              "    <tr>\n",
              "      <th>2</th>\n",
              "      <td>Mavericks</td>\n",
              "      <td>102.8</td>\n",
              "      <td>70.731707</td>\n",
              "    </tr>\n",
              "    <tr>\n",
              "      <th>3</th>\n",
              "      <td>Heat</td>\n",
              "      <td>100.1</td>\n",
              "      <td>70.731707</td>\n",
              "    </tr>\n",
              "    <tr>\n",
              "      <th>4</th>\n",
              "      <td>Celtics</td>\n",
              "      <td>100.0</td>\n",
              "      <td>68.292683</td>\n",
              "    </tr>\n",
              "    <tr>\n",
              "      <th>5</th>\n",
              "      <td>Raptors</td>\n",
              "      <td>95.3</td>\n",
              "      <td>58.536585</td>\n",
              "    </tr>\n",
              "    <tr>\n",
              "      <th>6</th>\n",
              "      <td>Lakers</td>\n",
              "      <td>97.8</td>\n",
              "      <td>51.219512</td>\n",
              "    </tr>\n",
              "    <tr>\n",
              "      <th>7</th>\n",
              "      <td>NY Knicks</td>\n",
              "      <td>94.0</td>\n",
              "      <td>41.463415</td>\n",
              "    </tr>\n",
              "    <tr>\n",
              "      <th>8</th>\n",
              "      <td>Cavaliers</td>\n",
              "      <td>95.2</td>\n",
              "      <td>60.975610</td>\n",
              "    </tr>\n",
              "    <tr>\n",
              "      <th>9</th>\n",
              "      <td>Jazz</td>\n",
              "      <td>100.0</td>\n",
              "      <td>70.731707</td>\n",
              "    </tr>\n",
              "    <tr>\n",
              "      <th>10</th>\n",
              "      <td>Warriors</td>\n",
              "      <td>100.0</td>\n",
              "      <td>75.609756</td>\n",
              "    </tr>\n",
              "    <tr>\n",
              "      <th>11</th>\n",
              "      <td>Bucks</td>\n",
              "      <td>100.6</td>\n",
              "      <td>65.853659</td>\n",
              "    </tr>\n",
              "    <tr>\n",
              "      <th>12</th>\n",
              "      <td>Nets</td>\n",
              "      <td>97.9</td>\n",
              "      <td>48.780488</td>\n",
              "    </tr>\n",
              "    <tr>\n",
              "      <th>13</th>\n",
              "      <td>Trail Blazers</td>\n",
              "      <td>88.5</td>\n",
              "      <td>41.463415</td>\n",
              "    </tr>\n",
              "    <tr>\n",
              "      <th>14</th>\n",
              "      <td>Hornets</td>\n",
              "      <td>89.6</td>\n",
              "      <td>53.658537</td>\n",
              "    </tr>\n",
              "    <tr>\n",
              "      <th>15</th>\n",
              "      <td>Nuggets</td>\n",
              "      <td>86.9</td>\n",
              "      <td>56.097561</td>\n",
              "    </tr>\n",
              "    <tr>\n",
              "      <th>16</th>\n",
              "      <td>Clippers</td>\n",
              "      <td>88.8</td>\n",
              "      <td>60.975610</td>\n",
              "    </tr>\n",
              "    <tr>\n",
              "      <th>17</th>\n",
              "      <td>Suns</td>\n",
              "      <td>91.8</td>\n",
              "      <td>78.048780</td>\n",
              "    </tr>\n",
              "    <tr>\n",
              "      <th>18</th>\n",
              "      <td>Hawks</td>\n",
              "      <td>97.2</td>\n",
              "      <td>65.853659</td>\n",
              "    </tr>\n",
              "    <tr>\n",
              "      <th>19</th>\n",
              "      <td>Pistons</td>\n",
              "      <td>79.6</td>\n",
              "      <td>31.707317</td>\n",
              "    </tr>\n",
              "    <tr>\n",
              "      <th>20</th>\n",
              "      <td>Timberwolves</td>\n",
              "      <td>84.5</td>\n",
              "      <td>63.414634</td>\n",
              "    </tr>\n",
              "    <tr>\n",
              "      <th>21</th>\n",
              "      <td>Grizzlies</td>\n",
              "      <td>85.7</td>\n",
              "      <td>73.170732</td>\n",
              "    </tr>\n",
              "    <tr>\n",
              "      <th>22</th>\n",
              "      <td>Rockets</td>\n",
              "      <td>86.3</td>\n",
              "      <td>26.829268</td>\n",
              "    </tr>\n",
              "    <tr>\n",
              "      <th>23</th>\n",
              "      <td>Wizards</td>\n",
              "      <td>75.4</td>\n",
              "      <td>51.219512</td>\n",
              "    </tr>\n",
              "    <tr>\n",
              "      <th>24</th>\n",
              "      <td>Magic</td>\n",
              "      <td>80.6</td>\n",
              "      <td>29.268293</td>\n",
              "    </tr>\n",
              "    <tr>\n",
              "      <th>25</th>\n",
              "      <td>Spurs</td>\n",
              "      <td>81.8</td>\n",
              "      <td>39.024390</td>\n",
              "    </tr>\n",
              "    <tr>\n",
              "      <th>26</th>\n",
              "      <td>Thunder</td>\n",
              "      <td>81.7</td>\n",
              "      <td>29.268293</td>\n",
              "    </tr>\n",
              "    <tr>\n",
              "      <th>27</th>\n",
              "      <td>Kings</td>\n",
              "      <td>82.1</td>\n",
              "      <td>39.024390</td>\n",
              "    </tr>\n",
              "    <tr>\n",
              "      <th>28</th>\n",
              "      <td>Pacers</td>\n",
              "      <td>80.1</td>\n",
              "      <td>39.024390</td>\n",
              "    </tr>\n",
              "  </tbody>\n",
              "</table>\n",
              "</div>\n",
              "      <button class=\"colab-df-convert\" onclick=\"convertToInteractive('df-89318911-c698-4e5b-9cbf-b7ccbad8c089')\"\n",
              "              title=\"Convert this dataframe to an interactive table.\"\n",
              "              style=\"display:none;\">\n",
              "        \n",
              "  <svg xmlns=\"http://www.w3.org/2000/svg\" height=\"24px\"viewBox=\"0 0 24 24\"\n",
              "       width=\"24px\">\n",
              "    <path d=\"M0 0h24v24H0V0z\" fill=\"none\"/>\n",
              "    <path d=\"M18.56 5.44l.94 2.06.94-2.06 2.06-.94-2.06-.94-.94-2.06-.94 2.06-2.06.94zm-11 1L8.5 8.5l.94-2.06 2.06-.94-2.06-.94L8.5 2.5l-.94 2.06-2.06.94zm10 10l.94 2.06.94-2.06 2.06-.94-2.06-.94-.94-2.06-.94 2.06-2.06.94z\"/><path d=\"M17.41 7.96l-1.37-1.37c-.4-.4-.92-.59-1.43-.59-.52 0-1.04.2-1.43.59L10.3 9.45l-7.72 7.72c-.78.78-.78 2.05 0 2.83L4 21.41c.39.39.9.59 1.41.59.51 0 1.02-.2 1.41-.59l7.78-7.78 2.81-2.81c.8-.78.8-2.07 0-2.86zM5.41 20L4 18.59l7.72-7.72 1.47 1.35L5.41 20z\"/>\n",
              "  </svg>\n",
              "      </button>\n",
              "      \n",
              "  <style>\n",
              "    .colab-df-container {\n",
              "      display:flex;\n",
              "      flex-wrap:wrap;\n",
              "      gap: 12px;\n",
              "    }\n",
              "\n",
              "    .colab-df-convert {\n",
              "      background-color: #E8F0FE;\n",
              "      border: none;\n",
              "      border-radius: 50%;\n",
              "      cursor: pointer;\n",
              "      display: none;\n",
              "      fill: #1967D2;\n",
              "      height: 32px;\n",
              "      padding: 0 0 0 0;\n",
              "      width: 32px;\n",
              "    }\n",
              "\n",
              "    .colab-df-convert:hover {\n",
              "      background-color: #E2EBFA;\n",
              "      box-shadow: 0px 1px 2px rgba(60, 64, 67, 0.3), 0px 1px 3px 1px rgba(60, 64, 67, 0.15);\n",
              "      fill: #174EA6;\n",
              "    }\n",
              "\n",
              "    [theme=dark] .colab-df-convert {\n",
              "      background-color: #3B4455;\n",
              "      fill: #D2E3FC;\n",
              "    }\n",
              "\n",
              "    [theme=dark] .colab-df-convert:hover {\n",
              "      background-color: #434B5C;\n",
              "      box-shadow: 0px 1px 3px 1px rgba(0, 0, 0, 0.15);\n",
              "      filter: drop-shadow(0px 1px 2px rgba(0, 0, 0, 0.3));\n",
              "      fill: #FFFFFF;\n",
              "    }\n",
              "  </style>\n",
              "\n",
              "      <script>\n",
              "        const buttonEl =\n",
              "          document.querySelector('#df-89318911-c698-4e5b-9cbf-b7ccbad8c089 button.colab-df-convert');\n",
              "        buttonEl.style.display =\n",
              "          google.colab.kernel.accessAllowed ? 'block' : 'none';\n",
              "\n",
              "        async function convertToInteractive(key) {\n",
              "          const element = document.querySelector('#df-89318911-c698-4e5b-9cbf-b7ccbad8c089');\n",
              "          const dataTable =\n",
              "            await google.colab.kernel.invokeFunction('convertToInteractive',\n",
              "                                                     [key], {});\n",
              "          if (!dataTable) return;\n",
              "\n",
              "          const docLinkHtml = 'Like what you see? Visit the ' +\n",
              "            '<a target=\"_blank\" href=https://colab.research.google.com/notebooks/data_table.ipynb>data table notebook</a>'\n",
              "            + ' to learn more about interactive tables.';\n",
              "          element.innerHTML = '';\n",
              "          dataTable['output_type'] = 'display_data';\n",
              "          await google.colab.output.renderOutput(dataTable, element);\n",
              "          const docLink = document.createElement('div');\n",
              "          docLink.innerHTML = docLinkHtml;\n",
              "          element.appendChild(docLink);\n",
              "        }\n",
              "      </script>\n",
              "    </div>\n",
              "  </div>\n",
              "  "
            ]
          },
          "metadata": {},
          "execution_count": 4
        }
      ]
    },
    {
      "cell_type": "code",
      "source": [
        "# checking the types \n",
        "merged_df.dtypes"
      ],
      "metadata": {
        "colab": {
          "base_uri": "https://localhost:8080/"
        },
        "id": "Jaqj7jKjRZH9",
        "outputId": "c17fccfe-02bd-431f-8329-e1035dc9fd40"
      },
      "execution_count": null,
      "outputs": [
        {
          "output_type": "execute_result",
          "data": {
            "text/plain": [
              "Team                           object\n",
              "Average Attendance Percent     object\n",
              "Home Win Percent              float64\n",
              "dtype: object"
            ]
          },
          "metadata": {},
          "execution_count": 5
        }
      ]
    },
    {
      "cell_type": "code",
      "source": [
        "# converting 'Average Attendance Percent' into numeric \n",
        "merged_df[\"Average Attendance Percent\"] = pd.to_numeric(merged_df[\"Average Attendance Percent\"])"
      ],
      "metadata": {
        "id": "Big29-VHRjEb"
      },
      "execution_count": null,
      "outputs": []
    },
    {
      "cell_type": "markdown",
      "source": [
        "#Exploring the Data"
      ],
      "metadata": {
        "id": "_vmKneeuORVU"
      }
    },
    {
      "cell_type": "code",
      "source": [
        "# Average Attendance Percent Descending \n",
        "\n",
        "df_descending = merged_df.sort_values(\"Average Attendance Percent\",ascending=False)\n",
        "\n",
        "desc = df_descending[[\"Team\",\"Average Attendance Percent\", \"Home Win Percent\"]]\n",
        "\n",
        "# top 10 teams\n",
        "print(desc.head(10))"
      ],
      "metadata": {
        "colab": {
          "base_uri": "https://localhost:8080/"
        },
        "id": "2tPiwzLGKY0b",
        "outputId": "d8715596-9703-4498-df0d-7beda048ad31"
      },
      "execution_count": null,
      "outputs": [
        {
          "output_type": "stream",
          "name": "stdout",
          "text": [
            "         Team  Average Attendance Percent  Home Win Percent\n",
            "2   Mavericks                       102.8         70.731707\n",
            "11      Bucks                       100.6         65.853659\n",
            "3        Heat                       100.1         70.731707\n",
            "4     Celtics                       100.0         68.292683\n",
            "9        Jazz                       100.0         70.731707\n",
            "10   Warriors                       100.0         75.609756\n",
            "0       Bulls                        99.8         65.853659\n",
            "1       76ers                        98.4         58.536585\n",
            "12       Nets                        97.9         48.780488\n",
            "6      Lakers                        97.8         51.219512\n"
          ]
        }
      ]
    },
    {
      "cell_type": "code",
      "source": [
        "# Average Attendance Percent Ascending\n",
        "\n",
        "df_ascending = merged_df.sort_values(\"Average Attendance Percent\", ascending = True)\n",
        "\n",
        "asc = df_ascending[[\"Team\",\"Average Attendance Percent\", \"Home Win Percent\"]]\n",
        "\n",
        "# bottom 10 teams \n",
        "print(asc.head(10))"
      ],
      "metadata": {
        "colab": {
          "base_uri": "https://localhost:8080/"
        },
        "id": "f4nQWo92MnPT",
        "outputId": "9333f13a-ac66-49ba-da32-38f517a091ca"
      },
      "execution_count": null,
      "outputs": [
        {
          "output_type": "stream",
          "name": "stdout",
          "text": [
            "            Team  Average Attendance Percent  Home Win Percent\n",
            "23       Wizards                        75.4         51.219512\n",
            "19       Pistons                        79.6         31.707317\n",
            "28        Pacers                        80.1         39.024390\n",
            "24         Magic                        80.6         29.268293\n",
            "26       Thunder                        81.7         29.268293\n",
            "25         Spurs                        81.8         39.024390\n",
            "27         Kings                        82.1         39.024390\n",
            "20  Timberwolves                        84.5         63.414634\n",
            "21     Grizzlies                        85.7         73.170732\n",
            "22       Rockets                        86.3         26.829268\n"
          ]
        }
      ]
    },
    {
      "cell_type": "code",
      "source": [
        "# arranged by Home Win Percent Descending\n",
        "\n",
        "df_descending = merged_df.sort_values(\"Home Win Percent\",ascending=False)\n",
        "\n",
        "desc = df_descending[[\"Team\",\"Home Win Percent\", \"Average Attendance Percent\"]]\n",
        "\n",
        "# top 10 \n",
        "print(desc.head(10))\n"
      ],
      "metadata": {
        "colab": {
          "base_uri": "https://localhost:8080/"
        },
        "id": "nWMnlh7xNrmn",
        "outputId": "bbd52861-0932-41f6-f757-dcfafd371784"
      },
      "execution_count": null,
      "outputs": [
        {
          "output_type": "stream",
          "name": "stdout",
          "text": [
            "         Team  Home Win Percent  Average Attendance Percent\n",
            "17       Suns         78.048780                        91.8\n",
            "10   Warriors         75.609756                       100.0\n",
            "21  Grizzlies         73.170732                        85.7\n",
            "2   Mavericks         70.731707                       102.8\n",
            "3        Heat         70.731707                       100.1\n",
            "9        Jazz         70.731707                       100.0\n",
            "4     Celtics         68.292683                       100.0\n",
            "0       Bulls         65.853659                        99.8\n",
            "11      Bucks         65.853659                       100.6\n",
            "18      Hawks         65.853659                        97.2\n"
          ]
        }
      ]
    },
    {
      "cell_type": "code",
      "source": [
        "# arranged by Home Win Percent Ascending \n",
        "\n",
        "df_ascending = merged_df.sort_values(\"Home Win Percent\", ascending = True)\n",
        "\n",
        "asc = df_ascending[[\"Team\",\"Home Win Percent\", \"Average Attendance Percent\"]]\n",
        "\n",
        "# bottom 10 \n",
        "print(asc.head(10))"
      ],
      "metadata": {
        "colab": {
          "base_uri": "https://localhost:8080/"
        },
        "id": "Zq1Q7PO-N--y",
        "outputId": "650fb656-a4f1-4fc9-d735-4dc865eb2b3a"
      },
      "execution_count": null,
      "outputs": [
        {
          "output_type": "stream",
          "name": "stdout",
          "text": [
            "             Team  Home Win Percent  Average Attendance Percent\n",
            "22        Rockets         26.829268                        86.3\n",
            "26        Thunder         29.268293                        81.7\n",
            "24          Magic         29.268293                        80.6\n",
            "19        Pistons         31.707317                        79.6\n",
            "28         Pacers         39.024390                        80.1\n",
            "25          Spurs         39.024390                        81.8\n",
            "27          Kings         39.024390                        82.1\n",
            "7       NY Knicks         41.463415                        94.0\n",
            "13  Trail Blazers         41.463415                        88.5\n",
            "12           Nets         48.780488                        97.9\n"
          ]
        }
      ]
    },
    {
      "cell_type": "markdown",
      "source": [
        "#Visualizations\n"
      ],
      "metadata": {
        "id": "JGEP_gEfOWWR"
      }
    },
    {
      "cell_type": "code",
      "source": [
        "# scatterplot\n",
        "\n",
        "merged_df.plot.scatter(x=\"Home Win Percent\", y=\"Average Attendance Percent\")\n"
      ],
      "metadata": {
        "colab": {
          "base_uri": "https://localhost:8080/",
          "height": 296
        },
        "id": "YcnqxlRyPU4D",
        "outputId": "aad3ae0e-d727-40f5-d376-1e23a4ee32b5"
      },
      "execution_count": null,
      "outputs": [
        {
          "output_type": "execute_result",
          "data": {
            "text/plain": [
              "<AxesSubplot:xlabel='Home Win Percent', ylabel='Average Attendance Percent'>"
            ]
          },
          "metadata": {},
          "execution_count": 15
        },
        {
          "output_type": "display_data",
          "data": {
            "text/plain": [
              "<Figure size 432x288 with 1 Axes>"
            ],
            "image/png": "[encoded data removed]"
          },
          "metadata": {
            "needs_background": "light"
          }
        }
      ]
    },
    {
      "cell_type": "markdown",
      "source": [
        "Visually, there does appear to be some correlation between the Home Win Percentage and the Average Atttendance Percentage. The relationship appears positive with a trend of teams with higher attendance also having higher win percents. "
      ],
      "metadata": {
        "id": "bDtvS20jS__Y"
      }
    },
    {
      "cell_type": "code",
      "source": [
        "sns.scatterplot(data = merged_df, x=\"Home Win Percent\", y=\"Average Attendance Percent\", hue= \"Team\").set(title = \"Home Win Percent versus Average Attendance Percent by NBA Team\")\n",
        "plt.ylim(75,105)\n",
        "plt.legend(bbox_to_anchor=(1.02, 1), loc='upper left', borderaxespad=0)"
      ],
      "metadata": {
        "colab": {
          "base_uri": "https://localhost:8080/",
          "height": 502
        },
        "id": "lDhBsrydV5fI",
        "outputId": "aff802e9-3b81-4169-faf8-56297e3a22d7"
      },
      "execution_count": null,
      "outputs": [
        {
          "output_type": "execute_result",
          "data": {
            "text/plain": [
              "<matplotlib.legend.Legend at 0x7f1708741640>"
            ]
          },
          "metadata": {},
          "execution_count": 12
        },
        {
          "output_type": "display_data",
          "data": {
            "text/plain": [
              "<Figure size 432x288 with 1 Axes>"
            ],
            "image/png": "[encoded data removed]"
          },
          "metadata": {
            "needs_background": "light"
          }
        }
      ]
    },
    {
      "cell_type": "markdown",
      "source": [
        "#Statistical Analysis"
      ],
      "metadata": {
        "id": "IDgSgj0_O7Zd"
      }
    },
    {
      "cell_type": "markdown",
      "source": [
        "Null: Average attendance percentage has no correlation with home win percentage.\n",
        "\n",
        "Alternative: Average attendance percentage has a statistically significant correlation with home win percentage."
      ],
      "metadata": {
        "id": "s7gIO44nuAll"
      }
    },
    {
      "cell_type": "code",
      "source": [
        "x = np.array(merged_df[\"Average Attendance Percent\"]).reshape((-1, 1))\n",
        "y = np.array(merged_df[\"Home Win Percent\"])\n",
        "\n",
        "x2 = sm.add_constant(x)\n",
        "est = sm.OLS(y, x2)\n",
        "est2 = est.fit()\n",
        "\n",
        "print(est2.summary())"
      ],
      "metadata": {
        "colab": {
          "base_uri": "https://localhost:8080/"
        },
        "id": "TmMNkS0QvNty",
        "outputId": "62ff409a-e104-4dd7-c330-f610ca7b72bf"
      },
      "execution_count": null,
      "outputs": [
        {
          "output_type": "stream",
          "name": "stdout",
          "text": [
            "                            OLS Regression Results                            \n",
            "==============================================================================\n",
            "Dep. Variable:                      y   R-squared:                       0.442\n",
            "Model:                            OLS   Adj. R-squared:                  0.421\n",
            "Method:                 Least Squares   F-statistic:                     21.36\n",
            "Date:                Tue, 28 Feb 2023   Prob (F-statistic):           8.41e-05\n",
            "Time:                        02:05:44   Log-Likelihood:                -111.36\n",
            "No. Observations:                  29   AIC:                             226.7\n",
            "Df Residuals:                      27   BIC:                             229.5\n",
            "Df Model:                           1                                         \n",
            "Covariance Type:            nonrobust                                         \n",
            "==============================================================================\n",
            "                 coef    std err          t      P>|t|      [0.025      0.975]\n",
            "------------------------------------------------------------------------------\n",
            "const        -59.9057     24.883     -2.407      0.023    -110.962      -8.850\n",
            "x1             1.2574      0.272      4.622      0.000       0.699       1.816\n",
            "==============================================================================\n",
            "Omnibus:                        0.706   Durbin-Watson:                   1.962\n",
            "Prob(Omnibus):                  0.703   Jarque-Bera (JB):                0.578\n",
            "Skew:                           0.323   Prob(JB):                        0.749\n",
            "Kurtosis:                       2.754   Cond. No.                     1.05e+03\n",
            "==============================================================================\n",
            "\n",
            "Notes:\n",
            "[1] Standard Errors assume that the covariance matrix of the errors is correctly specified.\n",
            "[2] The condition number is large, 1.05e+03. This might indicate that there are\n",
            "strong multicollinearity or other numerical problems.\n"
          ]
        }
      ]
    },
    {
      "cell_type": "markdown",
      "source": [
        "Regression Coefficient Test Statistic: 0.272\n",
        "\n",
        "Regression Coefficient P-Value: 0.000\n",
        "\n",
        "Conclusion: Reject the null hypothesis. The average home game attendance is statistically significant in predicting home win percent."
      ],
      "metadata": {
        "id": "Dt0F6DMJzYU3"
      }
    },
    {
      "cell_type": "markdown",
      "source": [
        "#Findings"
      ],
      "metadata": {
        "id": "eabkeBdsOkZU"
      }
    },
    {
      "cell_type": "markdown",
      "source": [
        "Overall, we see evidence that average home game attendance is correlated with home win percentage. While our analysis supported our original hypothesis, we are curious in taking this investigation a step further and looking into possible confounding variables. In addition, we also must consider that this data only represents one season so a team that is generally good (high fan attendance) but is struggling in that particular season might still have high fan attendance even if their record sucks."
      ],
      "metadata": {
        "id": "alc26fuF0keY"
      }
    }
  ]
}